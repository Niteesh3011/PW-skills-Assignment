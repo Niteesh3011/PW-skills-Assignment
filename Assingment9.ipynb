{
 "cells": [
  {
   "cell_type": "markdown",
   "id": "0e322d16",
   "metadata": {},
   "source": [
    "# Statistics Basics| Assignment"
   ]
  },
  {
   "cell_type": "markdown",
   "id": "458598e0",
   "metadata": {},
   "source": [
    "##### Instructions:\n",
    " Carefully read each question. Use Google Docs, Microsoft Word, or a similar tool\n",
    "to create a document where you type out each question along with its answer. Save the\n",
    "document as a PDF, and then upload it to the LMS. Please do not zip or archive the files before\n",
    "uploading them. Each question carries 20 marks.\n",
    "##### Total Marks: 200\n",
    "\n"
   ]
  },
  {
   "cell_type": "markdown",
   "id": "93ec49e0",
   "metadata": {},
   "source": [
    "##### Question 1: \n",
    "What is the difference between descriptive statistics and inferential\n",
    "statistics? Explain with examples."
   ]
  },
  {
   "cell_type": "markdown",
   "id": "57046f20",
   "metadata": {},
   "source": [
    "Answer ->\n",
    "Descriptive Statistics Explained\n",
    "Think of descriptive statistics as creating a \"profile\" of your data. It helps you understand the basic characteristics of the information you've collected.\n",
    "\n",
    "Key tools of descriptive statistics include:\n",
    "\n",
    "Measures of Central Tendency: These tell you where the \"center\" of your data lies.\n",
    "\n",
    "Mean: The average of all the data points.\n",
    "\n",
    "Median: The middle value when the data is arranged in order.\n",
    "\n",
    "Mode: The value that appears most frequently.\n",
    "\n",
    "Measures of Spread (or Variability): These describe how spread out your data is.\n",
    "\n",
    "Range: The difference between the highest and lowest values.\n",
    "\n",
    "Variance: The average of the squared differences from the Mean.\n",
    "\n",
    "Standard Deviation: The square root of the variance, indicating the average distance of data points from the mean.\n",
    "\n",
    "Examples of Descriptive Statistics\n",
    "Classroom Grades: A teacher calculates the average (mean) score on a test to understand the overall performance of the class. They might also look at the range of scores to see the difference between the highest and lowest marks.\n",
    "\n",
    "\n",
    "Website Traffic: A marketing manager tracks the total number of visitors to a website each day for a month. They could then calculate the average daily visitors.\n",
    "\n",
    "Sports Performance: A baseball analyst calculates a player's batting average for the season.\n",
    "\n",
    "Inferential Statistics Explained\n",
    "Inferential statistics takes the data from a smaller group (a sample) and uses it to make educated guesses or draw conclusions about a much larger group (the population). Since we are making inferences, there is always an element of uncertainty.\n",
    "\n",
    "Common methods in inferential statistics include:\n",
    "\n",
    "Hypothesis Testing: This is a formal process to test a claim or hypothesis about a population. For example, testing if a new drug is more effective than an existing one.\n",
    "\n",
    "\n",
    "Confidence Intervals: This provides a range of values within which the true population parameter is likely to fall. For instance, a poll might state that a candidate has 45% of the vote with a margin of error of +/- 3%.\n",
    "\n",
    "Regression Analysis: This is used to model the relationship between two or more variables. For example, predicting house prices based on factors like size and location.\n",
    "\n",
    "Examples of Inferential Statistics\n",
    "Political Polls: A polling organization surveys a sample of 1,000 voters to predict the outcome of a national election involving millions of voters.\n",
    "\n",
    "Medical Research: Researchers test a new vaccine on a small group of volunteers to infer its effectiveness and safety for the entire population.\n",
    "\n",
    "Quality Control in Manufacturing: A factory inspects a sample of products from an assembly line to determine if the entire batch meets quality standards."
   ]
  },
  {
   "cell_type": "markdown",
   "id": "e93be874",
   "metadata": {},
   "source": [
    "##### Question 2: \n",
    "What is sampling in statistics? Explain the differences between random\n",
    "and stratified sampling.\n"
   ]
  },
  {
   "cell_type": "markdown",
   "id": "722aa37c",
   "metadata": {},
   "source": [
    "Answer ->\n",
    "\n",
    "Random Sampling Explained\n",
    "Imagine you want to know the average height of students in a large school. With random sampling, you could assign each student a number and then use a random number generator to pick 100 students to measure.\n",
    "\n",
    "How it works: Every member of the population has an equal and independent chance of being selected.\n",
    "\n",
    "Analogy: It's like putting everyone's name into a hat and drawing out a certain number of names.\n",
    "\n",
    "Advantage: It's the most straightforward sampling method.\n",
    "\n",
    "Disadvantage: By pure chance, your sample might not be representative of the population. For example, you might accidentally select a disproportionate number of students from a single grade level.\n",
    "\n",
    "Stratified Sampling Explained\n",
    "Now, let's use the same school example but with stratified sampling. First, you would divide the student population into subgroups, such as by grade level (e.g., 9th, 10th, 11th, and 12th graders). Then, you would take a random sample of students from each grade level.\n",
    "\n",
    "How it works: The population is divided into distinct strata based on shared attributes (like age, gender, or location). A random sample is then drawn from each stratum.\n",
    "\n",
    "\n",
    "Analogy: It's like having separate hats for each grade level, and you draw a few names from each hat.\n",
    "\n",
    "Advantage: This method guarantees that your sample will be representative of the population's diversity across the chosen strata.\n",
    "\n",
    "Disadvantage: It requires you to have prior knowledge about the population's characteristics to create the strata, which can make it more complex."
   ]
  },
  {
   "cell_type": "markdown",
   "id": "86a2a819",
   "metadata": {},
   "source": [
    "##### Question 3: \n",
    "Define mean, median, and mode. Explain why these measures of central\n",
    "tendency are important."
   ]
  },
  {
   "cell_type": "markdown",
   "id": "2318a11e",
   "metadata": {},
   "source": [
    "Answer ->\n",
    "\n",
    "Definitions of Mean, Median, and Mode\n",
    "Mean\n",
    "The mean is the most common measure of central tendency, often referred to as the \"average.\" It is calculated by summing all the values in a dataset and then dividing by the total number of values.\n",
    "\n",
    "Formula: Mean= ∑x/n\n",
    "​\n",
    ", where ∑x is the sum of all values and n is the number of values.\n",
    "\n",
    "Example: For the dataset {2, 3, 3, 5, 8, 10, 11}, the sum is 42.\n",
    "\n",
    "Mean = 42 / 7 = 6\n",
    "\n",
    "Median\n",
    "The median is the middle value in a dataset that has been arranged in ascending or descending order. If there is an even number of values, the median is the average of the two middle numbers.\n",
    "\n",
    "\n",
    "How to find it:\n",
    "\n",
    "Arrange the data in order.\n",
    "\n",
    "The median is the central value.\n",
    "\n",
    "Example (odd number of values): For {2, 3, 3, 5, 8, 10, 11}, the median is 5.\n",
    "\n",
    "Example (even number of values): For {2, 3, 3, 5, 8, 10}, the two middle values are 3 and 5.\n",
    "\n",
    "Median = (3 + 5) / 2 = 4\n",
    "\n",
    "Mode\n",
    "The mode is the value that appears most frequently in a dataset. A dataset can have one mode (unimodal), more than one mode (multimodal), or no mode if all values appear with the same frequency.\n",
    "\n",
    "\n",
    "How to find it: Identify the value that occurs most often.\n",
    "\n",
    "Example: For {2, 3, 3, 5, 8, 10, 11}, the mode is 3.\n",
    "\n",
    "Why Are These Measures Important?\n",
    "Measures of central tendency are crucial because they simplify large datasets into a single, representative value. This helps us to:\n",
    "\n",
    "Quickly Understand Data: Instead of looking at hundreds of individual data points, the mean, median, or mode can give you a good sense of the \"typical\" value. For instance, knowing the average temperature in a city helps you decide what clothes to pack. ☀️\n",
    "\n",
    "Compare Different Datasets: These measures allow for easy comparison between different groups. For example, you could compare the mean test scores of two different classes to see which class performed better on average.\n",
    "\n",
    "Identify the Nature of the Data Distribution: The relationship between the mean, median, and mode can tell you about the shape of your data's distribution.\n",
    "\n",
    "In a symmetrical distribution, the mean, median, and mode are all equal.\n",
    "\n",
    "In a skewed distribution, these values will be different. For example, if the mean is higher than the median, the data is likely skewed to the right (has a long tail of high values). This is common in income data where a few very high earners can pull the mean upwards, making the median a better representation of the typical person's income."
   ]
  },
  {
   "cell_type": "markdown",
   "id": "513cf151",
   "metadata": {},
   "source": [
    "##### Question 4: \n",
    "Explain skewness and kurtosis. What does a positive skew imply about the\n",
    "data?"
   ]
  },
  {
   "cell_type": "markdown",
   "id": "2d695321",
   "metadata": {},
   "source": [
    "Answer ->\n",
    "Skewness: A Measure of Asymmetry\n",
    "Skewness indicates the degree of asymmetry of a distribution around its mean. In other words, it tells you if the data is more spread out on one side of the average than the other.\n",
    "\n",
    "Symmetrical Distribution (Zero Skew): The distribution is perfectly balanced, with the mean, median, and mode all being equal. The familiar \"bell curve\" is a perfect example of this.\n",
    "\n",
    "Positive Skew (Skewed to the Right): A distribution is positively skewed when the tail on the right side of the distribution is longer or fatter than the left side. This means there are a few unusually high values that pull the mean to the right of the median.\n",
    "\n",
    "Negative Skew (Skewed to the Left): A distribution is negatively skewed when the tail on the left side is longer or fatter than the right side. This indicates the presence of a few unusually low values that pull the mean to the left of the median.\n",
    "\n",
    "What Does a Positive Skew Imply About the Data?\n",
    "A positive skew implies that the majority of the data points are clustered towards the lower end of the scale, with a smaller number of higher-value outliers pulling the mean up. In a positively skewed distribution:\n",
    "\n",
    "Mean > Median > Mode\n",
    "\n",
    "A classic example of positively skewed data is income distribution. Most people have relatively moderate incomes, but a few individuals with extremely high incomes will pull the average income significantly higher than the median income (the value that is in the middle).\n",
    "\n",
    "Kurtosis: A Measure of \"Peakedness\" and Tails\n",
    "Kurtosis measures the \"tailedness\" of a distribution. It indicates how much of the data is concentrated in the tails versus the center. It's often described as a measure of how \"peaked\" or \"flat\" a distribution is, but it's more accurately a measure of the weight of the tails and the presence of outliers.\n",
    "\n",
    "Mesokurtic (Kurtosis = 3): This is the kurtosis of a normal distribution. The tails are neither too heavy nor too light.\n",
    "\n",
    "Leptokurtic (Kurtosis > 3): This distribution has a sharper peak and heavier tails than a normal distribution. This suggests that there are more outliers in the data. Think of it as being more \"leaping\" or pointed.\n",
    "\n",
    "Platykurtic (Kurtosis < 3): This distribution has a flatter peak and lighter tails. This indicates fewer outliers than a normal distribution. You can think of it as being flatter, like a \"plateau.\""
   ]
  },
  {
   "cell_type": "markdown",
   "id": "96033f89",
   "metadata": {},
   "source": [
    "##### Question 5: \n",
    "Implement a Python program to compute the mean, median, and mode of\n",
    "a given list of numbers.\n",
    "numbers = [12, 15, 12, 18, 19, 12, 20, 22, 19, 19, 24, 24, 24, 26, 28]\n"
   ]
  },
  {
   "cell_type": "code",
   "execution_count": 2,
   "id": "2894eb67",
   "metadata": {},
   "outputs": [
    {
     "name": "stdout",
     "output_type": "stream",
     "text": [
      "Mean: 19.6\n",
      "Median: 19.0\n",
      "Mode: 12\n"
     ]
    },
    {
     "data": {
      "image/png": "[encoded data removed]",
      "text/plain": [
       "<Figure size 640x480 with 1 Axes>"
      ]
     },
     "metadata": {},
     "output_type": "display_data"
    }
   ],
   "source": [
    "numbers = [12, 15, 12, 18, 19, 12, 20, 22, 19, 19, 24, 24, 24, 26, 28]\n",
    "import numpy as np\n",
    "mean = np.mean(numbers)\n",
    "print(\"Mean:\", mean)\n",
    "median = np.median(numbers)\n",
    "print(\"Median:\", median)\n",
    "mode = np.bincount(numbers).argmax()\n",
    "print(\"Mode:\", mode)\n",
    "\n",
    "import seaborn as sns\n",
    "boxplot = sns.boxplot(numbers)\n"
   ]
  },
  {
   "cell_type": "markdown",
   "id": "587f55b8",
   "metadata": {},
   "source": [
    "Question 6: Compute the covariance and correlation coefficient between the following\n",
    "two datasets provided as lists in Python:\n",
    "\n",
    "list_x = [10, 20, 30, 40, 50]\n",
    "\n",
    "list_y = [15, 25, 35, 45, 60]"
   ]
  },
  {
   "cell_type": "code",
   "execution_count": 4,
   "id": "8a32bf18",
   "metadata": {},
   "outputs": [
    {
     "name": "stdout",
     "output_type": "stream",
     "text": [
      "Covariance:\n",
      " [[250. 275.]\n",
      " [275. 305.]]\n",
      "Correlation Coefficient:\n",
      " [[1.         0.99589321]\n",
      " [0.99589321 1.        ]]\n"
     ]
    }
   ],
   "source": [
    "\n",
    "list_x = [10, 20, 30, 40, 50]\n",
    "list_y = [15, 25, 35, 45, 60]\n",
    "covariance = np.cov(list_x, list_y)\n",
    "correlation_coefficient = np.corrcoef(list_x, list_y)\n",
    "print(\"Covariance:\\n\", covariance)\n",
    "print(\"Correlation Coefficient:\\n\", correlation_coefficient)"
   ]
  },
  {
   "cell_type": "markdown",
   "id": "ef59c498",
   "metadata": {},
   "source": [
    "Question 7: Write a Python script to draw a boxplot for the following numeric list and\n",
    "identify its outliers. Explain the result:\n",
    "\n",
    "data = [12, 14, 14, 15, 18, 19, 19, 21, 22, 22, 23, 23, 24, 26, 29, 35]"
   ]
  },
  {
   "cell_type": "code",
   "execution_count": null,
   "id": "0727e14d",
   "metadata": {},
   "outputs": [
    {
     "data": {
      "image/png": "[encoded data removed]",
      "text/plain": [
       "<Figure size 640x480 with 1 Axes>"
      ]
     },
     "metadata": {},
     "output_type": "display_data"
    }
   ],
   "source": [
    "import seaborn as sns\n",
    "data = [12, 14, 14, 15, 18, 19, 19, 21, 22, 22, 23, 23, 24, 26, 29, 35]\n",
    "\n",
    "boxplot = sns.boxplot(data,)"
   ]
  },
  {
   "cell_type": "markdown",
   "id": "910e25a3",
   "metadata": {},
   "source": [
    "Question 8: You are working as a data analyst in an e-commerce company. The\n",
    "marketing team wants to know if there is a relationship between advertising spend and\n",
    "daily sales.\n",
    "\n",
    "● Explain how you would use covariance and correlation to explore this\n",
    "relationship.\n",
    "\n",
    "● Write Python code to compute the correlation between the two lists:\n",
    "\n",
    "advertising_spend = [200, 250, 300, 400, 500]\n",
    "\n",
    "daily_sales = [2200, 2450, 2750, 3200, 4000]"
   ]
  },
  {
   "cell_type": "markdown",
   "id": "0f78f511",
   "metadata": {},
   "source": [
    "Part 1: Using Covariance and Correlation to Explore the Relationship\n",
    "As a data analyst, you want to determine if there's a connection between how much the company spends on advertising and the sales it generates. Both covariance and correlation are measures that describe the relationship between two variables.\n",
    "\n",
    "1. Covariance\n",
    "Covariance is a measure that indicates the direction of the linear relationship between two variables.\n",
    "\n",
    "Positive Covariance: If you calculate a positive covariance between advertising_spend and daily_sales, it means that as advertising spend increases, daily sales also tend to increase. This is the expected outcome.\n",
    "\n",
    "Negative Covariance: A negative covariance would imply that as advertising spend increases, daily sales tend to decrease, which would be a major concern for the marketing team.\n",
    "\n",
    "Zero Covariance: A covariance near zero suggests that there is no linear relationship between the two.\n",
    "\n",
    "Limitation of Covariance: The main drawback of covariance is that its value is not standardized. The number itself (e.g., 50,000 or 100,000) is hard to interpret. It depends on the units of the variables, making it difficult to judge the strength of the relationship or compare it to other relationships.\n",
    "\n",
    "2. Correlation\n",
    "Correlation is a more powerful and intuitive measure because it indicates both the direction and the strength of the linear relationship. It's a standardized version of covariance.\n",
    "\n",
    "The correlation coefficient ranges from -1 to +1.\n",
    "\n",
    "A value close to +1: Indicates a strong positive linear relationship. For the marketing team, a correlation of +0.9 would be excellent news, showing a very strong link between increased ad spend and increased sales.\n",
    "\n",
    "A value close to -1: Indicates a strong negative linear relationship (e.g., more ad spend, less sales).\n",
    "\n",
    "A value close to 0: Indicates a weak or non-existent linear relationship.\n",
    "\n",
    "For the marketing team's question, correlation is the preferred metric. It provides a clear, standardized number that definitively answers both \"Is there a relationship?\" and \"How strong is that relationship?\"."
   ]
  },
  {
   "cell_type": "code",
   "execution_count": 9,
   "id": "c63e4415",
   "metadata": {},
   "outputs": [
    {
     "name": "stdout",
     "output_type": "stream",
     "text": [
      "Advertising Spend: [200, 250, 300, 400, 500]\n",
      "Daily Sales:       [2200, 2450, 2750, 3200, 4000]\n",
      "\n",
      "Correlation Matrix:\n",
      "[[1.         0.99358241]\n",
      " [0.99358241 1.        ]]\n",
      "\n",
      "The correlation coefficient between advertising spend and daily sales is: 0.9936\n",
      "\n",
      "--- Analysis ---\n",
      "There is a very strong positive linear relationship.\n",
      "This suggests that higher advertising spend is highly associated with higher daily sales.\n"
     ]
    }
   ],
   "source": [
    "import numpy as np\n",
    "\n",
    "# Given data from the marketing team\n",
    "advertising_spend = [200, 250, 300, 400, 500]\n",
    "daily_sales = [2200, 2450, 2750, 3200, 4000]\n",
    "\n",
    "# --- Correlation Calculation ---\n",
    "# numpy.corrcoef() returns a correlation matrix.\n",
    "# The value at index [0, 1] (or [1, 0]) is the correlation coefficient\n",
    "# between the two variables. The diagonal elements [0, 0] and [1, 1] are always 1\n",
    "# as they represent the correlation of a variable with itself.\n",
    "\n",
    "correlation_matrix = np.corrcoef(advertising_spend, daily_sales)\n",
    "correlation_coefficient = correlation_matrix[0, 1]\n",
    "\n",
    "# --- Interpretation ---\n",
    "print(f\"Advertising Spend: {advertising_spend}\")\n",
    "print(f\"Daily Sales:       {daily_sales}\\n\")\n",
    "print(f\"Correlation Matrix:\\n{correlation_matrix}\\n\")\n",
    "print(f\"The correlation coefficient between advertising spend and daily sales is: {correlation_coefficient:.4f}\")\n",
    "\n",
    "print(\"\\n--- Analysis ---\")\n",
    "if correlation_coefficient > 0.8:\n",
    "    print(\"There is a very strong positive linear relationship.\")\n",
    "    print(\"This suggests that higher advertising spend is highly associated with higher daily sales.\")\n",
    "elif correlation_coefficient > 0.5:\n",
    "    print(\"There is a moderately strong positive linear relationship.\")\n",
    "elif correlation_coefficient > 0:\n",
    "    print(\"There is a weak positive linear relationship.\")\n",
    "elif correlation_coefficient < -0.8:\n",
    "    print(\"There is a very strong negative linear relationship.\")\n",
    "elif correlation_coefficient < -0.5:\n",
    "    print(\"There is a moderately strong negative linear relationship.\")\n",
    "else:\n",
    "    print(\"The relationship is weak or non-existent.\")\n"
   ]
  },
  {
   "cell_type": "markdown",
   "id": "2e0b03ee",
   "metadata": {},
   "source": [
    "###### Question 9: \n",
    "Your team has collected customer satisfaction survey data on a scale of\n",
    "1-10 and wants to understand its distribution before launching a new product.\n",
    "\n",
    "● Explain which summary statistics and visualizations (e.g. mean, standard\n",
    "deviation, histogram) you’d use.\n",
    "\n",
    "● Write Python code to create a histogram using Matplotlib for the survey data:\n",
    "survey_scores = [7, 8, 5, 9, 6, 7, 8, 9, 10, 4, 7, 6, 9, 8, 7]"
   ]
  },
  {
   "cell_type": "markdown",
   "id": "0480e24b",
   "metadata": {},
   "source": [
    "Answer -> \n",
    "Histogram: This is the most important visualization for this task. A histogram groups the scores into \"bins\" and displays the frequency (the number of customers) for each score. It provides a clear visual answer to questions like:\n",
    "\n",
    "Which satisfaction scores are most common?\n",
    "\n",
    "Are the scores skewed towards being positive (high scores) or negative (low scores)?\n",
    "\n",
    "Are there any gaps in the scores?\n",
    "\n",
    "Box Plot: A box plot is an excellent way to visualize several summary statistics at once. It clearly displays the median, the interquartile range (the middle 50% of scores), and any potential outliers. It's a compact way to see both the center and the spread of the data."
   ]
  },
  {
   "cell_type": "code",
   "execution_count": 11,
   "id": "8aecfbbf",
   "metadata": {},
   "outputs": [
    {
     "data": {
      "image/png": "[encoded data removed]",
      "text/plain": [
       "<Figure size 1000x600 with 1 Axes>"
      ]
     },
     "metadata": {},
     "output_type": "display_data"
    }
   ],
   "source": [
    "import matplotlib.pyplot as plt\n",
    "\n",
    "# The customer satisfaction survey data\n",
    "survey_scores = [7, 8, 5, 9, 6, 7, 8, 9, 10, 4, 7, 6, 9, 8, 7]\n",
    "\n",
    "# --- Create the Histogram ---\n",
    "\n",
    "# Set the figure size for better readability\n",
    "plt.figure(figsize=(10, 6))\n",
    "\n",
    "# Create the histogram.\n",
    "# 'bins' are set to create a separate bar for each integer score from 1 to 10.\n",
    "# The range goes to 11 to ensure the bin for 10 is included properly.\n",
    "# edgecolor makes the bars distinct.\n",
    "plt.hist(survey_scores, bins=range(1, 12), edgecolor='black', alpha=0.7, align='left')\n",
    "\n",
    "# --- Add Labels and Title for Clarity ---\n",
    "plt.title('Distribution of Customer Satisfaction Scores', fontsize=16)\n",
    "plt.xlabel('Satisfaction Score (1-10)', fontsize=12)\n",
    "plt.ylabel('Number of Customers (Frequency)', fontsize=12)\n",
    "\n",
    "# Set the x-axis ticks to be integers from 1 to 10 for clarity\n",
    "plt.xticks(range(1, 11))\n",
    "\n",
    "# Add a grid to the y-axis for easier reading of frequencies\n",
    "plt.grid(axis='y', alpha=0.5)\n",
    "\n",
    "# Display the plot\n",
    "plt.show()\n"
   ]
  },
  {
   "cell_type": "code",
   "execution_count": null,
   "id": "bec5e7df",
   "metadata": {},
   "outputs": [],
   "source": []
  }
 ],
 "metadata": {
  "kernelspec": {
   "display_name": "Python 3",
   "language": "python",
   "name": "python3"
  },
  "language_info": {
   "codemirror_mode": {
    "name": "ipython",
    "version": 3
   },
   "file_extension": ".py",
   "mimetype": "text/x-python",
   "name": "python",
   "nbconvert_exporter": "python",
   "pygments_lexer": "ipython3",
   "version": "3.13.7"
  }
 },
 "nbformat": 4,
 "nbformat_minor": 5
}
