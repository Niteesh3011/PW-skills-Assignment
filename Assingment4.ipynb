{
 "cells": [
  {
   "cell_type": "markdown",
   "id": "eaece876",
   "metadata": {},
   "source": [
    "# Python OOPs Questions\n"
   ]
  },
  {
   "cell_type": "markdown",
   "id": "3dda56fc",
   "metadata": {},
   "source": [
    "1) What is Object-Oriented Programming (OOP)?"
   ]
  },
  {
   "cell_type": "markdown",
   "id": "11912c33",
   "metadata": {},
   "source": [
    "Answer ->\n",
    "\n",
    "Object-Oriented Programming (OOP) is a programming paradigm that organizes software design around objects rather than functions and logic.Object-Oriented Programming (OOP) is a style of programming that organizes code around objects. An object is a self-contained unit that bundles together data (attributes) and the actions (methods) that operate on that data."
   ]
  },
  {
   "cell_type": "markdown",
   "id": "183ce66c",
   "metadata": {},
   "source": [
    "2. What is a class in OOP?"
   ]
  },
  {
   "cell_type": "markdown",
   "id": "5156b31c",
   "metadata": {},
   "source": [
    "Answer ->\n",
    "\n",
    "In Object-Oriented Programming (OOP), a class is a blueprint or a template for creating objects. It defines a set of properties (attributes) and behaviors (methods) that all objects of that type will have.\n",
    "\n",
    "Think of a class as the design for a car. 🚗 The blueprint specifies that every car will have attributes like color, make, and model, and methods like startEngine() and accelerate(). The class itself is not a physical car; it's just the plan."
   ]
  },
  {
   "cell_type": "markdown",
   "id": "94fd127d",
   "metadata": {},
   "source": [
    "3. What is an object in OOP?"
   ]
  },
  {
   "cell_type": "markdown",
   "id": "826fe8be",
   "metadata": {},
   "source": [
    "Answer ->\n",
    "\n",
    "In Object-Oriented Programming (OOP), an object is a specific instance of a class. It's a fundamental building block that combines data (attributes or properties) and the behaviors (methods or functions) that operate on that data.\n",
    "\n",
    "\n"
   ]
  },
  {
   "cell_type": "markdown",
   "id": "3d0d82cd",
   "metadata": {},
   "source": [
    "4. What is the difference between abstraction and encapsulation?"
   ]
  },
  {
   "cell_type": "markdown",
   "id": "d42ceb73",
   "metadata": {},
   "source": [
    "Answer ->\n",
    "\n",
    "Abstraction focuses on the design level. It's about simplifying a complex system by showing only the essential features to the user and hiding the unnecessary implementation details. The goal is to create a simple, clear interface that allows a user to interact with an object without needing to know how it works internally. You can think of it as a contract that defines what a class or object will do.\n",
    "\n",
    "Encapsulation focuses on the implementation level. It's the process of bundling an object's data (attributes) and the methods that operate on that data into a single, self-contained unit (the class). Encapsulation also involves data hiding, which means the internal state of an object is kept private and can only be accessed or modified through its public methods. This prevents direct, uncontrolled access to the data, protecting it from accidental corruption."
   ]
  },
  {
   "cell_type": "markdown",
   "id": "9749eba4",
   "metadata": {},
   "source": [
    "5. What are dunder methods in Python?"
   ]
  },
  {
   "cell_type": "markdown",
   "id": "7132802e",
   "metadata": {},
   "source": [
    "Answer ->\n",
    "\n",
    "Dunder methods, or magic methods, are special Python methods with double underscores (e.g., __init__) that let you customize how your objects behave with built-in functions and operators. Python automatically calls these methods for you.\n",
    "\n",
    "Example: __ _init_ __ and __ _str_ __\n",
    "The __ _init_ __ method is the constructor; it runs automatically when you create a new object to set up its initial state. The __ _str_ __ method defines what a human-readable string representation of your object should look like, and it's called by the print() function"
   ]
  },
  {
   "cell_type": "markdown",
   "id": "fb35173c",
   "metadata": {},
   "source": [
    "6. Explain the concept of inheritance in OOP."
   ]
  },
  {
   "cell_type": "markdown",
   "id": "2c901605",
   "metadata": {},
   "source": [
    "Answer ->\n",
    "\n",
    "Parent/Base Class: The original class that provides the attributes and methods to be inherited.\n",
    "\n",
    "Child/Derived Class: The new class that inherits from the parent class. It can use the parent's features and can also add its own unique attributes and methods or override the parent's methods.\n",
    "\n",
    "Method Overriding: A child class can provide a new implementation for a method that is already defined in its parent class. This allows the child to have its own specific behavior while still maintaining the same method name."
   ]
  },
  {
   "cell_type": "markdown",
   "id": "7924909e",
   "metadata": {},
   "source": [
    "7. What is polymorphism in OOP?"
   ]
  },
  {
   "cell_type": "markdown",
   "id": "9cdd9573",
   "metadata": {},
   "source": [
    "Answer ->\n",
    "\n",
    "Polymorphism, which means \"many forms\" in Greek, is a core concept in OOP that allows objects to take on multiple forms. It enables a single interface, function, or operator to be used for different data types or classes, and for each to respond in a unique, context-specific way. \n",
    "\n",
    "\n",
    "How it Works\n",
    "Polymorphism is primarily achieved through two mechanisms:\n",
    "\n",
    "Method Overriding: A child class provides its own specific implementation for a method that is already defined in its parent class. This is also known as runtime polymorphism because the correct method to call is determined at runtime based on the object's actual type.\n",
    "\n",
    "\n",
    "Method Overloading: This is a form of static polymorphism where multiple methods in the same class have the same name but different parameters (e.g., a function to add two numbers and another one to add three numbers). The compiler decides which method to call based on the arguments you provide."
   ]
  },
  {
   "cell_type": "markdown",
   "id": "f2915bcc",
   "metadata": {},
   "source": [
    "8.  How is encapsulation achieved in Python?"
   ]
  },
  {
   "cell_type": "markdown",
   "id": "2b2bb178",
   "metadata": {},
   "source": [
    "Answer ->\n",
    "\n",
    "Encapsulation in Python is achieved through a combination of naming conventions and name mangling, rather than a strict enforcement of public, private, and protected access modifiers found in some other languages like Java or C++. The core idea is to bundle data (attributes) and methods that operate on that data into a single unit (a class), and to restrict direct access to some of the class's components.\n",
    "\n",
    "\n",
    "Naming Conventions\n",
    "Python uses a convention-based approach to indicate the intended visibility of an attribute or method:\n",
    "\n",
    "- Public: Attributes and methods with no leading underscore are considered public. They can be accessed directly from outside the class. This is the default and most common approach.\n",
    "\n",
    "\n",
    "\n",
    "class MyClass:\n",
    "    def __init__(self):\n",
    "        self.public_attribute = \"I am public\"\n",
    "\n",
    "- Protected: A single leading underscore (_) indicates a \"protected\" member. This is a convention, and the member can still be accessed directly from outside the class. It serves as a strong signal to other developers that the member is intended for internal use within the class or its subclasses and should not be modified directly.\n",
    "\n",
    "class MyClass:\n",
    "    def __init__(self):\n",
    "        self._protected_attribute = \"I am protected\"\n",
    "\n",
    "- Private: A double leading underscore (__) triggers name mangling, which makes the attribute or method \"pseudo-private.\" This is the primary mechanism for achieving encapsulation in Python."
   ]
  },
  {
   "cell_type": "markdown",
   "id": "48da5c68",
   "metadata": {},
   "source": [
    "9. What is a constructor in Python?"
   ]
  },
  {
   "cell_type": "markdown",
   "id": "2a56a508",
   "metadata": {},
   "source": [
    "Answer ->\n",
    "\n",
    "A constructor in Python is a special method called automatically when an object of a class is created. Its primary purpose is to initialize the object's attributes with starting values.\n",
    "\n",
    "\n",
    "The __ _init_ __() Method\n",
    "In Python, the constructor is not named constructor but is always named __ _init_ __. The double underscores (dunders) before and after the name indicate that it is a special method.\n",
    "\n",
    "\n",
    "Syntax: def __ _init_ __(self, [parameter1, parameter2, ...]):\n",
    "\n",
    "The self parameter: The first parameter, self, is a reference to the newly created object itself. It allows you to access and set the object's attributes. You don't need to pass an argument for self when you create an object; Python does that automatically for you.\n",
    "\n",
    "\n",
    "Other parameters: Any other parameters in the __ _init_ __ method are used to pass initial values to the object."
   ]
  },
  {
   "cell_type": "code",
   "execution_count": 7,
   "id": "218cdc47",
   "metadata": {},
   "outputs": [
    {
     "name": "stdout",
     "output_type": "stream",
     "text": [
      "red\n",
      "Toyota Camry\n"
     ]
    }
   ],
   "source": [
    "class Car:\n",
    "    # This is the constructor\n",
    "    def __init__(self, color, model):\n",
    "        # Initialize the object's attributes\n",
    "        self.color = color\n",
    "        self.model = model\n",
    "\n",
    "# Creating a new Car object, which calls the __init__ method\n",
    "my_car = Car(\"red\", \"Toyota Camry\")\n",
    "\n",
    "# Accessing the attributes\n",
    "print(my_car.color)  # Output: red\n",
    "print(my_car.model)  # Output: Toyota Camry"
   ]
  },
  {
   "cell_type": "markdown",
   "id": "7144457a",
   "metadata": {},
   "source": [
    "10. What are class and static methods in Python?"
   ]
  },
  {
   "cell_type": "markdown",
   "id": "d1d5b081",
   "metadata": {},
   "source": [
    "Answer ->\n",
    "\n",
    "`Class Methods`\n",
    "\n",
    "A class method is a method that is bound to the class, not the instance of the class. It receives the class itself as the first argument, conventionally named cls.\n",
    "\n",
    "- Decorator: @classmethod\n",
    "\n",
    "- Purpose: Class methods are commonly used to create factory methods, which are alternative ways to instantiate an object. They can access and modify class-level state (attributes and other class methods), but not instance-specific state.\n",
    "\n",
    "- How it works: When you call a class method, the Python interpreter automatically passes the class object as the first argument, cls. This allows the method to interact with the class and its properties.\n",
    "\n"
   ]
  },
  {
   "cell_type": "code",
   "execution_count": 5,
   "id": "48619e9c",
   "metadata": {},
   "outputs": [
    {
     "name": "stdout",
     "output_type": "stream",
     "text": [
      "Fido\n",
      "<__main__.Dog object at 0x00000201822F6F90>\n"
     ]
    }
   ],
   "source": [
    "class Dog:\n",
    "    # Class attribute\n",
    "    number_of_legs = 4\n",
    "\n",
    "    def __init__(self, name):\n",
    "        self.name = name\n",
    "\n",
    "    @classmethod\n",
    "    def from_string(cls, dog_string):\n",
    "        \"\"\"A factory method to create a Dog object from a string.\"\"\"\n",
    "        name, _ = dog_string.split(',')\n",
    "        return cls(name)\n",
    "\n",
    "# Create a Dog instance using the class method\n",
    "doggy = Dog.from_string(\"Fido,brown\")\n",
    "print(doggy.name)\n",
    "print(doggy)"
   ]
  },
  {
   "cell_type": "markdown",
   "id": "3814d9d3",
   "metadata": {},
   "source": [
    "`Static Methods`\n",
    "\n",
    "A static method is a method that belongs to the class but has no access to either the class itself (cls) or the instance (self). It's essentially a regular function that is logically grouped within the class's namespace.\n",
    "\n",
    "- Decorator: @staticmethod\n",
    "\n",
    "- Purpose: Static methods are useful for utility functions that don't need to interact with the class or an instance. They don't change the state of the class or the instance.\n",
    "\n",
    "- How it works: A static method doesn't receive self or cls as its first argument. It behaves like a standalone function, but its name is associated with the class."
   ]
  },
  {
   "cell_type": "code",
   "execution_count": 6,
   "id": "973d5f4b",
   "metadata": {},
   "outputs": [
    {
     "name": "stdout",
     "output_type": "stream",
     "text": [
      "15\n"
     ]
    }
   ],
   "source": [
    "class MathUtils:\n",
    "    @staticmethod\n",
    "    def add(x, y):\n",
    "        \"\"\"A static method to add two numbers.\"\"\"\n",
    "        return x + y\n",
    "\n",
    "# Call the static method directly from the class\n",
    "result = MathUtils.add(5, 10)\n",
    "print(result)"
   ]
  },
  {
   "cell_type": "markdown",
   "id": "e601493b",
   "metadata": {},
   "source": [
    "11. What is method overloading in Python?"
   ]
  },
  {
   "cell_type": "markdown",
   "id": "d7c0ff42",
   "metadata": {},
   "source": [
    "Answer ->\n",
    "\n",
    "Method overloading is a concept in some programming languages where a class can have multiple methods with the same name but different parameters. Python, however, does not support method overloading in the same way as languages like C++ or Java.\n",
    "\n",
    "\n",
    "How Python Handles It\n",
    "If you define multiple methods with the same name in a Python class, the interpreter will only recognize the last one defined. The previous definitions are simply overwritten.\n",
    "\n",
    "\n",
    "Here's an example to illustrate this behavior:\n",
    "\n",
    "\n"
   ]
  },
  {
   "cell_type": "code",
   "execution_count": 13,
   "id": "d765d0e1",
   "metadata": {},
   "outputs": [
    {
     "name": "stdout",
     "output_type": "stream",
     "text": [
      "9\n"
     ]
    }
   ],
   "source": [
    "class Calculator:\n",
    "    def add(self, x, y):\n",
    "        print(x + y)\n",
    "\n",
    "    def add(self, x, y, z):\n",
    "        print(x + y + z)\n",
    "\n",
    "#Creating an instance of the class\n",
    "calc = Calculator()\n",
    "\n",
    "#This will work\n",
    "calc.add(2, 3, 4)\n",
    "\n",
    "#This will raise a TypeError because the first add() method was overwritten\n",
    "\n",
    "#calc.add(2, 3)\n",
    "\n",
    "#Output: TypeError: Calculator.add() missing 1 required positional argument: 'z'\n",
    "\n"
   ]
  },
  {
   "cell_type": "markdown",
   "id": "b0861f10",
   "metadata": {},
   "source": [
    "In this code, the first add method is replaced by the second. When you try to call calc.add(2, 3), Python looks for a method named add that takes two arguments, but only the three-argument version exists.\n",
    "\n",
    "Emulating Method Overloading\n",
    "\n",
    "Although Python doesn't have native method overloading, you can achieve similar functionality using a few techniques.\n",
    "\n",
    "1. Default Arguments:\n",
    "\n",
    "You can make some parameters optional by giving them a default value. This allows the method to be called with a varying number of arguments.\n",
    "\n",
    "\n",
    "\n"
   ]
  },
  {
   "cell_type": "code",
   "execution_count": 9,
   "id": "70f8d76e",
   "metadata": {},
   "outputs": [
    {
     "name": "stdout",
     "output_type": "stream",
     "text": [
      "5\n",
      "9\n"
     ]
    }
   ],
   "source": [
    "class Calculator:\n",
    "    def add(self, x, y, z=0):\n",
    "        print(x + y + z)\n",
    "\n",
    "calc = Calculator()\n",
    "\n",
    "#Call with two arguments\n",
    "calc.add(2, 3) # Output: 5\n",
    "\n",
    "#Call with three arguments\n",
    "calc.add(2, 3, 4) # Output: 9\n",
    "\n"
   ]
  },
  {
   "cell_type": "markdown",
   "id": "f6725b77",
   "metadata": {},
   "source": [
    "This is the most common and \"Pythonic\" way to handle varying argument lists.\n",
    "2. Variable-length Arguments:\n",
    "\n",
    "You can use *args to accept a variable number of non-keyword arguments.\n",
    "\n",
    "\n"
   ]
  },
  {
   "cell_type": "code",
   "execution_count": 10,
   "id": "96250264",
   "metadata": {},
   "outputs": [
    {
     "name": "stdout",
     "output_type": "stream",
     "text": [
      "5\n",
      "14\n"
     ]
    }
   ],
   "source": [
    "class Calculator:\n",
    "    def add(self, *args):\n",
    "        total = 0\n",
    "        for num in args:\n",
    "            total += num\n",
    "        print(total)\n",
    "\n",
    "calc = Calculator()\n",
    "calc.add(2, 3) # Output: 5\n",
    "calc.add(2, 3, 4, 5) # Output: 14\n"
   ]
  },
  {
   "cell_type": "markdown",
   "id": "b1764d91",
   "metadata": {},
   "source": [
    "This approach is useful when you don't know the exact number of arguments beforehand.\n",
    "\n",
    "3. Type Checking:\n",
    "\n",
    "You can check the type of the arguments within the method and perform different actions based on the types.\n",
    "\n",
    "\n",
    "\n"
   ]
  },
  {
   "cell_type": "code",
   "execution_count": 11,
   "id": "7ea004fc",
   "metadata": {},
   "outputs": [
    {
     "name": "stdout",
     "output_type": "stream",
     "text": [
      "Hello, Alice!\n",
      "Hello, Bob!\n",
      "Hello, Charlie!\n"
     ]
    }
   ],
   "source": [
    "class Greeter:\n",
    "    def greet(self, name):\n",
    "        if isinstance(name, str):\n",
    "            print(f\"Hello, {name}!\")\n",
    "        elif isinstance(name, list):\n",
    "            for n in name:\n",
    "                print(f\"Hello, {n}!\")\n",
    "\n",
    "g = Greeter()\n",
    "g.greet(\"Alice\") # Output: Hello, Alice!\n",
    "g.greet([\"Bob\", \"Charlie\"]) # Output: Hello, Bob! \\n Hello, Charlie!"
   ]
  },
  {
   "cell_type": "markdown",
   "id": "c6b4499e",
   "metadata": {},
   "source": [
    "12.  What is method overriding in OOP?"
   ]
  },
  {
   "cell_type": "markdown",
   "id": "2fbab9fa",
   "metadata": {},
   "source": [
    "Answer ->\n",
    "\n",
    "Method overriding is a feature in object-oriented programming (OOP) that allows a subclass to provide a specific implementation of a method that is already defined in its superclass. This means that a method with the exact same name, number of parameters, and return type is created in the child class, which then overrides (replaces) the parent's method when called on an object of the child class.\n",
    "\n",
    "\n",
    "The key principle behind method overriding is polymorphism, which is the ability of an object to take on many forms. When you have a hierarchy of classes, each with its own implementation of a method, the correct method to execute is determined at runtime based on the actual type of the object.\n",
    "\n",
    "\n",
    "Key Concepts\n",
    "\n",
    "- Inheritance: Method overriding is only possible when there's a parent-child class relationship (inheritance). The subclass inherits the method from the superclass and then redefines it.\n",
    "\n",
    "\n",
    "- Same Signature: The method in the subclass must have the exact same name, number of parameters, and parameter types as the method in the superclass.\n",
    "\n",
    "- Runtime Polymorphism: The decision of which method to call is made at runtime, not compile time. This is also known as \"dynamic method dispatch.\""
   ]
  },
  {
   "cell_type": "code",
   "execution_count": 14,
   "id": "82f456d2",
   "metadata": {},
   "outputs": [
    {
     "name": "stdout",
     "output_type": "stream",
     "text": [
      "The animal makes a sound.\n",
      "The dog barks.\n",
      "The cat meows.\n"
     ]
    }
   ],
   "source": [
    "class Animal:\n",
    "    def speak(self):\n",
    "        print(\"The animal makes a sound.\")\n",
    "\n",
    "class Dog(Animal):\n",
    "    def speak(self):\n",
    "        print(\"The dog barks.\")\n",
    "\n",
    "class Cat(Animal):\n",
    "    def speak(self):\n",
    "        print(\"The cat meows.\")\n",
    "\n",
    "# Creating objects\n",
    "generic_animal = Animal()\n",
    "my_dog = Dog()\n",
    "my_cat = Cat()\n",
    "\n",
    "# Calling the speak() method\n",
    "generic_animal.speak() # Output: The animal makes a sound.\n",
    "my_dog.speak()        # Output: The dog barks.\n",
    "my_cat.speak()        # Output: The cat meows."
   ]
  },
  {
   "cell_type": "markdown",
   "id": "842ce616",
   "metadata": {},
   "source": [
    "13.  What is a property decorator in Python?"
   ]
  },
  {
   "cell_type": "markdown",
   "id": "45862a43",
   "metadata": {},
   "source": [
    "Answer -> \n",
    "\n",
    " property decorator in Python is a built-in decorator that provides a Pythonic way to use getters and setters, allowing you to manage how class attributes are accessed and modified. It transforms a class method into a read-only attribute and lets you define setter and deleter methods to control assignment and deletion.\n",
    "\n",
    "\n",
    "Why Use @property?\n",
    "The @property decorator is primarily used to achieve encapsulation and maintain control over an object's attributes. Instead of directly accessing or modifying an attribute, you can use methods to add logic, validation, or other operations.\n",
    "\n",
    "Without @property:\n",
    "\n",
    "Without the decorator, you would need to define separate methods for getting and setting attributes. This can make the code clunky and less intuitive to use."
   ]
  },
  {
   "cell_type": "code",
   "execution_count": 15,
   "id": "842c6a36",
   "metadata": {},
   "outputs": [
    {
     "name": "stdout",
     "output_type": "stream",
     "text": [
      "5\n"
     ]
    }
   ],
   "source": [
    "class Circle:\n",
    "    def __init__(self, radius):\n",
    "        self.set_radius(radius)\n",
    "\n",
    "    def get_radius(self):\n",
    "        return self._radius\n",
    "\n",
    "    def set_radius(self, value):\n",
    "        if value < 0:\n",
    "            raise ValueError(\"Radius cannot be negative\")\n",
    "        self._radius = value\n",
    "\n",
    "c = Circle(5)\n",
    "print(c.get_radius())  # Explicitly calling the getter\n",
    "c.set_radius(10)       # Explicitly calling the setter\n"
   ]
  },
  {
   "cell_type": "markdown",
   "id": "57902f06",
   "metadata": {},
   "source": [
    "Using @property:\n",
    "\n",
    "With the @property decorator, you can treat a method like a regular attribute, but with a hidden layer of logic behind it. This makes the code cleaner and easier to read. The process involves three parts:"
   ]
  },
  {
   "cell_type": "code",
   "execution_count": 18,
   "id": "25c1cdfe",
   "metadata": {},
   "outputs": [],
   "source": [
    "'''\n",
    "1. The Getter (@property)\n",
    "This decorator turns a method into a getter, allowing you to access it like an attribute. The method should return the value of the private attribute.\n",
    "'''\n",
    "\n",
    "class Circle:\n",
    "    def __init__(self, radius):\n",
    "        self._radius = radius # Private attribute\n",
    "\n",
    "    @property\n",
    "    def radius(self):\n",
    "        print(\"Getting value...\")\n",
    "        return self._radius"
   ]
  },
  {
   "cell_type": "code",
   "execution_count": 19,
   "id": "31b8eb72",
   "metadata": {},
   "outputs": [
    {
     "ename": "NameError",
     "evalue": "name 'radius' is not defined",
     "output_type": "error",
     "traceback": [
      "\u001b[31m---------------------------------------------------------------------------\u001b[39m",
      "\u001b[31mNameError\u001b[39m                                 Traceback (most recent call last)",
      "\u001b[36mCell\u001b[39m\u001b[36m \u001b[39m\u001b[32mIn[19]\u001b[39m\u001b[32m, line 6\u001b[39m\n\u001b[32m      1\u001b[39m \u001b[33;03m'''2. The Setter (@<name>.setter)\u001b[39;00m\n\u001b[32m      2\u001b[39m \u001b[33;03mThis decorator defines the setter method, which controls how the attribute is assigned a new value. You can add validation or other logic here.\u001b[39;00m\n\u001b[32m      3\u001b[39m \u001b[33;03m'''\u001b[39;00m\n\u001b[32m----> \u001b[39m\u001b[32m6\u001b[39m \u001b[38;5;28;43;01mclass\u001b[39;49;00m\u001b[38;5;250;43m \u001b[39;49m\u001b[34;43;01mCircle\u001b[39;49;00m\u001b[43m:\u001b[49m\n\u001b[32m      7\u001b[39m \u001b[43m    \u001b[49m\u001b[38;5;66;43;03m# ... (getter defined above)\u001b[39;49;00m\n\u001b[32m      9\u001b[39m \u001b[43m    \u001b[49m\u001b[38;5;129;43m@radius\u001b[39;49m\u001b[43m.\u001b[49m\u001b[43msetter\u001b[49m\n\u001b[32m     10\u001b[39m \u001b[43m    \u001b[49m\u001b[38;5;28;43;01mdef\u001b[39;49;00m\u001b[38;5;250;43m \u001b[39;49m\u001b[34;43mradius\u001b[39;49m\u001b[43m(\u001b[49m\u001b[38;5;28;43mself\u001b[39;49m\u001b[43m,\u001b[49m\u001b[43m \u001b[49m\u001b[43mvalue\u001b[49m\u001b[43m)\u001b[49m\u001b[43m:\u001b[49m\n\u001b[32m     11\u001b[39m \u001b[43m        \u001b[49m\u001b[38;5;28;43mprint\u001b[39;49m\u001b[43m(\u001b[49m\u001b[33;43m\"\u001b[39;49m\u001b[33;43mSetting value...\u001b[39;49m\u001b[33;43m\"\u001b[39;49m\u001b[43m)\u001b[49m\n",
      "\u001b[36mCell\u001b[39m\u001b[36m \u001b[39m\u001b[32mIn[19]\u001b[39m\u001b[32m, line 9\u001b[39m, in \u001b[36mCircle\u001b[39m\u001b[34m()\u001b[39m\n\u001b[32m      6\u001b[39m \u001b[38;5;28;01mclass\u001b[39;00m\u001b[38;5;250m \u001b[39m\u001b[34;01mCircle\u001b[39;00m:\n\u001b[32m      7\u001b[39m     \u001b[38;5;66;03m# ... (getter defined above)\u001b[39;00m\n\u001b[32m----> \u001b[39m\u001b[32m9\u001b[39m     \u001b[38;5;129m@radius\u001b[39m.setter\n\u001b[32m     10\u001b[39m     \u001b[38;5;28;01mdef\u001b[39;00m\u001b[38;5;250m \u001b[39m\u001b[34mradius\u001b[39m(\u001b[38;5;28mself\u001b[39m, value):\n\u001b[32m     11\u001b[39m         \u001b[38;5;28mprint\u001b[39m(\u001b[33m\"\u001b[39m\u001b[33mSetting value...\u001b[39m\u001b[33m\"\u001b[39m)\n\u001b[32m     12\u001b[39m         \u001b[38;5;28;01mif\u001b[39;00m value < \u001b[32m0\u001b[39m:\n",
      "\u001b[31mNameError\u001b[39m: name 'radius' is not defined"
     ]
    }
   ],
   "source": [
    "'''2. The Setter (@<name>.setter)\n",
    "This decorator defines the setter method, which controls how the attribute is assigned a new value. You can add validation or other logic here.\n",
    "'''\n",
    "\n",
    "\n",
    "class Circle:\n",
    "    # ... (getter defined above)\n",
    "    \n",
    "    @radius.setter\n",
    "    def radius(self, value):\n",
    "        print(\"Setting value...\")\n",
    "        if value < 0:\n",
    "            raise ValueError(\"Radius cannot be negative\")\n",
    "        self._radius = value"
   ]
  },
  {
   "cell_type": "code",
   "execution_count": 20,
   "id": "c0a44b94",
   "metadata": {},
   "outputs": [
    {
     "ename": "NameError",
     "evalue": "name 'radius' is not defined",
     "output_type": "error",
     "traceback": [
      "\u001b[31m---------------------------------------------------------------------------\u001b[39m",
      "\u001b[31mNameError\u001b[39m                                 Traceback (most recent call last)",
      "\u001b[36mCell\u001b[39m\u001b[36m \u001b[39m\u001b[32mIn[20]\u001b[39m\u001b[32m, line 6\u001b[39m\n\u001b[32m      1\u001b[39m \u001b[33;03m'''3. The Deleter (@<name>.deleter)\u001b[39;00m\n\u001b[32m      2\u001b[39m \u001b[33;03mThis is an optional decorator that defines what happens when you try to delete the attribute using the del keyword.\u001b[39;00m\n\u001b[32m      3\u001b[39m \u001b[33;03m'''\u001b[39;00m\n\u001b[32m----> \u001b[39m\u001b[32m6\u001b[39m \u001b[38;5;28;43;01mclass\u001b[39;49;00m\u001b[38;5;250;43m \u001b[39;49m\u001b[34;43;01mCircle\u001b[39;49;00m\u001b[43m:\u001b[49m\n\u001b[32m      7\u001b[39m \u001b[43m    \u001b[49m\u001b[38;5;66;43;03m# ... (getter and setter defined above)\u001b[39;49;00m\n\u001b[32m      9\u001b[39m \u001b[43m    \u001b[49m\u001b[38;5;129;43m@radius\u001b[39;49m\u001b[43m.\u001b[49m\u001b[43mdeleter\u001b[49m\n\u001b[32m     10\u001b[39m \u001b[43m    \u001b[49m\u001b[38;5;28;43;01mdef\u001b[39;49;00m\u001b[38;5;250;43m \u001b[39;49m\u001b[34;43mradius\u001b[39;49m\u001b[43m(\u001b[49m\u001b[38;5;28;43mself\u001b[39;49m\u001b[43m,\u001b[49m\u001b[43m \u001b[49m\u001b[43mvalue\u001b[49m\u001b[43m)\u001b[49m\u001b[43m:\u001b[49m\n\u001b[32m     11\u001b[39m \u001b[43m        \u001b[49m\u001b[38;5;28;43mprint\u001b[39;49m\u001b[43m(\u001b[49m\u001b[33;43m\"\u001b[39;49m\u001b[33;43mDeleting value...\u001b[39;49m\u001b[33;43m\"\u001b[39;49m\u001b[43m)\u001b[49m\n",
      "\u001b[36mCell\u001b[39m\u001b[36m \u001b[39m\u001b[32mIn[20]\u001b[39m\u001b[32m, line 9\u001b[39m, in \u001b[36mCircle\u001b[39m\u001b[34m()\u001b[39m\n\u001b[32m      6\u001b[39m \u001b[38;5;28;01mclass\u001b[39;00m\u001b[38;5;250m \u001b[39m\u001b[34;01mCircle\u001b[39;00m:\n\u001b[32m      7\u001b[39m     \u001b[38;5;66;03m# ... (getter and setter defined above)\u001b[39;00m\n\u001b[32m----> \u001b[39m\u001b[32m9\u001b[39m     \u001b[38;5;129m@radius\u001b[39m.deleter\n\u001b[32m     10\u001b[39m     \u001b[38;5;28;01mdef\u001b[39;00m\u001b[38;5;250m \u001b[39m\u001b[34mradius\u001b[39m(\u001b[38;5;28mself\u001b[39m, value):\n\u001b[32m     11\u001b[39m         \u001b[38;5;28mprint\u001b[39m(\u001b[33m\"\u001b[39m\u001b[33mDeleting value...\u001b[39m\u001b[33m\"\u001b[39m)\n\u001b[32m     12\u001b[39m         \u001b[38;5;28;01mdel\u001b[39;00m \u001b[38;5;28mself\u001b[39m._radius\n",
      "\u001b[31mNameError\u001b[39m: name 'radius' is not defined"
     ]
    }
   ],
   "source": [
    "'''3. The Deleter (@<name>.deleter)\n",
    "This is an optional decorator that defines what happens when you try to delete the attribute using the del keyword.\n",
    "'''\n",
    "\n",
    "\n",
    "class Circle:\n",
    "    # ... (getter and setter defined above)\n",
    "\n",
    "    @radius.deleter\n",
    "    def radius(self, value):\n",
    "        print(\"Deleting value...\")\n",
    "        del self._radius"
   ]
  },
  {
   "cell_type": "code",
   "execution_count": 21,
   "id": "18020afb",
   "metadata": {},
   "outputs": [
    {
     "name": "stdout",
     "output_type": "stream",
     "text": [
      "Getting radius...\n",
      "Initial radius: 5\n",
      "Setting radius...\n",
      "Getting radius...\n",
      "New radius: 10\n",
      "Setting radius...\n",
      "Radius cannot be negative.\n"
     ]
    }
   ],
   "source": [
    "#Full Example\n",
    "class Circle:\n",
    "    def __init__(self, radius):\n",
    "        self._radius = radius\n",
    "\n",
    "    @property\n",
    "    def radius(self):\n",
    "        \"\"\"The getter method.\"\"\"\n",
    "        print(\"Getting radius...\")\n",
    "        return self._radius\n",
    "\n",
    "    @radius.setter\n",
    "    def radius(self, value):\n",
    "        \"\"\"The setter method with validation.\"\"\"\n",
    "        print(\"Setting radius...\")\n",
    "        if not isinstance(value, (int, float)):\n",
    "            raise TypeError(\"Radius must be a number.\")\n",
    "        if value < 0:\n",
    "            raise ValueError(\"Radius cannot be negative.\")\n",
    "        self._radius = value\n",
    "\n",
    "    @radius.deleter\n",
    "    def radius(self):\n",
    "        \"\"\"The deleter method.\"\"\"\n",
    "        print(\"Deleting radius...\")\n",
    "        del self._radius\n",
    "\n",
    "# Usage\n",
    "my_circle = Circle(5)\n",
    "\n",
    "# Accessing the property (calls the getter)\n",
    "print(f\"Initial radius: {my_circle.radius}\")\n",
    "\n",
    "# Setting the property (calls the setter)\n",
    "my_circle.radius = 10\n",
    "print(f\"New radius: {my_circle.radius}\")\n",
    "\n",
    "# Trying to set an invalid value (will raise an error)\n",
    "try:\n",
    "    my_circle.radius = -1\n",
    "except ValueError as e:\n",
    "    print(e)"
   ]
  },
  {
   "cell_type": "markdown",
   "id": "92206afb",
   "metadata": {},
   "source": [
    "14. Why is polymorphism important in OOP?"
   ]
  },
  {
   "cell_type": "markdown",
   "id": "6bf6f164",
   "metadata": {},
   "source": [
    "Answer ->\n",
    "\n",
    "Polymorphism is crucial in OOP because it allows objects of different classes to be treated as objects of a common superclass. It enables a single interface to represent different underlying forms (hence the name, from the Greek \"poly\" meaning \"many\" and \"morph\" meaning \"form\"). This leads to more flexible, scalable, and maintainable code.\n",
    "\n",
    "\n",
    "\n",
    "Key Reasons for Its Importance\n",
    "\n",
    "- Code Reusability and Flexibility: Polymorphism allows you to write generic code that can work with objects of various classes. For instance, a function can be designed to accept an object of a parent class and, thanks to polymorphism, it will work correctly with any object of a subclass. This means you don't need to write separate functions for each class, which reduces code duplication and makes your programs more adaptable to new classes.\n",
    "\n",
    "- Simplified Interface: It simplifies the interface of a system by hiding the complexity of the specific implementation. You can interact with a collection of diverse objects through a single, uniform method call. For example, if you have a list of different Animal objects (like Dog, Cat, and Cow), you can call a generic speak() method on each one, and the correct, specific sound (bark, meow, or moo) will be produced without you needing to know the exact type of each animal.\n",
    "\n",
    "\n",
    "- Improved Maintainability: Polymorphism makes your code easier to maintain and extend. If you need to add a new class, like a Snake class, to your Animal hierarchy, you just need to ensure it implements the speak() method. Existing code that works with the Animal class will automatically work with the new Snake object without any changes.\n",
    "\n",
    "- Dynamic Binding (or Late Binding): Polymorphism relies on dynamic binding, where the method to be executed is determined at runtime, not at compile time. This allows the program to choose the correct method implementation based on the actual object's type, enabling the flexible behavior that is a hallmark of OOP."
   ]
  },
  {
   "cell_type": "markdown",
   "id": "8b60b58e",
   "metadata": {},
   "source": [
    "15. What is an abstract class in Python?"
   ]
  },
  {
   "cell_type": "markdown",
   "id": "844df3ac",
   "metadata": {},
   "source": [
    "Answer ->\n",
    "\n",
    "An abstract class is a blueprint for other classes, containing one or more abstract methods that have a declaration but no implementation. You cannot create an object (instantiate) an abstract class directly. Instead, other classes must inherit from it and provide concrete implementations for all of its abstract methods. This concept is a core part of Python's support for abstraction in object-oriented programming.\n",
    "\n",
    "\n",
    "\n",
    "\n",
    "How to Create an Abstract Class -> \n",
    "\n",
    "Python's built-in abc (Abstract Base Classes) module provides the tools to create abstract classes. To make a class abstract, you must:\n",
    "\n",
    "Import the ABC class and the abstractmethod decorator from the abc module.\n",
    "\n",
    "Inherit from the ABC class in your base class.\n",
    "\n",
    "Decorate any abstract methods with @abstractmethod."
   ]
  },
  {
   "cell_type": "code",
   "execution_count": 22,
   "id": "104ea40f",
   "metadata": {},
   "outputs": [],
   "source": [
    "from abc import ABC, abstractmethod\n",
    "\n",
    "class Vehicle(ABC):\n",
    "    @abstractmethod\n",
    "    def start_engine(self):\n",
    "        pass # No implementation here\n",
    "\n",
    "    @abstractmethod\n",
    "    def stop_engine(self):\n",
    "        pass # No implementation here\n",
    "\n",
    "    def refuel(self):\n",
    "        print(\"Refueling the vehicle.\")\n",
    "\n",
    "# You cannot do this:\n",
    "# my_vehicle = Vehicle()  # This will raise a TypeError"
   ]
  },
  {
   "cell_type": "markdown",
   "id": "e97f1080",
   "metadata": {},
   "source": [
    "Why Use Abstract Classes?\n",
    "\n",
    "The primary purpose of an abstract class is to enforce a common interface for a group of related classes. It dictates what methods a subclass must have, ensuring a consistent structure across the inheritance hierarchy. This is particularly useful for:\n",
    "\n",
    "\n",
    "Standardizing design: It ensures that all subclasses have a specific set of required methods, making the code more predictable and easier to understand.\n",
    "\n",
    "Preventing incomplete implementation: By forcing developers to implement the abstract methods, it prevents the creation of incomplete or broken objects.\n",
    "\n",
    "Promoting good design: It encourages the use of polymorphism, as you can write code that operates on the abstract base class, and it will work with any of its concrete subclasses."
   ]
  },
  {
   "cell_type": "code",
   "execution_count": 23,
   "id": "f2f5c5f8",
   "metadata": {},
   "outputs": [
    {
     "name": "stdout",
     "output_type": "stream",
     "text": [
      "Starting the car engine.\n",
      "Refueling the vehicle.\n",
      "Starting the motorcycle engine.\n"
     ]
    }
   ],
   "source": [
    "'''Implementing an Abstract Class\n",
    "To use an abstract class, you must create a concrete subclass that inherits from it and provides a body for all abstract methods.\n",
    "'''\n",
    "\n",
    "class Car(Vehicle):\n",
    "    def start_engine(self):\n",
    "        print(\"Starting the car engine.\")\n",
    "\n",
    "    def stop_engine(self):\n",
    "        print(\"Stopping the car engine.\")\n",
    "\n",
    "class Motorcycle(Vehicle):\n",
    "    def start_engine(self):\n",
    "        print(\"Starting the motorcycle engine.\")\n",
    "\n",
    "    def stop_engine(self):\n",
    "        print(\"Stopping the motorcycle engine.\")\n",
    "\n",
    "# Now you can create objects of the concrete classes\n",
    "my_car = Car()\n",
    "my_car.start_engine()  # Output: Starting the car engine.\n",
    "my_car.refuel()        # Output: Refueling the vehicle.\n",
    "\n",
    "my_bike = Motorcycle()\n",
    "my_bike.start_engine() # Output: Starting the motorcycle engine."
   ]
  },
  {
   "cell_type": "markdown",
   "id": "56b907f3",
   "metadata": {},
   "source": [
    "16. What are the advantages of OOP?\n"
   ]
  },
  {
   "cell_type": "markdown",
   "id": "21144d52",
   "metadata": {},
   "source": [
    "Answer ->\n",
    "\n",
    "Key Advantages -->>\n",
    "\n",
    "Modularity: OOP allows you to break down a complex problem into smaller, self-contained objects. Each object handles its own data and behavior, making the overall system easier to manage. This separation of concerns improves clarity and organization.\n",
    "\n",
    "\n",
    "\n",
    "Reusability: Through concepts like inheritance and polymorphism, you can reuse code more effectively. A child class can inherit the attributes and methods of a parent class, saving you from writing the same code multiple times. This leads to faster development and fewer bugs.\n",
    "\n",
    "\n",
    "\n",
    "Flexibility and Extensibility: OOP makes it easier to add new features or modify existing ones. You can create new subclasses that inherit from a base class without changing the original code, thanks to polymorphism. This means your system can grow and adapt to new requirements more easily.\n",
    "\n",
    "\n",
    "\n",
    "Improved Maintainability: Encapsulation and modularity help in isolating changes. If you need to fix a bug in one object, you can do so without worrying about affecting other parts of the system, as long as the public interface remains the same. This makes the code less fragile and easier to debug.\n",
    "\n",
    "\n",
    "Data Security: Encapsulation protects data from being accidentally modified. By bundling data and the methods that operate on it, OOP allows you to hide the internal state of an object and expose only a controlled interface. This prevents external code from directly accessing and corrupting the object's data.\n",
    "\n",
    "\n",
    "\n",
    "Real-world Modeling: The core principles of OOP—objects, attributes, and behaviors—closely mirror how we think about the real world. This makes the code more intuitive and easier for developers to understand and reason about, as it maps directly to the problem domain. For example, a Car object can have attributes like color and speed and methods like accelerate() and brake(), just like a real car."
   ]
  },
  {
   "cell_type": "markdown",
   "id": "35d00e39",
   "metadata": {},
   "source": [
    "17. What is the difference between a class variable and an instance variable?"
   ]
  },
  {
   "cell_type": "markdown",
   "id": "8605de81",
   "metadata": {},
   "source": [
    "Answer ->\n",
    "\n",
    "Class Variables ->\n",
    "\n",
    "Class variables are shared among all instances of a class. They are defined directly inside the class but outside any methods. They are typically used to store data that is common to all objects of that class.\n",
    "\n",
    "\n",
    "Definition: Defined within the class body.\n",
    "\n",
    "Storage: Stored in the class's namespace.\n",
    "\n",
    "Access: Accessed using either the class name (e.g., ClassName.variable) or an instance of the class (e.g., instance_name.variable).\n",
    "\n",
    "Analogy: A class variable is like a company's logo. Every employee (instance) has access to and can see the same logo, and if the logo changes, it changes for everyone."
   ]
  },
  {
   "cell_type": "code",
   "execution_count": 24,
   "id": "46a36dda",
   "metadata": {},
   "outputs": [
    {
     "name": "stdout",
     "output_type": "stream",
     "text": [
      "Satya Nadella\n",
      "Satya Nadella\n",
      "Sundar Pichai\n"
     ]
    }
   ],
   "source": [
    "class Company:\n",
    "    # This is a class variable\n",
    "    ceo_name = \"Satya Nadella\"\n",
    "\n",
    "    def __init__(self, employee_name):\n",
    "        self.employee_name = employee_name\n",
    "\n",
    "emp1 = Company(\"Alice\")\n",
    "emp2 = Company(\"Bob\")\n",
    "\n",
    "print(emp1.ceo_name) # Output: Satya Nadella\n",
    "print(emp2.ceo_name) # Output: Satya Nadella\n",
    "\n",
    "# Changing the class variable\n",
    "Company.ceo_name = \"Sundar Pichai\"\n",
    "\n",
    "print(emp1.ceo_name) # Output: Sundar Pichai"
   ]
  },
  {
   "cell_type": "markdown",
   "id": "187500e5",
   "metadata": {},
   "source": [
    "Instance Variables -->\n",
    "\n",
    "Instance variables are unique to each instance (object) of a class. They are defined inside a method, most commonly the __init__ constructor, using the self keyword. Each object has its own copy of the instance variable.\n",
    "\n",
    "Definition: Defined inside a method, typically __ _init_ __, using self.\n",
    "\n",
    "Storage: Stored in the instance's namespace.\n",
    "\n",
    "Access: Accessed using an instance of the class (e.g., instance_name.variable).\n",
    "\n",
    "Analogy: An instance variable is like an employee's personal ID number. Every employee has one, but each number is unique and belongs only to that specific employee."
   ]
  },
  {
   "cell_type": "code",
   "execution_count": 25,
   "id": "40ca0bf4",
   "metadata": {},
   "outputs": [
    {
     "name": "stdout",
     "output_type": "stream",
     "text": [
      "Alice\n",
      "Bob\n",
      "John\n",
      "Bob\n"
     ]
    }
   ],
   "source": [
    "class Employee:\n",
    "    # This is a class variable\n",
    "    company_name = \"Tech Corp\"\n",
    "\n",
    "    def __init__(self, name):\n",
    "        # This is an instance variable\n",
    "        self.name = name\n",
    "\n",
    "emp1 = Employee(\"Alice\")\n",
    "emp2 = Employee(\"Bob\")\n",
    "\n",
    "print(emp1.name)  # Output: Alice\n",
    "print(emp2.name)  # Output: Bob\n",
    "\n",
    "# Changing an instance variable on one object doesn't affect others\n",
    "emp1.name = \"John\"\n",
    "print(emp1.name)  # Output: John\n",
    "print(emp2.name)  # Output: Bob"
   ]
  },
  {
   "cell_type": "markdown",
   "id": "1a3f09b2",
   "metadata": {},
   "source": [
    "18. What is multiple inheritance in Python?"
   ]
  },
  {
   "cell_type": "markdown",
   "id": "6e2df702",
   "metadata": {},
   "source": [
    "Answer ->\n",
    "\n",
    "Multiple inheritance is an object-oriented programming feature that allows a class to inherit from more than one parent class. This means the child class inherits all the attributes and methods from all of its parent classes, combining their functionalities into a single new class.\n",
    "\n",
    "\n",
    "How It Works\n",
    "In Python, you define a class with multiple parent classes by listing them within the parentheses of the class definition, separated by commas."
   ]
  },
  {
   "cell_type": "code",
   "execution_count": 26,
   "id": "fde3ebe5",
   "metadata": {},
   "outputs": [
    {
     "name": "stdout",
     "output_type": "stream",
     "text": [
      "I have skill 1.\n",
      "I have skill 2.\n",
      "I have skill 3.\n"
     ]
    }
   ],
   "source": [
    "class Father:\n",
    "    def skill1(self):\n",
    "        print(\"I have skill 1.\")\n",
    "\n",
    "class Mother:\n",
    "    def skill2(self):\n",
    "        print(\"I have skill 2.\")\n",
    "\n",
    "class Child(Father, Mother):\n",
    "    def skill3(self):\n",
    "        print(\"I have skill 3.\")\n",
    "\n",
    "child = Child()\n",
    "child.skill1()  # Inherited from Father\n",
    "child.skill2()  # Inherited from Mother\n",
    "child.skill3()  # Defined in Child"
   ]
  },
  {
   "cell_type": "markdown",
   "id": "8c7696cb",
   "metadata": {},
   "source": [
    "The Diamond Problem (Method Resolution Order - MRO):\n",
    "\n",
    "A significant challenge with multiple inheritance is the \"diamond problem.\" This occurs when a class inherits from two parent classes that, in turn, share a common ancestor. This creates a diamond-shaped inheritance hierarchy and can lead to ambiguity about which method to use if a method with the same name exists in multiple parent classes.\n",
    "\n",
    "\n",
    "To resolve this, Python uses the Method Resolution Order (MRO), which is a specific algorithm (C3 linearization) to determine the order in which base classes are searched for a method or attribute. You can view the MRO of a class using the .__mro__ attribute or the help() function."
   ]
  },
  {
   "cell_type": "code",
   "execution_count": 27,
   "id": "d88089f9",
   "metadata": {},
   "outputs": [
    {
     "name": "stdout",
     "output_type": "stream",
     "text": [
      "From Class B\n",
      "(<class '__main__.D'>, <class '__main__.B'>, <class '__main__.C'>, <class '__main__.A'>, <class 'object'>)\n"
     ]
    }
   ],
   "source": [
    "class A:\n",
    "    def show(self):\n",
    "        print(\"From Class A\")\n",
    "\n",
    "class B(A):\n",
    "    def show(self):\n",
    "        print(\"From Class B\")\n",
    "\n",
    "class C(A):\n",
    "    def show(self):\n",
    "        print(\"From Class C\")\n",
    "\n",
    "class D(B, C):\n",
    "    pass\n",
    "\n",
    "d = D()\n",
    "d.show()\n",
    "\n",
    "print(D.__mro__)"
   ]
  },
  {
   "cell_type": "markdown",
   "id": "b2c47d49",
   "metadata": {},
   "source": [
    "19. Explain the purpose of ‘__ _str_ __ ’ and ‘ __ _repr_ __’ methods in Python."
   ]
  },
  {
   "cell_type": "markdown",
   "id": "ac7e08ce",
   "metadata": {},
   "source": [
    "Answer ->\n",
    "\n",
    "__ _str_ __ (Informal String Representation)\n",
    "\n",
    "The __ _str_ __ method provides a user-friendly, readable representation of an object. It's designed for the end user and should be easy to understand. It's called by built-in functions like str(), print(), and format(). The goal of __ _str_ __ is to give a concise and meaningful output that describes the object."
   ]
  },
  {
   "cell_type": "code",
   "execution_count": 28,
   "id": "604d49e7",
   "metadata": {},
   "outputs": [
    {
     "name": "stdout",
     "output_type": "stream",
     "text": [
      "Student(name='Alice', age=21)\n"
     ]
    }
   ],
   "source": [
    "class Student:\n",
    "    def __init__(self, name, age):\n",
    "        self.name = name\n",
    "        self.age = age\n",
    "\n",
    "    def __str__(self):\n",
    "        return f\"Student(name='{self.name}', age={self.age})\"\n",
    "\n",
    "s = Student(\"Alice\", 21)\n",
    "print(s)  # Calls __str__\n",
    "# Output: Student(name='Alice', age=21)"
   ]
  },
  {
   "cell_type": "markdown",
   "id": "bab32ae1",
   "metadata": {},
   "source": [
    "__ _repr_ __ (Official String Representation)\n",
    "The __ _repr_ __ method provides an unambiguous, developer-oriented representation of an object. The goal of __ _repr_ __ is to produce a string that, if possible, could be used to recreate the object. It's often called when you inspect an object in the Python interactive shell or when you use the repr() function.\n",
    "\n",
    "A good __ _repr_ __ output should be able to uniquely identify the object. The convention is to provide an output that looks like the code used to create the object."
   ]
  },
  {
   "cell_type": "code",
   "execution_count": 29,
   "id": "29f07aec",
   "metadata": {},
   "outputs": [
    {
     "name": "stdout",
     "output_type": "stream",
     "text": [
      "Student('Alice', 21)\n"
     ]
    }
   ],
   "source": [
    "class Student:\n",
    "    def __init__(self, name, age):\n",
    "        self.name = name\n",
    "        self.age = age\n",
    "\n",
    "    def __repr__(self):\n",
    "        return f\"Student('{self.name}', {self.age})\"\n",
    "\n",
    "s = Student(\"Alice\", 21)\n",
    "print(repr(s)) # Calls __repr__\n",
    "# Output: Student('Alice', 21)"
   ]
  },
  {
   "cell_type": "markdown",
   "id": "56a124f5",
   "metadata": {},
   "source": [
    "20. What is the significance of the ‘super()’ function in Python?\n"
   ]
  },
  {
   "cell_type": "markdown",
   "id": "d3ff0db1",
   "metadata": {},
   "source": [
    "Answer ->\n",
    "\n",
    "The super() function in Python is a built-in function that provides a way to call a method from the parent (superclass) or sibling classes. Its primary significance lies in enabling proper cooperative multiple inheritance and ensuring that a class's methods are called in the correct Method Resolution Order (MRO)."
   ]
  },
  {
   "cell_type": "code",
   "execution_count": null,
   "id": "68714fe2",
   "metadata": {},
   "outputs": [
    {
     "name": "stdout",
     "output_type": "stream",
     "text": [
      "D\n",
      "B\n",
      "C\n",
      "A\n"
     ]
    }
   ],
   "source": [
    "'''\n",
    "Accessing the Parent Class's Methods: The most common use of super() is to call a method from the immediate parent class. \n",
    "This is particularly useful in an overriding scenario, where you want to extend the parent's functionality rather than completely replacing it.\n",
    "'''\n",
    "\n",
    "class Animal:\n",
    "    def __init__(self, name):\n",
    "        self.name = name\n",
    "\n",
    "class Dog(Animal):\n",
    "    def __init__(self, name, breed):\n",
    "        super().__init__(name) # Calls the Animal's __init__ method\n",
    "        self.breed = breed\n",
    "#In this example, super().__init__(name) ensures that the Animal class's __init__ method is executed to initialize the name attribute before the Dog class's specific initialization.\n",
    "\n",
    "'''Handling the Method Resolution Order (MRO): In a complex inheritance hierarchy, especially with multiple inheritance, super() does not just call \n",
    "the direct parent. Instead, it follows the MRO to find the next class in the chain that implements the method. This ensures that methods are called in a predictable and consistent order.\n",
    "'''\n",
    "\n",
    "\n",
    "class A:\n",
    "    def show(self):\n",
    "        print(\"A\")\n",
    "\n",
    "class B(A):\n",
    "    def show(self):\n",
    "        print(\"B\")\n",
    "        super().show() # Calls A's show()\n",
    "\n",
    "class C(A):\n",
    "    def show(self):\n",
    "        print(\"C\")\n",
    "        super().show() # Calls A's show()\n",
    "\n",
    "class D(B, C):\n",
    "    def show(self):\n",
    "        print(\"D\")\n",
    "        super().show() # This call will follow the MRO: B, then C, then A\n",
    "\n",
    "d = D()\n",
    "d.show() \n",
    "# Output:\n",
    "# D\n",
    "# B\n",
    "# C\n",
    "# A"
   ]
  },
  {
   "cell_type": "markdown",
   "id": "13425b3d",
   "metadata": {},
   "source": [
    "21. What is the significance of the __ _del_ __ method in Python?"
   ]
  },
  {
   "cell_type": "markdown",
   "id": "de9d692c",
   "metadata": {},
   "source": [
    "Answer ->\n",
    "\n",
    "The __ _del_ __ method, also known as the destructor, is a special method in a class that is called when an object is about to be destroyed. Its primary purpose is to perform cleanup actions before an object is garbage collected.\n",
    "\n",
    "Key Purposes of __ _del_ __\n",
    "\n",
    "Releasing External Resources: The most significant use of __ _del_ __ is to free up resources that are not managed by Python's automatic memory management. This includes things like:\n",
    "\n",
    "- Closing file handles or network connections.\n",
    "- Releasing locks.\n",
    "- Terminating processes.\n",
    "- Disconnecting from databases.\n",
    "\n",
    "This ensures that resources are properly cleaned up when the object that created them is no longer needed, preventing resource leaks.\n",
    "\n",
    "Important Considerations:\n",
    "\n",
    "While __ _del_ __ seems useful, it is not recommended for general use and is rarely needed in modern Python. Relying on it can lead to unpredictable behavior because:\n",
    "\n",
    "- Non-deterministic Execution: The __ _del_ __ method is called when the Python garbage collector decides to destroy an object, and there is no guarantee when this will happen. An object might persist for a long time after it is no longer referenced.\n",
    "\n",
    "- Circular References: If an object that has a __ _del_ __ method is part of a circular reference (where objects refer to each other), the garbage collector might not be able to collect them, and the __ _del_ __ method will never be called.\n",
    "\n",
    "- Uncertain Order: The order in which __ _del_ __ methods are called for multiple objects is not guaranteed, which can lead to issues if one object's destructor relies on another object still being alive."
   ]
  },
  {
   "cell_type": "code",
   "execution_count": 31,
   "id": "83a2cf60",
   "metadata": {},
   "outputs": [
    {
     "name": "stdout",
     "output_type": "stream",
     "text": [
      "File opened.\n",
      "File closed.\n"
     ]
    }
   ],
   "source": [
    "class FileHandler:\n",
    "    def __init__(self, filename, mode):\n",
    "        self.file = open(filename, mode)\n",
    "        print(\"File opened.\")\n",
    "\n",
    "    def __del__(self):\n",
    "        self.file.close()\n",
    "        print(\"File closed.\")\n",
    "\n",
    "# Create an instance\n",
    "handler = FileHandler(\"example.txt\", \"w\")\n",
    "\n",
    "# The __del__ method will be called automatically when the object is\n",
    "# garbage collected.\n",
    "del handler"
   ]
  },
  {
   "cell_type": "markdown",
   "id": "5e4833b3",
   "metadata": {},
   "source": [
    "22. What is the difference between @staticmethod and @classmethod in Python?"
   ]
  },
  {
   "cell_type": "markdown",
   "id": "9461d5ac",
   "metadata": {},
   "source": [
    "Answer ->\n",
    "\n",
    "-- Static Methods (@staticmethod):\n",
    "\n",
    "A static method is essentially a regular function that lives inside a class. It doesn't receive the instance (self) or the class (cls) as an implicit first argument. It can be called from the class or an instance, but it can't modify the class's state or the instance's state. It is used to group functions that are logically related to a class but do not need any specific data from that class.\n",
    "\n",
    "Key Characteristics:\n",
    "\n",
    "- No Implicit Arguments: It doesn't take self or cls.\n",
    "- No State Access: It cannot access or modify class or instance attributes.\n",
    "- Purpose: Utility functions, helper methods that are logically part of the class but don't depend on its state.\n",
    "\n"
   ]
  },
  {
   "cell_type": "code",
   "execution_count": 34,
   "id": "d4541c64",
   "metadata": {},
   "outputs": [
    {
     "name": "stdout",
     "output_type": "stream",
     "text": [
      "77.0\n"
     ]
    }
   ],
   "source": [
    "class TemperatureConverter:\n",
    "    @staticmethod\n",
    "    def celsius_to_fahrenheit(celsius):\n",
    "        return (celsius * 9/5) + 32\n",
    "\n",
    "# Can be called without creating an instance\n",
    "fahrenheit_temp = TemperatureConverter.celsius_to_fahrenheit(25)\n",
    "print(fahrenheit_temp)"
   ]
  },
  {
   "cell_type": "markdown",
   "id": "3c0b5fc7",
   "metadata": {},
   "source": [
    "-- Class Methods (@classmethod):\n",
    "\n",
    "A class method is bound to the class itself and receives the class object (cls) as its first argument. It can access and modify class-level attributes and is often used to create alternative ways of instantiating an object, known as factory methods.\n",
    "\n",
    "Key Characteristics:\n",
    "\n",
    "- Implicit cls Argument: The first argument is always the class itself.\n",
    "- Access to Class State: It can access and modify class attributes.\n",
    "- Purpose: Factory methods, alternative constructors, and methods that need to interact with the class itself."
   ]
  },
  {
   "cell_type": "code",
   "execution_count": 36,
   "id": "bc45ad20",
   "metadata": {},
   "outputs": [
    {
     "name": "stdout",
     "output_type": "stream",
     "text": [
      "5.0\n"
     ]
    }
   ],
   "source": [
    "class Circle:\n",
    "    pi = 3.14159\n",
    "\n",
    "    def __init__(self, radius):\n",
    "        self.radius = radius\n",
    "\n",
    "    @classmethod\n",
    "    def from_diameter(cls, diameter):\n",
    "        # cls here refers to the Circle class\n",
    "        return cls(diameter / 2)\n",
    "\n",
    "# Create an instance using the factory method\n",
    "circle1 = Circle.from_diameter(10)\n",
    "print(circle1.radius)"
   ]
  },
  {
   "cell_type": "markdown",
   "id": "78e90323",
   "metadata": {},
   "source": [
    "23. How does polymorphism work in Python with inheritance?\n"
   ]
  },
  {
   "cell_type": "markdown",
   "id": "062b03fa",
   "metadata": {},
   "source": [
    "Answer ->\n",
    "\n",
    "In Python, polymorphism with inheritance allows objects of different classes to be treated as objects of a common superclass. This means you can write code that works with a generic base class, and it will automatically handle specific implementations from its subclasses at runtime. The core mechanism that enables this is method overriding.\n",
    "\n",
    "Method Overriding and Dynamic Binding\n",
    "Polymorphism in Python works because of dynamic binding (also known as late binding). When you call a method on an object, the Python interpreter determines which specific method to execute based on the object's actual type, not the type of the variable it's assigned to.\n",
    "\n",
    "Key Principles\n",
    "\n",
    "- Inheritance: Polymorphism is built on a class hierarchy. Subclasses inherit from a base class, providing a common interface.\n",
    "\n",
    "- Common Interface: The base class defines a method (e.g., speak()) that all subclasses are expected to implement.\n",
    "\n",
    "- Overriding: Each subclass provides its own specific implementation of the common method.\n",
    "\n",
    "- Runtime Execution: The specific method to be executed is decided at runtime, based on the type of the object, not the type of the variable holding the object."
   ]
  },
  {
   "cell_type": "code",
   "execution_count": 37,
   "id": "a63e787d",
   "metadata": {},
   "outputs": [
    {
     "name": "stdout",
     "output_type": "stream",
     "text": [
      "Woof!\n",
      "Meow!\n"
     ]
    }
   ],
   "source": [
    "class Animal:\n",
    "    def speak(self):\n",
    "        raise NotImplementedError(\"Subclass must implement abstract method\")\n",
    "\n",
    "class Dog(Animal):\n",
    "    def speak(self):\n",
    "        return \"Woof!\"\n",
    "\n",
    "class Cat(Animal):\n",
    "    def speak(self):\n",
    "        return \"Meow!\"\n",
    "\n",
    "# A list of different animal objects\n",
    "animals = [Dog(), Cat()]\n",
    "\n",
    "# Loop through the list and call the speak() method\n",
    "for animal in animals:\n",
    "    print(animal.speak())"
   ]
  },
  {
   "cell_type": "markdown",
   "id": "d5a3792c",
   "metadata": {},
   "source": [
    "24. What is method chaining in Python OOP?\n"
   ]
  },
  {
   "cell_type": "markdown",
   "id": "f7054491",
   "metadata": {},
   "source": [
    "Answer ->\n",
    "\n",
    "Method chaining is a programming technique that allows you to call multiple methods on an object in a single, consecutive line of code. This is achieved by having each method return the object itself (return self), which allows the next method in the chain to be called on the same object.\n",
    "\n",
    "\n",
    "How it Works:\n",
    "\n",
    "The core principle is to make each method a fluent interface. Instead of performing an action and returning None or a different value, the method's last action is to return self, the instance of the object. This lets you string method calls together.\n",
    "\n",
    "Advantages:\n",
    "\n",
    "- Readability: Method chaining can make code more readable and concise, especially when a series of related operations needs to be performed on an object. It creates a \"fluent\" style that often reads like a natural sentence (e.g., my_car.set_color(\"blue\").accelerate(50)).\n",
    "\n",
    "- Conciseness: It reduces the need for multiple lines of code and temporary variables.\n",
    "\n",
    "Disadvantages:\n",
    "\n",
    "- Debugging: Chained method calls can be harder to debug. If an error occurs in the middle of a chain, it might not be immediately obvious which method caused the issue.\n",
    "\n",
    "- Readability (in excess): Overly long method chains can become difficult to read and understand, especially if the methods have complex side effects."
   ]
  },
  {
   "cell_type": "code",
   "execution_count": 38,
   "id": "a1cb6576",
   "metadata": {},
   "outputs": [
    {
     "name": "stdout",
     "output_type": "stream",
     "text": [
      "Color: blue, Speed: 50 km/h\n"
     ]
    },
    {
     "data": {
      "text/plain": [
       "<__main__.Car at 0x20182ab0980>"
      ]
     },
     "execution_count": 38,
     "metadata": {},
     "output_type": "execute_result"
    }
   ],
   "source": [
    "class Car:\n",
    "    def __init__(self, color):\n",
    "        self.color = color\n",
    "        self.speed = 0\n",
    "\n",
    "    def set_color(self, new_color):\n",
    "        self.color = new_color\n",
    "        return self  # Return the instance\n",
    "\n",
    "    def accelerate(self, speed_increase):\n",
    "        self.speed += speed_increase\n",
    "        return self  # Return the instance\n",
    "\n",
    "    def get_info(self):\n",
    "        print(f\"Color: {self.color}, Speed: {self.speed} km/h\")\n",
    "        return self\n",
    "\n",
    "# Method chaining in action\n",
    "my_car = Car(\"red\")\n",
    "my_car.set_color(\"blue\").accelerate(50).get_info()"
   ]
  },
  {
   "cell_type": "markdown",
   "id": "fa3c7ce0",
   "metadata": {},
   "source": [
    "25. What is the purpose of the __ _call_ __ method in Python?"
   ]
  },
  {
   "cell_type": "markdown",
   "id": "c93cc4fe",
   "metadata": {},
   "source": [
    "Answer ->\n",
    "\n",
    "The __ _call_ __ method in Python is a special method that allows an object to be treated and called like a function. When you define this method in a class, instances of that class can be \"called\" using the function-call syntax (()).\n",
    "\n",
    "How It Works\n",
    "\n",
    "When an object is called like a function, Python automatically invokes its __ _call_ __ method. The arguments passed in the function call are passed directly to this method. This behavior makes objects \"callable.\"\n",
    "\n",
    "Key Purposes of __ _call_ __:\n",
    "\n",
    "The __ _call_ __ method is useful for several design patterns and scenarios:\n",
    "\n",
    "- Creating Callable Objects with State: It allows you to create callable objects that maintain their own internal state. In the example above, the Multiplier object remembers its factor (2) and uses it in every call. This is a common pattern for creating function-like objects that can be configured with specific data.\n",
    "\n",
    "- Creating Decorators with Arguments: __ _call_ __ is a fundamental part of creating decorators that accept arguments. The decorator class's __ _call_ __ method takes the arguments, and the __ _call_ __ method handles the function to be decorated.\n",
    "\n",
    "- Simulating Closures or Function Factories: A function that returns another function (a closure) is a common pattern in Python. __ _call_ __ provides an elegant, class-based way to achieve the same result, often with better readability and organization."
   ]
  },
  {
   "cell_type": "code",
   "execution_count": 39,
   "id": "53d15497",
   "metadata": {},
   "outputs": [
    {
     "name": "stdout",
     "output_type": "stream",
     "text": [
      "20\n",
      "10\n"
     ]
    }
   ],
   "source": [
    "class Multiplier:\n",
    "    def __init__(self, factor):\n",
    "        self.factor = factor\n",
    "\n",
    "    def __call__(self, number):\n",
    "        return number * self.factor\n",
    "\n",
    "# Create an instance of the class\n",
    "double = Multiplier(2)\n",
    "\n",
    "# Now, call the object like a function\n",
    "print(double(10))  # Output: 20\n",
    "print(double(5))   # Output: 10"
   ]
  },
  {
   "cell_type": "markdown",
   "id": "6a127ca0",
   "metadata": {},
   "source": [
    "# Practical Questions"
   ]
  },
  {
   "cell_type": "markdown",
   "id": "f435fbce",
   "metadata": {},
   "source": [
    "1.  Create a parent class Animal with a method speak() that prints a generic message. Create a child class Dog\n",
    "that overrides the speak() method to print \"Bark!\"."
   ]
  },
  {
   "cell_type": "code",
   "execution_count": 1,
   "id": "80729d0b",
   "metadata": {},
   "outputs": [
    {
     "name": "stdout",
     "output_type": "stream",
     "text": [
      "Bark!\n"
     ]
    }
   ],
   "source": [
    "class Animal():\n",
    "    def speak(self):\n",
    "        print(\"Generic message.\")\n",
    "class Dog(Animal):\n",
    "    def speak(self):\n",
    "        print(\"Bark!\")\n",
    " \n",
    "dog = Dog()\n",
    "dog.speak()                "
   ]
  },
  {
   "cell_type": "markdown",
   "id": "b6e8756e",
   "metadata": {},
   "source": [
    "2. Write a program to create an abstract class Shape with a method area(). Derive classes Circle and Rectangle\n",
    "from it and implement the area() method in both."
   ]
  },
  {
   "cell_type": "code",
   "execution_count": 5,
   "id": "62c5e8f1",
   "metadata": {},
   "outputs": [
    {
     "name": "stdout",
     "output_type": "stream",
     "text": [
      "Area of Cirle of radius = 6 is 37.68\n",
      "Area of Rectangle of length = 5, width = 6 is 30\n",
      "Class Area\n",
      "None\n"
     ]
    }
   ],
   "source": [
    "class Shape:\n",
    "    def Area(self):\n",
    "        print(\"Class Area\")\n",
    "class Circle(Shape):\n",
    "    def __init__(self,Radius):\n",
    "        self.Radius = Radius\n",
    "\n",
    "    def Area(self):\n",
    "        return f\"Area of Cirle of radius = {self.Radius} is {2*self.Radius*3.14}\" \n",
    "     \n",
    "class Rectangle(Shape):\n",
    "    def __init__(self,length,width):\n",
    "        self.length = length\n",
    "        self.width = width\n",
    "    def Area(self):\n",
    "        return f\"Area of Rectangle of length = {self.length}, width = {self.width} is {self.length*self.width}\" \n",
    "    \n",
    "area_rec = Rectangle(5,6)\n",
    "area_cir = Circle(6)\n",
    "print(area_cir.Area())\n",
    "print(area_rec.Area())       \n",
    "print(Shape().Area())       \n",
    "             "
   ]
  },
  {
   "cell_type": "markdown",
   "id": "7f35c8b7",
   "metadata": {},
   "source": [
    "3.  Implement a multi-level inheritance scenario where a class Vehicle has an attribute type. Derive a class Car\n",
    "and further derive a class ElectricCar that adds a battery attribute."
   ]
  },
  {
   "cell_type": "code",
   "execution_count": 7,
   "id": "15b2f0ce",
   "metadata": {},
   "outputs": [
    {
     "name": "stdout",
     "output_type": "stream",
     "text": [
      "--- Displaying Information for ElectricCar ---\n",
      "Vehicle Type: Sedan\n",
      "Car Model: Tesla Model 3\n",
      "Battery Capacity: 75 kWh\n",
      "\n",
      "--- Accessing Attributes Directly ---\n",
      "Type: Sedan\n",
      "Model: Tesla Model 3\n",
      "Battery: 75\n"
     ]
    }
   ],
   "source": [
    "# Base class (Level 1)\n",
    "class Vehicle:\n",
    "    \"\"\"Represents a generic vehicle.\"\"\"\n",
    "    def __init__(self, vehicle_type):\n",
    "        self.type = vehicle_type\n",
    "\n",
    "    def display_info(self):\n",
    "        \"\"\"Displays the vehicle's type.\"\"\"\n",
    "        print(f\"Vehicle Type: {self.type}\")\n",
    "\n",
    "# Derived class from Vehicle (Level 2)\n",
    "class Car(Vehicle):\n",
    "    \"\"\"Represents a car, inheriting from Vehicle.\"\"\"\n",
    "    def __init__(self, vehicle_type, model):\n",
    "        # Call the constructor of the parent class (Vehicle)\n",
    "        super().__init__(vehicle_type)\n",
    "        self.model = model\n",
    "\n",
    "    def display_info(self):\n",
    "        \"\"\"Overrides and extends the parent's display_info method.\"\"\"\n",
    "        super().display_info() # Call parent method first\n",
    "        print(f\"Car Model: {self.model}\")\n",
    "\n",
    "# Derived class from Car (Level 3)\n",
    "class ElectricCar(Car):\n",
    "    \"\"\"Represents an electric car, inheriting from Car.\"\"\"\n",
    "    def __init__(self, vehicle_type, model, battery_capacity):\n",
    "        # Call the constructor of the parent class (Car)\n",
    "        super().__init__(vehicle_type, model)\n",
    "        self.battery = battery_capacity\n",
    "\n",
    "    def display_info(self):\n",
    "        \"\"\"Overrides and extends the parent's display_info method.\"\"\"\n",
    "        super().display_info() # Call parent method first\n",
    "        print(f\"Battery Capacity: {self.battery} kWh\")\n",
    "\n",
    "# --- Demonstration ---\n",
    "\n",
    "# Create an instance of the most derived class\n",
    "my_ev = ElectricCar(\"Sedan\", \"Tesla Model 3\", 75)\n",
    "\n",
    "# Call the display method to show all inherited attributes\n",
    "print(\"--- Displaying Information for ElectricCar ---\")\n",
    "my_ev.display_info()\n",
    "\n",
    "# You can also access attributes from all levels of the hierarchy directly\n",
    "print(\"\\n--- Accessing Attributes Directly ---\")\n",
    "print(f\"Type: {my_ev.type}\")        # From Vehicle class\n",
    "print(f\"Model: {my_ev.model}\")      # From Car class\n",
    "print(f\"Battery: {my_ev.battery}\")  # From ElectricCar class"
   ]
  },
  {
   "cell_type": "markdown",
   "id": "251897f7",
   "metadata": {},
   "source": [
    "5.  Demonstrate polymorphism by creating a base class Bird with a method fly(). Create two derived classes\n",
    "Sparrow and Penguin that override the fly() method.\n"
   ]
  },
  {
   "cell_type": "code",
   "execution_count": 8,
   "id": "fa15ab29",
   "metadata": {},
   "outputs": [
    {
     "name": "stdout",
     "output_type": "stream",
     "text": [
      "\n",
      "Testing a Sparrow:\n",
      "The sparrow flutters its wings and flies quickly. 🐦\n",
      "\n",
      "Testing a Penguin:\n",
      "The penguin waddles but cannot fly. It's a great swimmer though! 🐧\n",
      "\n",
      "Testing a Bird:\n",
      "This bird can fly, but its style is unknown.\n"
     ]
    }
   ],
   "source": [
    "# Base class\n",
    "class Bird:\n",
    "    \"\"\"Represents a generic bird.\"\"\"\n",
    "    def fly(self):\n",
    "        \"\"\"A generic fly method for any bird.\"\"\"\n",
    "        print(\"This bird can fly, but its style is unknown.\")\n",
    "\n",
    "# Derived class 1\n",
    "class Sparrow(Bird):\n",
    "    \"\"\"Represents a sparrow, which can fly.\"\"\"\n",
    "    def fly(self):\n",
    "        \"\"\"Overrides the base class fly method for a sparrow.\"\"\"\n",
    "        print(\"The sparrow flutters its wings and flies quickly. 🐦\")\n",
    "\n",
    "# Derived class 2\n",
    "class Penguin(Bird):\n",
    "    \"\"\"Represents a penguin, which cannot fly.\"\"\"\n",
    "    def fly(self):\n",
    "        \"\"\"Overrides the base class fly method for a penguin.\"\"\"\n",
    "        print(\"The penguin waddles but cannot fly. It's a great swimmer though! 🐧\")\n",
    "\n",
    "# --- Demonstration of Polymorphism ---\n",
    "\n",
    "def make_bird_fly(bird_object):\n",
    "    \"\"\"\n",
    "    This function takes any object of type Bird (or its subclasses)\n",
    "    and calls its fly() method. It doesn't need to know the specific\n",
    "    type of bird it is dealing with.\n",
    "    \"\"\"\n",
    "    print(f\"\\nTesting a {type(bird_object).__name__}:\")\n",
    "    bird_object.fly()\n",
    "\n",
    "# Create instances of each class\n",
    "sparrow = Sparrow()\n",
    "penguin = Penguin()\n",
    "generic_bird = Bird()\n",
    "\n",
    "# Call the same function with different objects\n",
    "make_bird_fly(sparrow)\n",
    "make_bird_fly(penguin)\n",
    "make_bird_fly(generic_bird)"
   ]
  },
  {
   "cell_type": "markdown",
   "id": "666cc4a0",
   "metadata": {},
   "source": [
    "6.  Write a program to demonstrate encapsulation by creating a class BankAccount with private attributes\n",
    "balance and methods to deposit, withdraw, and check balance."
   ]
  },
  {
   "cell_type": "code",
   "execution_count": 10,
   "id": "e44e01c7",
   "metadata": {},
   "outputs": [
    {
     "name": "stdout",
     "output_type": "stream",
     "text": [
      "After Depositing Your Account Balance is 1500\n",
      "After Withdrawing Your Account Balance is 600\n"
     ]
    }
   ],
   "source": [
    "class BankAccount:\n",
    "    def __init__(self,Balance):\n",
    "        self.__Balance = Balance\n",
    "        \n",
    "    def Deposit(self,Amount):\n",
    "        if Amount > 0:\n",
    "            self.__Balance += Amount\n",
    "        else :\n",
    "            raise ValueError(\"Entered Amount is unvalid\")\n",
    "                        \n",
    "    def Withdraw(self,Amount):\n",
    "        if Amount < self.__Balance:\n",
    "            self.__Balance -= Amount \n",
    "        else:\n",
    "            raise ValueError(\"Entered Amount is less then your Your Balance\")\n",
    "    def Check_Balance(self):\n",
    "        return f\"Your Account Balance is {self.__Balance}\"  \n",
    "    \n",
    "    \n",
    "Bank = BankAccount(1000)\n",
    "Bank.Deposit(500)\n",
    "print(f\"After Depositing {Bank.Check_Balance()}\")\n",
    "Bank.Withdraw(900)\n",
    "print(f\"After Withdrawing {Bank.Check_Balance()}\")\n",
    "             "
   ]
  },
  {
   "cell_type": "markdown",
   "id": "270c1550",
   "metadata": {},
   "source": [
    "6. Demonstrate runtime polymorphism using a method play() in a base class Instrument. Derive classes Guitar\n",
    "and Piano that implement their own version of play()."
   ]
  },
  {
   "cell_type": "code",
   "execution_count": 11,
   "id": "734625e4",
   "metadata": {},
   "outputs": [
    {
     "name": "stdout",
     "output_type": "stream",
     "text": [
      "The concert is starting!\n",
      "The guitar is strummed, producing a chord. 🎸\n",
      "The piano keys are pressed, playing a melody. 🎹\n",
      "The guitar is strummed, producing a chord. 🎸\n"
     ]
    }
   ],
   "source": [
    "# Base class\n",
    "class Instrument:\n",
    "    \"\"\"Represents a generic musical instrument.\"\"\"\n",
    "    def play(self):\n",
    "        \"\"\"A generic play method for any instrument.\"\"\"\n",
    "        print(\"The instrument produces a sound.\")\n",
    "\n",
    "# Derived class 1\n",
    "class Guitar(Instrument):\n",
    "    \"\"\"Represents a guitar.\"\"\"\n",
    "    def play(self):\n",
    "        \"\"\"Overrides the base class play method for a guitar.\"\"\"\n",
    "        print(\"The guitar is strummed, producing a chord. 🎸\")\n",
    "\n",
    "# Derived class 2\n",
    "class Piano(Instrument):\n",
    "    \"\"\"Represents a piano.\"\"\"\n",
    "    def play(self):\n",
    "        \"\"\"Overrides the base class play method for a piano.\"\"\"\n",
    "        print(\"The piano keys are pressed, playing a melody. 🎹\")\n",
    "\n",
    "# --- Demonstration of Runtime Polymorphism ---\n",
    "\n",
    "def start_concert(instruments):\n",
    "    \"\"\"\n",
    "    This function takes a list of Instrument objects and tells each one to play.\n",
    "    The specific version of the play() method called is determined at runtime.\n",
    "    \"\"\"\n",
    "    print(\"The concert is starting!\")\n",
    "    for instrument in instruments:\n",
    "        instrument.play()\n",
    "\n",
    "# Create a list of different instrument objects\n",
    "band = [\n",
    "    Guitar(),\n",
    "    Piano(),\n",
    "    Guitar()\n",
    "]\n",
    "\n",
    "# Call the function with the list of instruments\n",
    "start_concert(band)"
   ]
  },
  {
   "cell_type": "markdown",
   "id": "177f60f5",
   "metadata": {},
   "source": [
    "7.  Create a class MathOperations with a class method add_numbers() to add two numbers and a static\n",
    "method subtract_numbers() to subtract two numbers."
   ]
  },
  {
   "cell_type": "code",
   "execution_count": 16,
   "id": "47fad733",
   "metadata": {},
   "outputs": [
    {
     "name": "stdout",
     "output_type": "stream",
     "text": [
      "11\n",
      "4\n"
     ]
    }
   ],
   "source": [
    "class MathOperations:\n",
    "    def __init__(self,num1,num2):\n",
    "        self.num1 = num1\n",
    "        self.num2 = num2\n",
    "       \n",
    "    def add_numbers(self):\n",
    "        return self.num1 + self.num2\n",
    "    \n",
    "    @staticmethod\n",
    "    def subtract_numbers(num1,num2):\n",
    "        return num1 - num2\n",
    "    \n",
    "maths = MathOperations(5,6)\n",
    "print(maths.add_numbers()  )\n",
    "print(maths.subtract_numbers(9,5)  )\n",
    "    "
   ]
  },
  {
   "cell_type": "markdown",
   "id": "9419a0b9",
   "metadata": {},
   "source": [
    "8.  Implement a class Person with a class method to count the total number of persons created."
   ]
  },
  {
   "cell_type": "code",
   "execution_count": 18,
   "id": "68f7c735",
   "metadata": {},
   "outputs": [
    {
     "name": "stdout",
     "output_type": "stream",
     "text": [
      "\n",
      "--- Checking total count ---\n",
      "Initial count: 0\n",
      " Hello, Aarav! You are person #1.\n",
      " Hello, Priya! You are person #2.\n",
      " Hello, Rohan! You are person #3.\n",
      "\n",
      "--- Checking total count ---\n",
      "Total number of persons created: 3 \n"
     ]
    }
   ],
   "source": [
    "class Person:\n",
    "    \"\"\"\n",
    "    A class to represent a person, with a counter for the total number of instances.\n",
    "    \"\"\"\n",
    "    # Class attribute: Shared by all instances of the class\n",
    "    person_count = 0\n",
    "\n",
    "    def __init__(self, name):\n",
    "        \"\"\"Initializes a person instance and increments the total count.\"\"\"\n",
    "        self.name = name\n",
    "        # Increment the class attribute using the class name\n",
    "        Person.person_count += 1\n",
    "        print(f\" Hello, {self.name}! You are person #{Person.person_count}.\")\n",
    "\n",
    "    @classmethod\n",
    "    def get_total_persons(cls):\n",
    "        \"\"\"\n",
    "        A class method to get the total count of persons.\n",
    "        It receives the class ('cls') as the first argument, not the instance ('self').\n",
    "        \"\"\"\n",
    "        print(f\"\\n--- Checking total count ---\")\n",
    "        return cls.person_count\n",
    "\n",
    "# --- Demonstration ---\n",
    "\n",
    "# 1. Access the class method before creating any instances\n",
    "print(f\"Initial count: {Person.get_total_persons()}\")\n",
    "\n",
    "# 2. Create several instances of the Person class\n",
    "person1 = Person(\"Aarav\")\n",
    "person2 = Person(\"Priya\")\n",
    "person3 = Person(\"Rohan\")\n",
    "\n",
    "# 3. Access the class method again to get the final count\n",
    "# Note: You call it on the class itself, not an instance.\n",
    "final_count = Person.get_total_persons()\n",
    "print(f\"Total number of persons created: {final_count} \")"
   ]
  },
  {
   "cell_type": "markdown",
   "id": "4c7aaadd",
   "metadata": {},
   "source": [
    "9.  Write a class Fraction with attributes numerator and denominator. Override the str method to display the\n",
    "fraction as \"numerator/denominator\".        "
   ]
  },
  {
   "cell_type": "code",
   "execution_count": 20,
   "id": "4cf3f291",
   "metadata": {},
   "outputs": [
    {
     "name": "stdout",
     "output_type": "stream",
     "text": [
      "--- Using print() ---\n",
      "The fraction is: 3/4\n",
      "\n",
      "--- Using str() conversion ---\n",
      "The string representation is: '3/4'\n",
      "\n",
      "--- Developer representation (__repr__) ---\n",
      "The official representation is: Fraction(3, 4)\n"
     ]
    }
   ],
   "source": [
    "class Fraction:\n",
    "    \"\"\"\n",
    "    A class to represent a fraction with a numerator and a denominator.\n",
    "    \"\"\"\n",
    "    def __init__(self, numerator, denominator):\n",
    "        \"\"\"Initializes the fraction.\"\"\"\n",
    "        if denominator == 0:\n",
    "            raise ValueError(\"Denominator cannot be zero.\")\n",
    "        self.numerator = numerator\n",
    "        self.denominator = denominator\n",
    "\n",
    "    def __str__(self):\n",
    "        \"\"\"\n",
    "        Overrides the default string representation.\n",
    "        This method is called by print() and str().\n",
    "        \"\"\"\n",
    "        return f\"{self.numerator}/{self.denominator}\"\n",
    "\n",
    "    def __repr__(self):\n",
    "        \"\"\"\n",
    "        Provides a more developer-focused, unambiguous representation.\n",
    "        Often, this shows how to recreate the object.\n",
    "        \"\"\"\n",
    "        return f\"Fraction({self.numerator}, {self.denominator})\"\n",
    "\n",
    "# --- Demonstration ---\n",
    "\n",
    "# 1. Create an instance of the Fraction class\n",
    "f1 = Fraction(3, 4)\n",
    "\n",
    "# 2. Print the object. This automatically calls the __str__() method.\n",
    "print(\"--- Using print() ---\")\n",
    "print(f\"The fraction is: {f1}\")\n",
    "\n",
    "# 3. Use the str() function to convert the object to a string\n",
    "print(\"\\n--- Using str() conversion ---\")\n",
    "fraction_string = str(f1)\n",
    "print(f\"The string representation is: '{fraction_string}'\")\n",
    "\n",
    "# 4. Display the object in an interactive console (this calls __repr__)\n",
    "print(\"\\n--- Developer representation (__repr__) ---\")\n",
    "print(f\"The official representation is: {repr(f1)}\")"
   ]
  },
  {
   "cell_type": "markdown",
   "id": "64ce2de7",
   "metadata": {},
   "source": [
    "10.  Demonstrate operator overloading by creating a class Vector and overriding the add method to add two\n",
    "vectors."
   ]
  },
  {
   "cell_type": "code",
   "execution_count": null,
   "id": "aa4c9e1b",
   "metadata": {},
   "outputs": [
    {
     "name": "stdout",
     "output_type": "stream",
     "text": [
      "v1 = Vector(3,5)\n",
      "v2 = Vector(6,5)\n",
      "result = Vector(9,10)\n"
     ]
    }
   ],
   "source": [
    "class Vector:\n",
    "    def __init__(self,x,y):\n",
    "        self.x = x\n",
    "        self.y = y\n",
    "        \n",
    "    def __add__(self,other):\n",
    "        if isinstance(other,Vector):\n",
    "            new_x = self.x + other.x\n",
    "            new_y = self.y + other.y\n",
    "            return Vector(new_x,new_y)\n",
    "        else:\n",
    "            NotImplemented\n",
    "    def __str__(self):\n",
    "        return f\"Vector({self.x},{self.y})\"     \n",
    "    \n",
    "v1 = Vector(3,5)\n",
    "v2 = Vector(6,5)\n",
    "result = v1+v2\n",
    "print(f\"v1 = {v1}\")\n",
    "print(f\"v2 = {v2}\")\n",
    "\n",
    "print(f\"result = {result}\")           "
   ]
  },
  {
   "cell_type": "markdown",
   "id": "38094372",
   "metadata": {},
   "source": [
    "11. Create a class Person with attributes name and age. Add a method greet() that prints \"Hello, my name is\n",
    "{name} and I am {age} years old.\""
   ]
  },
  {
   "cell_type": "code",
   "execution_count": 25,
   "id": "3e79a91d",
   "metadata": {},
   "outputs": [
    {
     "name": "stdout",
     "output_type": "stream",
     "text": [
      "Hello, my name is AJ and I am 34 years old.\n"
     ]
    }
   ],
   "source": [
    "class Person:\n",
    "    def __init__(self,name,age):\n",
    "        self.name = name\n",
    "        self.age = age\n",
    "    def greet(self):\n",
    "        return f\"Hello, my name is {self.name} and I am {self.age} years old.\"    \n",
    "wel = Person(\"AJ\",34)\n",
    "print(wel.greet())    "
   ]
  },
  {
   "cell_type": "markdown",
   "id": "71132787",
   "metadata": {},
   "source": [
    "12.  Implement a class Student with attributes name and grades. Create a method average_grade() to compute\n",
    "the average of the grades."
   ]
  },
  {
   "cell_type": "code",
   "execution_count": 27,
   "id": "594e6765",
   "metadata": {},
   "outputs": [
    {
     "name": "stdout",
     "output_type": "stream",
     "text": [
      "64.0\n"
     ]
    }
   ],
   "source": [
    "class student:\n",
    "    def __init__(self,name,grade):\n",
    "        self.name = name\n",
    "        self.grade = grade\n",
    "    def average_grade(self):\n",
    "        sum_of_grade = 0\n",
    "        for i in range(0,len(self.grade)):\n",
    "            if self.grade[i] > 0:\n",
    "                sum_of_grade += self.grade[i]\n",
    "        average = sum_of_grade / len(self.grade)\n",
    "        return average        \n",
    "    \n",
    "result = student(\"aman\",[45,65,76,56,78])    \n",
    "print(result.average_grade())"
   ]
  },
  {
   "cell_type": "markdown",
   "id": "f9eed5b8",
   "metadata": {},
   "source": [
    "13.  Create a class Rectangle with methods set_dimensions() to set the dimensions and area() to calculate the\n",
    "area."
   ]
  },
  {
   "cell_type": "code",
   "execution_count": 31,
   "id": "b699e3a2",
   "metadata": {},
   "outputs": [
    {
     "name": "stdout",
     "output_type": "stream",
     "text": [
      "Area of Reactangle is 1530 of length is 34 and width is 45\n"
     ]
    }
   ],
   "source": [
    "class Rectangle:\n",
    "    def Set_Dimensions(self,length,width):\n",
    "        self.length = length\n",
    "        self.width = width\n",
    "    def Area(self):\n",
    "        area = self.width*self.length\n",
    "        return area    \n",
    "    \n",
    "Cal = Rectangle()\n",
    "length = 34\n",
    "width = 45\n",
    "Cal.Set_Dimensions(length,width)\n",
    "print(f\"Area of Reactangle is {Cal.Area()} of length is {length} and width is {width}\")    \n",
    "    "
   ]
  },
  {
   "cell_type": "markdown",
   "id": "ec262959",
   "metadata": {},
   "source": [
    "14. Create a class Employee with a method calculate_salary() that computes the salary based on hours worked\n",
    "and hourly rate. Create a derived class Manager that adds a bonus to the salary."
   ]
  },
  {
   "cell_type": "code",
   "execution_count": 33,
   "id": "f4eaff58",
   "metadata": {},
   "outputs": [
    {
     "name": "stdout",
     "output_type": "stream",
     "text": [
      "Salary for Ravi (Employee): $4000.00 \n",
      "Salary for Sunita (Manager): $6900.00 \n"
     ]
    }
   ],
   "source": [
    "# Base class\n",
    "class Employee:\n",
    "    \"\"\"Represents a general employee.\"\"\"\n",
    "    def __init__(self, name, hours_worked, hourly_rate):\n",
    "        self.name = name\n",
    "        self.hours_worked = hours_worked\n",
    "        self.hourly_rate = hourly_rate\n",
    "\n",
    "    def calculate_salary(self):\n",
    "        \"\"\"Calculates the basic salary.\"\"\"\n",
    "        return self.hours_worked * self.hourly_rate\n",
    "\n",
    "# Derived class\n",
    "class Manager(Employee):\n",
    "    \"\"\"Represents a manager, who gets a bonus.\"\"\"\n",
    "    def __init__(self, name, hours_worked, hourly_rate, bonus):\n",
    "        # Call the constructor of the parent class (Employee)\n",
    "        # to initialize the common attributes.\n",
    "        super().__init__(name, hours_worked, hourly_rate)\n",
    "        self.bonus = bonus\n",
    "\n",
    "    def calculate_salary(self):\n",
    "        \"\"\"\n",
    "        Overrides the parent's method to add a bonus.\n",
    "        \"\"\"\n",
    "        # 1. Get the base salary by calling the parent's method\n",
    "        base_salary = super().calculate_salary()\n",
    "        # 2. Add the bonus\n",
    "        total_salary = base_salary + self.bonus\n",
    "        return total_salary\n",
    "\n",
    "# --- Demonstration ---\n",
    "\n",
    "# 1. Create an Employee instance\n",
    "emp = Employee(\"Ravi\", 160, 25) # 160 hours, $25/hour\n",
    "emp_salary = emp.calculate_salary()\n",
    "print(f\"Salary for {emp.name} (Employee): ${emp_salary:.2f} \")\n",
    "\n",
    "# 2. Create a Manager instance\n",
    "mgr = Manager(\"Sunita\", 160, 40, 500) # 160 hours, $40/hour, $500 bonus\n",
    "mgr_salary = mgr.calculate_salary()\n",
    "print(f\"Salary for {mgr.name} (Manager): ${mgr_salary:.2f} \")"
   ]
  },
  {
   "cell_type": "markdown",
   "id": "3be713bc",
   "metadata": {},
   "source": [
    "15. Create a class Product with attributes name, price, and quantity. Implement a method total_price() that\n",
    "calculates the total price of the product."
   ]
  },
  {
   "cell_type": "code",
   "execution_count": 34,
   "id": "ae2cf30c",
   "metadata": {},
   "outputs": [
    {
     "name": "stdout",
     "output_type": "stream",
     "text": [
      "Your Total price is 600 \n"
     ]
    }
   ],
   "source": [
    "class Product:\n",
    "    def __init__(self,name,price,quantity):\n",
    "        self.name = name\n",
    "        self.price = price\n",
    "        self.quantity = quantity\n",
    "        \n",
    "    def total_price(self):\n",
    "        return self.price*self.quantity\n",
    "    \n",
    "mango = Product(\"Ganesh\",60,10)\n",
    "print(f\"Your Total price is {mango.total_price()} \")    "
   ]
  },
  {
   "cell_type": "markdown",
   "id": "0922456f",
   "metadata": {},
   "source": [
    "16. Create a class Animal with an abstract method sound(). Create two derived classes Cow and Sheep that\n",
    "implement the sound() method."
   ]
  },
  {
   "cell_type": "code",
   "execution_count": 38,
   "id": "87e7838d",
   "metadata": {},
   "outputs": [
    {
     "name": "stdout",
     "output_type": "stream",
     "text": [
      "Animal can produce sound\n",
      "sheep say Meh\n"
     ]
    }
   ],
   "source": [
    "from abc import ABC,abstractmethod\n",
    "class Animal:\n",
    "    @abstractmethod\n",
    "    def sound(self):\n",
    "        return \"Animal can produce sound\"\n",
    "\n",
    "class Cow(Animal):\n",
    "    @abstractmethod\n",
    "    def sound(self):\n",
    "        #return \"Cow say Moww\"\n",
    "        return super().sound()\n",
    "    \n",
    "class Sheep(Animal):\n",
    "    @abstractmethod\n",
    "    def sound(self):\n",
    "        return \"sheep say Meh\"\n",
    "    \n",
    "c = Cow()\n",
    "print(c.sound() )\n",
    "s = Sheep()       \n",
    "print(s.sound())    "
   ]
  },
  {
   "cell_type": "markdown",
   "id": "3fd15690",
   "metadata": {},
   "source": [
    "17. Create a class Book with attributes title, author, and year_published. Add a method get_book_info() that\n",
    "returns a formatted string with the book's details."
   ]
  },
  {
   "cell_type": "code",
   "execution_count": 39,
   "id": "34eddd01",
   "metadata": {},
   "outputs": [
    {
     "name": "stdout",
     "output_type": "stream",
     "text": [
      "'The Hitchhiker's Guide to the Galaxy' by Douglas Adams, published in 1979.\n"
     ]
    }
   ],
   "source": [
    "class Book:\n",
    "    \"\"\"\n",
    "    Represents a book with a title, author, and publication year.\n",
    "    \"\"\"\n",
    "    def __init__(self, title, author, year_published):\n",
    "        \"\"\"Initializes the attributes for the book.\"\"\"\n",
    "        self.title = title\n",
    "        self.author = author\n",
    "        self.year_published = year_published\n",
    "\n",
    "    def get_book_info(self):\n",
    "        \"\"\"\n",
    "        Returns a formatted string with the book's details.\n",
    "        \"\"\"\n",
    "        return f\"'{self.title}' by {self.author}, published in {self.year_published}.\"\n",
    "\n",
    "# --- Demonstration ---\n",
    "\n",
    "# 1. Create an instance of the Book class\n",
    "my_book = Book(\"The Hitchhiker's Guide to the Galaxy\", \"Douglas Adams\", 1979)\n",
    "\n",
    "# 2. Call the method to get the formatted string\n",
    "book_details = my_book.get_book_info()\n",
    "\n",
    "# 3. Print the details\n",
    "print(book_details)"
   ]
  },
  {
   "cell_type": "markdown",
   "id": "3a3fdcd0",
   "metadata": {},
   "source": [
    "18.  Create a class House with attributes address and price. Create a derived class Mansion that adds an\n",
    "attribute number_of_rooms."
   ]
  },
  {
   "cell_type": "code",
   "execution_count": 40,
   "id": "89950f8c",
   "metadata": {},
   "outputs": [
    {
     "name": "stdout",
     "output_type": "stream",
     "text": [
      "--- Basic House Info ---\n",
      "Address: 123 Maple St\n",
      "Price: $350,000.00\n",
      "\n",
      "--- Mansion Info ---\n",
      "Address: 456 Oak Ave\n",
      "Price: $2,500,000.00\n",
      "Number of Rooms: 15 🏰\n"
     ]
    }
   ],
   "source": [
    "# Base class\n",
    "class House:\n",
    "    \"\"\"Represents a generic house with an address and price.\"\"\"\n",
    "    def __init__(self, address, price):\n",
    "        self.address = address\n",
    "        self.price = price\n",
    "\n",
    "    def display_info(self):\n",
    "        \"\"\"Displays the basic information for the house.\"\"\"\n",
    "        print(f\"Address: {self.address}\")\n",
    "        print(f\"Price: ${self.price:,.2f}\")\n",
    "\n",
    "# Derived class\n",
    "class Mansion(House):\n",
    "    \"\"\"Represents a mansion, which is a type of House with more rooms.\"\"\"\n",
    "    def __init__(self, address, price, number_of_rooms):\n",
    "        # Call the constructor of the parent class (House) to initialize\n",
    "        # the attributes it's responsible for.\n",
    "        super().__init__(address, price)\n",
    "        # Now, initialize the attribute specific to the Mansion class.\n",
    "        self.number_of_rooms = number_of_rooms\n",
    "\n",
    "    def display_info(self):\n",
    "        \"\"\"Overrides the parent method to display all information.\"\"\"\n",
    "        # Call the parent's display_info method first to show common details\n",
    "        super().display_info()\n",
    "        # Then, print the information unique to the Mansion\n",
    "        print(f\"Number of Rooms: {self.number_of_rooms} 🏰\")\n",
    "\n",
    "\n",
    "# --- Demonstration ---\n",
    "\n",
    "# 1. Create a basic House instance\n",
    "my_house = House(\"123 Maple St\", 350000)\n",
    "print(\"--- Basic House Info ---\")\n",
    "my_house.display_info()\n",
    "\n",
    "# 2. Create a Mansion instance\n",
    "my_mansion = Mansion(\"456 Oak Ave\", 2500000, 15)\n",
    "print(\"\\n--- Mansion Info ---\")\n",
    "my_mansion.display_info()"
   ]
  }
 ],
 "metadata": {
  "kernelspec": {
   "display_name": "Python 3",
   "language": "python",
   "name": "python3"
  },
  "language_info": {
   "codemirror_mode": {
    "name": "ipython",
    "version": 3
   },
   "file_extension": ".py",
   "mimetype": "text/x-python",
   "name": "python",
   "nbconvert_exporter": "python",
   "pygments_lexer": "ipython3",
   "version": "3.13.6"
  }
 },
 "nbformat": 4,
 "nbformat_minor": 5
}
