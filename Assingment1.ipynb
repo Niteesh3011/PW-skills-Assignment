{
 "cells": [
  {
   "cell_type": "markdown",
   "id": "74eebb4d",
   "metadata": {},
   "source": [
    "## Python Basic Practical Questions"
   ]
  },
  {
   "cell_type": "code",
   "execution_count": null,
   "id": "99c1f403",
   "metadata": {},
   "outputs": [],
   "source": []
  },
  {
   "cell_type": "markdown",
   "id": "f1208722",
   "metadata": {},
   "source": [
    "2. Write a Python program that displays your name and age."
   ]
  },
  {
   "cell_type": "code",
   "execution_count": 1,
   "id": "31aa571f",
   "metadata": {},
   "outputs": [
    {
     "name": "stdout",
     "output_type": "stream",
     "text": [
      "Name = Niteesh pandit\n",
      "Email = prajaptiniteesh7@gmail.com\n",
      "Age = 21 Years\n"
     ]
    }
   ],
   "source": [
    "print(\"Name = \"+\"Niteesh pandit\")\n",
    "print(\"Email = \" +\"prajaptiniteesh7@gmail.com\")\n",
    "print(\"Age = \"+ \"21 Years\")"
   ]
  },
  {
   "cell_type": "markdown",
   "id": "00bbcb1f",
   "metadata": {},
   "source": [
    "1. Write a Python program to print \"Hello, World!"
   ]
  },
  {
   "cell_type": "code",
   "execution_count": 2,
   "id": "882dc50d",
   "metadata": {},
   "outputs": [
    {
     "name": "stdout",
     "output_type": "stream",
     "text": [
      "Hello World!\n"
     ]
    }
   ],
   "source": [
    "print(\"Hello World!\")"
   ]
  },
  {
   "cell_type": "markdown",
   "id": "e3c16294",
   "metadata": {},
   "source": [
    "3. Write code to print all the pre-defined keywords in Python using the keyword library."
   ]
  },
  {
   "cell_type": "code",
   "execution_count": 3,
   "id": "22139026",
   "metadata": {},
   "outputs": [
    {
     "name": "stdout",
     "output_type": "stream",
     "text": [
      "All pre-defined keywords in Python are:\n",
      "False None True and as assert async await break class continue def del elif else except finally for from global if import in is lambda nonlocal not or pass raise return try while with yield \n",
      "Total number of keywords: 35\n"
     ]
    }
   ],
   "source": [
    "import keyword\n",
    "all_keywords = keyword.kwlist\n",
    "\n",
    "print(\"All pre-defined keywords in Python are:\")\n",
    "\n",
    "\n",
    "# Iterate through the list of keywords and print each one.\n",
    "for kw in all_keywords:\n",
    "    print(kw + \" \", end='')\n",
    "\n",
    "\n",
    "print(f\"\\nTotal number of keywords: {len(all_keywords)}\")"
   ]
  },
  {
   "cell_type": "markdown",
   "id": "ca16b67e",
   "metadata": {},
   "source": [
    "4. Write a program that checks if a given word is a Python keyword.\n"
   ]
  },
  {
   "cell_type": "code",
   "execution_count": 4,
   "id": "77af9b79",
   "metadata": {},
   "outputs": [
    {
     "name": "stdout",
     "output_type": "stream",
     "text": [
      "from is a Python keyword.\n"
     ]
    }
   ],
   "source": [
    "import keyword\n",
    "all_keywords = keyword.kwlist\n",
    "input_word = \"from\"\n",
    "#input_word = input(\"Enter a word to check if it's a Python keyword: \")\n",
    "if input_word in all_keywords:\n",
    "    print(f\"{input_word} is a Python keyword.\")\n",
    "else:\n",
    "    print(f\"{input_word} is not a Python keyword.\")    "
   ]
  },
  {
   "cell_type": "markdown",
   "id": "a10a74af",
   "metadata": {},
   "source": [
    "5. Create a list and tuple in Python, and demonstrate how attempting to change an element works differently\n",
    "for each."
   ]
  },
  {
   "cell_type": "code",
   "execution_count": 5,
   "id": "5bca2551",
   "metadata": {},
   "outputs": [
    {
     "name": "stdout",
     "output_type": "stream",
     "text": [
      "List before change:  [32, 54, 67, 'hello', 'super', 'data science']\n",
      "Tuple before change:  (32, 54, 67, 'hello', 'super', 'data science')\n",
      "List after change:  [100, 54, 67, 'hello', 'super', 'data science']\n",
      "Error changing tuple element: 'tuple' object does not support item assignment\n"
     ]
    }
   ],
   "source": [
    "list = [32,54,67,'hello','super','data science']\n",
    "tuple = (32,54,67,'hello','super','data science')\n",
    "\n",
    "print(\"List before change: \", list)\n",
    "print(\"Tuple before change: \", tuple)\n",
    "\n",
    "try: \n",
    "    list[0] = 100\n",
    "    print(\"List after change: \", list)\n",
    "except TypeError as e:\n",
    "    print(\"Error changing list element:\", e)\n",
    "    \n",
    "try:\n",
    "    tuple[4]=\"change\"\n",
    "    print(\"Tuple after change: \", tuple)\n",
    "except TypeError as e:  \n",
    "    print(\"Error changing tuple element:\", e)    \n",
    "        "
   ]
  },
  {
   "cell_type": "markdown",
   "id": "66e74334",
   "metadata": {},
   "source": [
    "6. Write a function to demonstrate the behavior of mutable and immutable arguments."
   ]
  },
  {
   "cell_type": "code",
   "execution_count": 12,
   "id": "8ca5e375",
   "metadata": {},
   "outputs": [
    {
     "name": "stdout",
     "output_type": "stream",
     "text": [
      "Dict before change:  {'name': 'Niteesh', 'age': 21, 'email': 'prajaptiniteesh7@gmail.com'}\n",
      "String before change:  hello\n",
      "Dict after change:  {'name': 'Niteesh', 'age': 25, 'email': 'prajaptiniteesh7@gmail.com'}\n",
      "Error changing String element because string is immutable : 'tuple' object does not support item assignment\n"
     ]
    }
   ],
   "source": [
    "mutable_dict = {'name': 'Niteesh', 'age': 21, 'email': 'prajaptiniteesh7@gmail.com'} \n",
    "immutable_string = 'hello'\n",
    "\n",
    "print(\"Dict before change: \", mutable_dict)\n",
    "print(\"String before change: \", immutable_string)\n",
    "\n",
    "try: \n",
    "    mutable_dict['age'] = 25\n",
    "    print(\"Dict after change: \", mutable_dict)\n",
    "except TypeError as e:\n",
    "    print(\"Error changing list element:\", e)\n",
    "    \n",
    "try:\n",
    "    tuple[4]=\"O\"\n",
    "    print(\"String after change: \", immutable_string)\n",
    "except TypeError as e:  \n",
    "    print(\"Error changing String element because string is immutable :\", e) "
   ]
  },
  {
   "cell_type": "markdown",
   "id": "6a8799dd",
   "metadata": {},
   "source": [
    "7. Write a program that performs basic arithmetic operations on two user-input numbers.\n",
    "\n"
   ]
  },
  {
   "cell_type": "code",
   "execution_count": 2,
   "id": "cbc994e1",
   "metadata": {},
   "outputs": [
    {
     "name": "stdout",
     "output_type": "stream",
     "text": [
      "Addition: 12\n",
      "Subtraction: 8\n",
      "Multiplication: 20\n",
      "Division: 5.0\n"
     ]
    }
   ],
   "source": [
    "def add_numbers(a, b):\n",
    "    return a + b\n",
    "def subtract_numbers(a, b):\n",
    "    return a - b\n",
    "def multiply_numbers(a, b):\n",
    "    return a * b\n",
    "def divide_numbers(a, b):\n",
    "    if b == 0:\n",
    "        return \"Error: Division by zero is not allowed.\"\n",
    "    return a / b\n",
    "\n",
    "\n",
    "num1 = 10\n",
    "num2 = 2\n",
    "\n",
    "print(\"Addition:\", add_numbers(num1, num2))\n",
    "print(\"Subtraction:\", subtract_numbers(num1, num2)) \n",
    "print(\"Multiplication:\", multiply_numbers(num1, num2))\n",
    "print(\"Division:\", divide_numbers(num1, num2))\n"
   ]
  },
  {
   "cell_type": "markdown",
   "id": "4c76053f",
   "metadata": {},
   "source": [
    "8. Write a program to demonstrate the use of logical operators."
   ]
  },
  {
   "cell_type": "code",
   "execution_count": 3,
   "id": "64a474f0",
   "metadata": {},
   "outputs": [
    {
     "name": "stdout",
     "output_type": "stream",
     "text": [
      "a and b: False\n",
      "a or b: True\n",
      "not a: False\n",
      "not b: True\n"
     ]
    }
   ],
   "source": [
    "def logical_operations(a, b):\n",
    "    print(\"a and b:\", a and b)\n",
    "    print(\"a or b:\", a or b)\n",
    "    print(\"not a:\", not a)\n",
    "    print(\"not b:\", not b)\n",
    "    \n",
    "a = True\n",
    "b = False\n",
    "logical_operations(a, b)    "
   ]
  },
  {
   "cell_type": "markdown",
   "id": "8c42658e",
   "metadata": {},
   "source": [
    "9.  Write a Python program to convert user input from string to integer, float, and boolean types."
   ]
  },
  {
   "cell_type": "code",
   "execution_count": 4,
   "id": "81c9853b",
   "metadata": {},
   "outputs": [
    {
     "name": "stdout",
     "output_type": "stream",
     "text": [
      "Converted to Integer: 123\n",
      "Converted to Float: 123.0\n",
      "Converted to Boolean: True\n"
     ]
    }
   ],
   "source": [
    "def convert_DataTypes(input_value):\n",
    "    try:\n",
    "        int_value = int(input_value)\n",
    "        float_value = float(input_value)\n",
    "        bool_value = bool(input_value)\n",
    "        \n",
    "        print(f\"Converted to Integer: {int_value}\")\n",
    "        print(f\"Converted to Float: {float_value}\")\n",
    "        print(f\"Converted to Boolean: {bool_value}\")\n",
    "    except ValueError as e:\n",
    "        print(\"Error in conversion:\", e)\n",
    "        \n",
    "convert_DataTypes(\"123\")        "
   ]
  },
  {
   "cell_type": "markdown",
   "id": "4f0e437a",
   "metadata": {},
   "source": [
    "10. Write code to demonstrate type casting with list elements."
   ]
  },
  {
   "cell_type": "code",
   "execution_count": 7,
   "id": "2bfbdac8",
   "metadata": {},
   "outputs": [
    {
     "name": "stdout",
     "output_type": "stream",
     "text": [
      "Original list of strings: ['10', '25', '50', '85', '100']\n",
      "Type of first element: <class 'str'>\n",
      "\n",
      "New list after casting to integers: [10, 25, 50, 85, 100]\n",
      "Type of first element: <class 'int'>\n",
      "\n",
      "--------------------------------------------------\n"
     ]
    }
   ],
   "source": [
    "# A list of strings, where each string is a number.\n",
    "string_numbers = ['10', '25', '50', '85', '100'] # String Type inside the list\n",
    "print(f\"Original list of strings: {string_numbers}\")\n",
    "print(f\"Type of first element: {type(string_numbers[0])}\\n\")\n",
    "\n",
    "# We can use a list comprehension to create a new list with the casted elements.\n",
    "\n",
    "integer_numbers = [int(num) for num in string_numbers]\n",
    "\n",
    "print(f\"New list after casting to integers: {integer_numbers}\")\n",
    "print(f\"Type of first element: {type(integer_numbers[0])}\\n\")\n",
    "print(\"-\" * 50)\n"
   ]
  },
  {
   "cell_type": "markdown",
   "id": "47c7bdd0",
   "metadata": {},
   "source": [
    "11.  Write a program that checks if a number is positive, negative, or zero."
   ]
  },
  {
   "cell_type": "code",
   "execution_count": 9,
   "id": "18875fa5",
   "metadata": {},
   "outputs": [
    {
     "name": "stdout",
     "output_type": "stream",
     "text": [
      "-10 is a negative number.\n"
     ]
    }
   ],
   "source": [
    "def Number_check(number):\n",
    "    if number > 0:\n",
    "        print(f\"{number} is a positive number.\")\n",
    "    elif number < 0:\n",
    "        print(f\"{number} is a negative number.\")\n",
    "    else:\n",
    "        print(f\"{number} is zero.\") \n",
    "        \n",
    "Number_check(-10)         \n",
    "              "
   ]
  },
  {
   "cell_type": "markdown",
   "id": "4a7c15b3",
   "metadata": {},
   "source": [
    "12.  Write a for loop to print numbers from 1 to 10"
   ]
  },
  {
   "cell_type": "code",
   "execution_count": 12,
   "id": "fa7a7caf",
   "metadata": {},
   "outputs": [
    {
     "name": "stdout",
     "output_type": "stream",
     "text": [
      "1\n",
      "2\n",
      "3\n",
      "4\n",
      "5\n",
      "6\n",
      "7\n",
      "8\n",
      "9\n",
      "10\n"
     ]
    }
   ],
   "source": [
    "for i in range(1,11):\n",
    "   print(i)"
   ]
  },
  {
   "cell_type": "markdown",
   "id": "123ab9c8",
   "metadata": {},
   "source": [
    "13.  Write a Python program to find the sum of all even numbers between 1 and 50"
   ]
  },
  {
   "cell_type": "code",
   "execution_count": 15,
   "id": "59b910f6",
   "metadata": {},
   "outputs": [
    {
     "data": {
      "text/plain": [
       "650"
      ]
     },
     "execution_count": 15,
     "metadata": {},
     "output_type": "execute_result"
    }
   ],
   "source": [
    "def sum_of_even_numbers():\n",
    "    total = 0\n",
    "    for number in range(1, 51):\n",
    "        if number % 2 == 0:\n",
    "            total += number\n",
    "    return total\n",
    "\n",
    "sum_of_even_numbers()"
   ]
  },
  {
   "cell_type": "markdown",
   "id": "026aebf3",
   "metadata": {},
   "source": [
    "14. Write a program to reverse a string using a while loop."
   ]
  },
  {
   "cell_type": "code",
   "execution_count": 19,
   "id": "0f96f599",
   "metadata": {},
   "outputs": [
    {
     "name": "stdout",
     "output_type": "stream",
     "text": [
      "Reversed string: !dlroW ,olleH\n"
     ]
    }
   ],
   "source": [
    "str = \"Hello, World!\"\n",
    "reversed_str = \"\"\n",
    "while len(str) > 0:\n",
    "    reversed_str += str[-1]  # Append the last character to the reversed string\n",
    "    str = str[:-1]  # Remove the last character from the original string\n",
    "print(\"Reversed string:\", reversed_str)    "
   ]
  },
  {
   "cell_type": "markdown",
   "id": "1b38950f",
   "metadata": {},
   "source": [
    "15. Write a Python program to calculate the factorial of a number provided by the user using a while loop."
   ]
  },
  {
   "cell_type": "code",
   "execution_count": 22,
   "id": "053e39dc",
   "metadata": {},
   "outputs": [
    {
     "name": "stdout",
     "output_type": "stream",
     "text": [
      "Factorial: 120\n"
     ]
    }
   ],
   "source": [
    "total = 1\n",
    "number = 5\n",
    "while number > 1:\n",
    "    total *= number\n",
    "    number -= 1\n",
    "\n",
    "print(\"Factorial:\", total)  # Output the factorial result    "
   ]
  },
  {
   "cell_type": "markdown",
   "id": "cb5f1ee0",
   "metadata": {},
   "source": [
    "## Python Basics Questions"
   ]
  },
  {
   "cell_type": "markdown",
   "id": "07e110f9",
   "metadata": {},
   "source": [
    "1. What is Python, and why is it popular ?"
   ]
  },
  {
   "cell_type": "markdown",
   "id": "b316d808",
   "metadata": {},
   "source": [
    "Ans -> Python is a high level object oriented programming language, And Python having large community of developer and easy to understand and write as well as large number of in-build library this is why python is so popular."
   ]
  },
  {
   "cell_type": "markdown",
   "id": "e5eb2598",
   "metadata": {},
   "source": [
    "2. What is an interpreter in Python ?"
   ]
  },
  {
   "cell_type": "markdown",
   "id": "7269d551",
   "metadata": {},
   "source": [
    "Ans -> In python language interpreter work as translater  high language to assembli language beacuase our desktop can't understand high language so interpreter convert into low language."
   ]
  },
  {
   "cell_type": "markdown",
   "id": "8d1e80aa",
   "metadata": {},
   "source": [
    "3. What are pre-defined keywords in Python ?"
   ]
  },
  {
   "cell_type": "markdown",
   "id": "670165f7",
   "metadata": {},
   "source": [
    "Ans -> Pre-difined Keywords means some words are reserve by python and those words have specific meaning as well as they have some specific function which is pre-define by python."
   ]
  },
  {
   "cell_type": "markdown",
   "id": "9ddd14c1",
   "metadata": {},
   "source": [
    "4. Can keywords be used as variable names ?"
   ]
  },
  {
   "cell_type": "markdown",
   "id": "5b663587",
   "metadata": {},
   "source": [
    "Ans -> No, we can't use pre-define keywords as a variable name as well as its show an error."
   ]
  },
  {
   "cell_type": "markdown",
   "id": "5ff49d94",
   "metadata": {},
   "source": [
    "5. What is mutability in Python ? \n"
   ]
  },
  {
   "cell_type": "markdown",
   "id": "fab01c67",
   "metadata": {},
   "source": [
    "Ans -> Mutability in python is define as making updates or making any changes in mutable data type such as List, dict. "
   ]
  },
  {
   "cell_type": "markdown",
   "id": "6e46a27a",
   "metadata": {},
   "source": [
    "6. Why are lists mutable, but tuples are immutable ?"
   ]
  },
  {
   "cell_type": "markdown",
   "id": "53ee1e59",
   "metadata": {},
   "source": [
    "Ans -> In List we can modify the the list values but in tuple we can't modify the tuple values , and modification in tuple means what we make modification in tuple those modification done inside the copy of original tuple but original tuple remain same as they are and in list whatever we perform changes or modification inside the list values its done inside the original list not in copy of original list."
   ]
  },
  {
   "cell_type": "markdown",
   "id": "7a6889a4",
   "metadata": {},
   "source": [
    "7. What is the difference between “==” and “is” operators in Python ?"
   ]
  },
  {
   "cell_type": "markdown",
   "id": "bfeab6f5",
   "metadata": {},
   "source": [
    "Ans -> The '==' operator compares the values of two objects, while the 'is'(=) operator checks if two variables point to the exact same object in memory.\n",
    "In short: == is for equality, and is is for identity."
   ]
  },
  {
   "cell_type": "markdown",
   "id": "9ca30efd",
   "metadata": {},
   "source": [
    "8. What are logical operators in python ?"
   ]
  },
  {
   "cell_type": "markdown",
   "id": "0077c682",
   "metadata": {},
   "source": [
    "Ans -> Logical Operators =>> and , or, not"
   ]
  },
  {
   "cell_type": "markdown",
   "id": "6e413f76",
   "metadata": {},
   "source": [
    "9. What is type casting in Python ?"
   ]
  },
  {
   "cell_type": "markdown",
   "id": "98c94dab",
   "metadata": {},
   "source": [
    "Ans -> Making changes in data type is called typr casting it can be explicit or implicit by using some keywords like int, floar, str, dict,etc."
   ]
  },
  {
   "cell_type": "markdown",
   "id": "86057d12",
   "metadata": {},
   "source": [
    "10. What is the difference between implicit and explicit type casting ?"
   ]
  },
  {
   "cell_type": "markdown",
   "id": "096d32e2",
   "metadata": {},
   "source": [
    "Ans -> Implicit type casting is an automatic conversion of data types performed by Python, while explicit type casting is a manual conversion carried out by the programmer.\n",
    "\n"
   ]
  },
  {
   "cell_type": "markdown",
   "id": "fe2af99d",
   "metadata": {},
   "source": [
    "11. What is the purpose of conditional statements in Python ?"
   ]
  },
  {
   "cell_type": "markdown",
   "id": "779b40fa",
   "metadata": {},
   "source": [
    "\n",
    "Ans -> The purpose of conditional statements in Python is to control the flow of a program by allowing it to make decisions and execute specific blocks of code only when certain conditions are met. if, elif, else. "
   ]
  },
  {
   "cell_type": "markdown",
   "id": "424c6585",
   "metadata": {},
   "source": [
    "12.  How does the elif statement work ?\n"
   ]
  },
  {
   "cell_type": "markdown",
   "id": "d5508f86",
   "metadata": {},
   "source": [
    "Ans -> Statement of if is not met with certain conditions then it go for next step it may elif or else condition. "
   ]
  },
  {
   "cell_type": "markdown",
   "id": "adf87ae2",
   "metadata": {},
   "source": [
    "13. What is the difference between for and while loops ?"
   ]
  },
  {
   "cell_type": "markdown",
   "id": "994c34ae",
   "metadata": {},
   "source": [
    "Ans -> The main difference is that a for loop is used for iterating over a sequence (like a list, tuple, or string) a specific number of times, while a while loop is used to repeatedly execute a block of code as long as a certain condition remains True."
   ]
  },
  {
   "cell_type": "markdown",
   "id": "284b69b8",
   "metadata": {},
   "source": [
    "14. Describe a scenario where a while loop is more suitable than a for loop.\n"
   ]
  },
  {
   "cell_type": "markdown",
   "id": "a712a6b8",
   "metadata": {},
   "source": [
    "Ans -> A while loop is more suitable than a for loop when the number of iterations is unknown and depends on a condition that changes during execution."
   ]
  },
  {
   "cell_type": "code",
   "execution_count": 3,
   "id": "0001d3b7",
   "metadata": {},
   "outputs": [
    {
     "data": {
      "text/plain": [
       "'C'"
      ]
     },
     "execution_count": 3,
     "metadata": {},
     "output_type": "execute_result"
    }
   ],
   "source": [
    "chr(67)  # This line is not doing anything, it just returns the character 'c'\n",
    "#print(chr(99))  # This will print the character 'c' using its ASCII value"
   ]
  },
  {
   "cell_type": "code",
   "execution_count": 4,
   "id": "ddceabb8",
   "metadata": {},
   "outputs": [
    {
     "data": {
      "text/plain": [
       "100"
      ]
     },
     "execution_count": 4,
     "metadata": {},
     "output_type": "execute_result"
    }
   ],
   "source": [
    "ord('d')"
   ]
  },
  {
   "cell_type": "code",
   "execution_count": 5,
   "id": "806dcdc2",
   "metadata": {},
   "outputs": [
    {
     "data": {
      "text/plain": [
       "'z'"
      ]
     },
     "execution_count": 5,
     "metadata": {},
     "output_type": "execute_result"
    }
   ],
   "source": [
    "chr(122)"
   ]
  },
  {
   "cell_type": "code",
   "execution_count": 6,
   "id": "5d3b0c20",
   "metadata": {},
   "outputs": [
    {
     "data": {
      "text/plain": [
       "'\\x17'"
      ]
     },
     "execution_count": 6,
     "metadata": {},
     "output_type": "execute_result"
    }
   ],
   "source": [
    "chr(23)"
   ]
  },
  {
   "cell_type": "code",
   "execution_count": 7,
   "id": "f19ab43f",
   "metadata": {},
   "outputs": [
    {
     "data": {
      "text/plain": [
       "'\\x17'"
      ]
     },
     "execution_count": 7,
     "metadata": {},
     "output_type": "execute_result"
    }
   ],
   "source": [
    "'\\x17'"
   ]
  },
  {
   "cell_type": "code",
   "execution_count": 8,
   "id": "97428929",
   "metadata": {},
   "outputs": [
    {
     "data": {
      "text/plain": [
       "'Ω'"
      ]
     },
     "execution_count": 8,
     "metadata": {},
     "output_type": "execute_result"
    }
   ],
   "source": [
    "'\\u03A9'"
   ]
  },
  {
   "cell_type": "code",
   "execution_count": 9,
   "id": "a5705ced",
   "metadata": {},
   "outputs": [
    {
     "name": "stdout",
     "output_type": "stream",
     "text": [
      "Weird\n"
     ]
    }
   ],
   "source": [
    "n = int(input().strip())\n",
    "if n%2 !=0:\n",
    "    print(\"Weird\")\n",
    "elif n%2==0 and range(2,6) and n>20:\n",
    "    print(\"Not Weird\")\n",
    "elif n%2==0 and range(6,21):\n",
    "    print(\"Weird\")\n"
   ]
  },
  {
   "cell_type": "code",
   "execution_count": 10,
   "id": "765536bb",
   "metadata": {},
   "outputs": [
    {
     "name": "stdout",
     "output_type": "stream",
     "text": [
      "Not Weird\n"
     ]
    }
   ],
   "source": [
    "n = int(input().strip())\n",
    "if n % 2 == 1: \n",
    "    print(\"Weird\") \n",
    "elif n % 2 == 0 and 2 <= n <= 5: \n",
    "    print(\"Not Weird\") \n",
    "elif n % 2 == 0 and 6 <= n <= 20: \n",
    "    print(\"Weird\") \n",
    "else: # here n is even and > 20\n",
    "    print(\"Not Weird\")"
   ]
  },
  {
   "cell_type": "code",
   "execution_count": null,
   "id": "6a176deb",
   "metadata": {},
   "outputs": [],
   "source": []
  }
 ],
 "metadata": {
  "kernelspec": {
   "display_name": "base",
   "language": "python",
   "name": "python3"
  },
  "language_info": {
   "codemirror_mode": {
    "name": "ipython",
    "version": 3
   },
   "file_extension": ".py",
   "mimetype": "text/x-python",
   "name": "python",
   "nbconvert_exporter": "python",
   "pygments_lexer": "ipython3",
   "version": "3.13.5"
  }
 },
 "nbformat": 4,
 "nbformat_minor": 5
}
