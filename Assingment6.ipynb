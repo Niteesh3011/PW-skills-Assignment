{
 "cells": [
  {
   "cell_type": "markdown",
   "id": "15b7d0fc",
   "metadata": {},
   "source": [
    "# Data Toolkit"
   ]
  },
  {
   "cell_type": "markdown",
   "id": "381bfd58",
   "metadata": {},
   "source": [
    "1. What is NumPy, and why is it widely used in Python?"
   ]
  },
  {
   "cell_type": "markdown",
   "id": "a21b151a",
   "metadata": {},
   "source": [
    "Answer ->\n",
    "Numpy Stands for Numeric python which is useful for ndarray or multidimantional array manipulation. \n",
    "Numpy widely used because It's work om C language compiler and its responsible for making fast processing and performing operations.\n",
    "Numpy able to perform operation on homogeneous datasets."
   ]
  },
  {
   "cell_type": "markdown",
   "id": "e11b3aa4",
   "metadata": {},
   "source": [
    "2. How does broadcasting work in NumPy?"
   ]
  },
  {
   "cell_type": "markdown",
   "id": "15fe8e77",
   "metadata": {},
   "source": [
    "Answer ->\n",
    "Broadcasting in NumPy is a powerful feature that allows arrays with different shapes to be used in arithmetic operations. It's a mechanism that enables NumPy to perform operations on arrays of different sizes without creating multiple copies of the smaller array to match the shape of the larger one. This makes array operations much more efficient in terms of both memory and processing time."
   ]
  },
  {
   "cell_type": "markdown",
   "id": "02c91c77",
   "metadata": {},
   "source": [
    "3. What is a Pandas DataFrame?"
   ]
  },
  {
   "cell_type": "markdown",
   "id": "0b04c2c8",
   "metadata": {},
   "source": [
    "Answer ->\n",
    "A Pandas DataFrame is a two-dimensional, mutable, and heterogeneous data structure with labeled axes (rows and columns). Think of it like a spreadsheet or a SQL table in Python. It's the primary tool in the pandas library for data analysis and manipulation."
   ]
  },
  {
   "cell_type": "markdown",
   "id": "2bcfddef",
   "metadata": {},
   "source": [
    "4.  Explain the use of the groupby() method in Pandas?"
   ]
  },
  {
   "cell_type": "markdown",
   "id": "beefeaea",
   "metadata": {},
   "source": [
    "Answer -> The groupby() method in Pandas is used to group rows of a DataFrame based on one or more column values. It's a powerful and fundamental tool for data analysis that allows you to perform operations on these groups independently. The process is often summarized by the \"split-apply-combine\" paradigm."
   ]
  },
  {
   "cell_type": "markdown",
   "id": "35cf6495",
   "metadata": {},
   "source": [
    "5. Why is Seaborn preferred for statistical visualizations?"
   ]
  },
  {
   "cell_type": "markdown",
   "id": "a19b0e81",
   "metadata": {},
   "source": [
    "Answer -> \n",
    "Seaborn is the preferred choice for statistical visualizations because it provides a high-level, easy-to-use interface that is specifically designed for exploring and understanding statistical data. While it's built on top of Matplotlib, it offers a more declarative and dataset-oriented approach, which simplifies the process of creating complex and aesthetically pleasing plots with minimal code."
   ]
  },
  {
   "cell_type": "markdown",
   "id": "916b1b0c",
   "metadata": {},
   "source": [
    "6. What are the differences between NumPy arrays and Python lists?"
   ]
  },
  {
   "cell_type": "markdown",
   "id": "0623571d",
   "metadata": {},
   "source": [
    "Answer ->\n",
    "1. Performance and Memory\n",
    "\n",
    "NumPy Arrays: NumPy arrays are significantly faster and more memory-efficient than Python lists for numerical operations. This is because NumPy arrays are stored in a contiguous block of memory and are implemented in C, which allows for optimized, low-level operations.\n",
    "\n",
    "\n",
    "Python Lists: Python lists are slower for numerical tasks because they are not stored contiguously. Each element in a list is a separate object, and the list itself only stores pointers to these objects. This overhead makes lists less efficient for large-scale numerical computations.\n",
    "\n",
    "\n",
    "2. Data Types\n",
    "\n",
    "NumPy Arrays: A NumPy array is a homogeneous data structure, meaning all its elements must be of the same data type. For example, an array of integers can only contain integers. This uniformity is what allows NumPy to optimize operations.\n",
    "\n",
    "\n",
    "Python Lists: A Python list is a heterogeneous data structure, meaning it can store elements of different data types within the same list. For instance, a list can contain a number, a string, and a boolean value all at once.\n",
    "\n",
    "\n",
    "3. Functionality\n",
    "\n",
    "NumPy Arrays: NumPy arrays are designed for mathematical and scientific computing. They come with a vast library of functions for linear algebra, Fourier transforms, and other advanced operations. NumPy also supports powerful features like broadcasting, which allows for operations on arrays of different shapes.\n",
    "\n",
    "\n",
    "\n",
    "Python Lists: Lists are a more general-purpose data structure. They are optimized for operations like appending, inserting, and deleting elements. While you can perform arithmetic on lists, it typically requires a loop, making it much slower and more verbose than using NumPy's built-in functions."
   ]
  },
  {
   "cell_type": "markdown",
   "id": "3633998c",
   "metadata": {},
   "source": [
    "7. What is a heatmap, and when should it be used?"
   ]
  },
  {
   "cell_type": "markdown",
   "id": "829cc14a",
   "metadata": {},
   "source": [
    "Answer ->\n",
    "A heatmap is a powerful data visualization technique that uses color gradients to represent the magnitude of values in a dataset. Think of it like a thermal image for your data—hotter colors (like red or orange) often indicate higher values, while cooler colors (like blue or green) represent lower ones.\n",
    "\n",
    "When to Use a Heatmap\n",
    "\n",
    "Heatmaps are most effective for quickly identifying patterns and trends in large datasets. They're especially useful when you want to show the relationship between two variables. Here are some common use cases:\n",
    "\n",
    "\n",
    "Website Analytics : Heatmaps are widely used in web design and digital marketing to visualize user behavior.\n",
    "\n",
    "Click maps show where users click most frequently.\n",
    "\n",
    "Scroll maps show how far down a page users scroll, revealing which content is most engaging.\n",
    "\n",
    "Mouse movement maps track where users hover their cursors, often indicating what they're paying attention to.\n",
    "\n",
    "Business and Finance : They can be used to analyze everything from sales performance by region to stock market trends, making it easy to spot top-performing areas or assets.\n",
    "\n",
    "Genetics and Biology : In bioinformatics, heatmaps are used to visualize gene expression data, where rows represent genes and columns represent samples. The color of each cell shows the expression level of a specific gene in a particular sample.\n",
    "\n",
    "Geospatial Analysis : Heatmaps can be overlaid on maps to show geographic data, such as population density, crime rates, or weather patterns. This helps visualize data distribution across a physical area."
   ]
  },
  {
   "cell_type": "markdown",
   "id": "ea9599ae",
   "metadata": {},
   "source": [
    "8. What does the term “vectorized operation” mean in NumPy?"
   ]
  },
  {
   "cell_type": "markdown",
   "id": "81ee1181",
   "metadata": {},
   "source": [
    "Answer ->\n",
    "In NumPy, a vectorized operation is the process of applying a mathematical or logical operation to an entire array at once, without the need for an explicit Python for loop.\n",
    "\n",
    "Instead of writing a loop to perform an operation on each element individually, you can apply the operation directly to the NumPy array. This approach leverages NumPy's underlying C and Fortran code, which is highly optimized and can perform these operations much faster."
   ]
  },
  {
   "cell_type": "markdown",
   "id": "31d281a6",
   "metadata": {},
   "source": [
    "9. How does Matplotlib differ from Plotly?"
   ]
  },
  {
   "cell_type": "markdown",
   "id": "ebc9d372",
   "metadata": {},
   "source": [
    "Answer ->\n",
    "Key Differences\n",
    "\n",
    "Interactivity : This is the most significant distinction. Plotly's plots are interactive by default. You can zoom, pan, hover over data points to see details, and toggle data series on and off without writing extra code. Matplotlib, on the other hand, creates static images. While it has some interactive features, they generally require more effort and are not as seamless or robust as Plotly's.\n",
    "\n",
    "\n",
    "\n",
    "\n",
    "Aesthetics : Plotly's visualizations are known for their modern, sleek, and polished look right out of the box. Matplotlib's default style is often considered more basic or traditional, and it requires more code and customization to achieve a visually appealing result.\n",
    "\n",
    "Syntax and Complexity : Matplotlib offers a high degree of control over every element of a plot, but this comes with a steeper learning curve and can result in more verbose code for complex visualizations. Plotly, especially with its high-level plotly.express module, allows you to create sophisticated, interactive plots with just a few lines of code, making it more user-friendly for quick data exploration.\n",
    "\n",
    "\n",
    "Output Format : Matplotlib's primary output is a static image file (e.g., PNG, PDF, SVG) that is perfect for academic papers, presentations, or print media. Plotly's output is an HTML file, which is ideal for web-based dashboards, reports, and applications where the user can interact with the data directly in a browser.\n",
    "\n",
    "\n"
   ]
  },
  {
   "cell_type": "markdown",
   "id": "814afc07",
   "metadata": {},
   "source": [
    "10. What is the significance of hierarchical indexing in Pandas?"
   ]
  },
  {
   "cell_type": "markdown",
   "id": "811851e0",
   "metadata": {},
   "source": [
    "Answer ->\n",
    "The significance of hierarchical indexing (also known as MultiIndex) in Pandas is that it allows you to handle and analyze data with multiple levels of labels on a single axis. This provides a powerful and intuitive way to work with higher-dimensional data in a two-dimensional structure like a Pandas Series or DataFrame."
   ]
  },
  {
   "cell_type": "markdown",
   "id": "62ffc327",
   "metadata": {},
   "source": [
    "11. What is the role of Seaborn’s pairplot() function?"
   ]
  },
  {
   "cell_type": "markdown",
   "id": "755995b6",
   "metadata": {},
   "source": [
    "Answer ->\n",
    "    Seaborn's pairplot() function is a powerful tool for exploratory data analysis (EDA). Its primary role is to create a grid of plots that provides a comprehensive, high-level overview of the relationships between multiple variables in a dataset."
   ]
  },
  {
   "cell_type": "markdown",
   "id": "2d3a701e",
   "metadata": {},
   "source": [
    "12. What is the purpose of the describe() function in Pandas?"
   ]
  },
  {
   "cell_type": "markdown",
   "id": "9de26c87",
   "metadata": {},
   "source": [
    "Answer ->\n",
    "The describe() function in Pandas is used to generate a descriptive statistical summary of a DataFrame or a Series. It provides a quick overview of the central tendency, dispersion, and shape of the dataset's distribution."
   ]
  },
  {
   "cell_type": "markdown",
   "id": "bd04f797",
   "metadata": {},
   "source": [
    "13. Why is handling missing data important in Pandas?"
   ]
  },
  {
   "cell_type": "markdown",
   "id": "621de4bc",
   "metadata": {},
   "source": [
    "Answer ->\n",
    "Handling missing data is crucial in Pandas because it ensures the accuracy, reliability, and integrity of your data analysis and machine learning models. Missing values can skew statistical calculations, lead to biased results, and cause errors in algorithms that are not designed to handle them."
   ]
  },
  {
   "cell_type": "markdown",
   "id": "91618c4a",
   "metadata": {},
   "source": [
    "14. What are the benefits of using Plotly for data visualization?"
   ]
  },
  {
   "cell_type": "markdown",
   "id": "f15b798e",
   "metadata": {},
   "source": [
    "Answer ->\n",
    "The main benefit of using Plotly for data visualization is its ability to create interactive, web-based plots with relatively little code. Unlike static libraries like Matplotlib, Plotly-generated charts allow users to zoom, pan, hover over data points for details, and toggle data series on and off, which makes data exploration and sharing much more dynamic and insightful."
   ]
  },
  {
   "cell_type": "markdown",
   "id": "a400c194",
   "metadata": {},
   "source": [
    "15.  How does NumPy handle multidimensional arrays?"
   ]
  },
  {
   "cell_type": "markdown",
   "id": "1a8706f6",
   "metadata": {},
   "source": [
    "Answer -> \n",
    "NumPy handles multidimensional arrays by using the ndarray object, which stands for N-dimensional array. This object is a core data structure that efficiently stores and manipulates large datasets. Unlike standard Python lists, ndarray objects are homogeneous, meaning all elements in the array must be of the same data type."
   ]
  },
  {
   "cell_type": "markdown",
   "id": "43f33bc8",
   "metadata": {},
   "source": [
    "16. What is the role of Bokeh in data visualization?"
   ]
  },
  {
   "cell_type": "markdown",
   "id": "1f7c559e",
   "metadata": {},
   "source": [
    "Answer ->\n",
    "Bokeh is a data visualization library for Python that specializes in creating interactive, web-based plots and dashboards. Its main role is to enable data scientists and developers to build rich, dynamic visualizations that can be shared and explored in a web browser."
   ]
  },
  {
   "cell_type": "markdown",
   "id": "4e9a247c",
   "metadata": {},
   "source": [
    "17.  Explain the difference between apply() and map() in Pandas?\n"
   ]
  },
  {
   "cell_type": "markdown",
   "id": "ae63540a",
   "metadata": {},
   "source": [
    "Answer ->\n",
    "The key difference between apply() and map() in Pandas lies in their flexibility and the objects they are designed to operate on. map() is strictly for element-wise operations on a Series, while apply() is more versatile and can operate on a Series, a DataFrame row, or a DataFrame column."
   ]
  },
  {
   "cell_type": "markdown",
   "id": "7b4bd532",
   "metadata": {},
   "source": [
    "18. What are some advanced features of NumPy?"
   ]
  },
  {
   "cell_type": "markdown",
   "id": "bb31aa50",
   "metadata": {},
   "source": [
    "Answer ->\n",
    "Some advanced features of NumPy include broadcasting, advanced indexing, and the use of universal functions (ufuncs). These features are what make NumPy so powerful and efficient for numerical operations in Python.\n",
    "\n",
    "import numpy as np\n",
    "arr = np.array([[1, 2, 3], [4, 5, 6]])\n",
    "result = arr + 10\n",
    "The scalar 10 is broadcast to every element in arr"
   ]
  },
  {
   "cell_type": "markdown",
   "id": "3202eb81",
   "metadata": {},
   "source": [
    "19. How does Pandas simplify time series analysis?"
   ]
  },
  {
   "cell_type": "markdown",
   "id": "fb1868b0",
   "metadata": {},
   "source": [
    "Answer ->\n",
    "Key Features for Time Series Analysis\n",
    "\n",
    "DateTimeIndex: Pandas' DateTimeIndex is a specialized index designed to handle time-stamped data. It makes time-based operations like slicing, selecting, and aligning data intuitive and efficient. You can easily select data for a specific date or a range of dates using simple string-based indexing, such as df['2023-01'].\n",
    "\n",
    "Resampling: This feature allows you to change the frequency of your time series data. For example, you can resample daily sales data to weekly or monthly totals using functions like df.resample('M').sum(). This is crucial for smoothing out noisy data or aligning time series with different frequencies.\n",
    "\n",
    "\n",
    "Time-based Slicing and Filtering: Pandas allows you to filter data based on time intervals without complex loops. For instance, you can select all data from the first quarter of a year with a simple slice, or select data points that occurred on a specific day of the week.\n",
    "\n",
    "Rolling and Expanding Windows: Pandas provides built-in functions for calculating rolling statistics, such as a rolling mean or standard deviation. This is essential for analyzing trends and volatility over a moving window of time. For example, df.rolling(window=30).mean() calculates the 30-day moving average.\n",
    "\n",
    "\n",
    "Handling Missing Data: Pandas' time series functionalities seamlessly handle missing values, which are common in time series datasets. You can easily fill in missing dates or values using methods like ffill() (forward-fill) or bfill() (backward-fill), which propagate the last valid observation forward or backward."
   ]
  },
  {
   "cell_type": "markdown",
   "id": "69d2212f",
   "metadata": {},
   "source": [
    "20. What is the role of a pivot table in Pandas?"
   ]
  },
  {
   "cell_type": "markdown",
   "id": "e7404e3e",
   "metadata": {},
   "source": [
    "Answer ->\n",
    "A pivot table in Pandas is used to summarize and restructure data from a DataFrame. It transforms data from a \"long\" or \"tidy\" format into a \"wide\" format, making it easier to analyze and interpret. The role of a pivot table is to aggregate data based on one or more index and column keys."
   ]
  },
  {
   "cell_type": "markdown",
   "id": "06ed909c",
   "metadata": {},
   "source": [
    "21. Why is NumPy’s array slicing faster than Python’s list slicing?"
   ]
  },
  {
   "cell_type": "markdown",
   "id": "7946334e",
   "metadata": {},
   "source": [
    "Answer ->\n",
    "Data Storage: \n",
    "\n",
    "NumPy Arrays: NumPy stores array elements in a contiguous block of memory. This means that all elements are located next to each other in RAM. When you slice a NumPy array, you're essentially getting a view of the original data. This operation is extremely fast because it only creates a new header for the array, not a copy of the data itself.\n",
    "\n",
    "Python Lists: In contrast, a Python list is an array of pointers to objects that can be stored anywhere in memory. Slicing a list requires creating a new list and then copying the pointers for each element of the slice. This involves iterating through the list and allocating new memory, which is a much slower process.\n",
    "\n",
    "The Slicing Process : \n",
    "\n",
    "NumPy's View: When you perform a slice on a NumPy array (e.g., arr[1:5]), NumPy simply creates a new array object that points to the same data in memory but with a different set of dimensions and strides. This is a very low-overhead operation.\n",
    "\n",
    "Python's Copy: When you slice a Python list (e.g., my_list[1:5]), Python has to build a completely new list in a different location in memory and then populate it with the references to the elements from the original list."
   ]
  },
  {
   "cell_type": "markdown",
   "id": "6372df17",
   "metadata": {},
   "source": [
    "22. What are some common use cases for Seaborn?"
   ]
  },
  {
   "cell_type": "markdown",
   "id": "d5840125",
   "metadata": {},
   "source": [
    "Answer ->\n",
    "Common Use Cases for Seaborn\n",
    "\n",
    "Exploratory Data Analysis (EDA) : This is arguably Seaborn's most common use case. Functions like pairplot() and jointplot() allow you to quickly visualize the relationships between multiple variables in a dataset. This is essential for understanding data distribution, identifying correlations, and spotting potential outliers before building a model.\n",
    "\n",
    "Visualizing Statistical Relationships : Seaborn excels at creating plots that show the relationship between two or more variables, such as scatterplot(), lineplot(), and regplot(). These are particularly useful for regression analysis.\n",
    "\n",
    "Creating Distribution Plots : Seaborn provides functions like histplot(), kdeplot(), and displot() to visualize the distribution of a single variable. This helps in understanding the central tendency, spread, and skewness of the data.\n",
    "\n",
    "Handling Categorical Data : The library offers a wide range of plots specifically for visualizing categorical data, including boxplot(), violinplot(), and barplot(). These are great for comparing distributions or summary statistics across different categories.\n",
    "\n",
    "\n",
    "Visualizing Complex Data : For more complex datasets, Seaborn has specialized plots like heatmaps and clustermaps that can visualize correlations in a large matrix. This is common in fields like genomics and finance.\n",
    "\n",
    "Publishing-Quality Graphics : Seaborn's default styles are visually appealing and require minimal customization. It integrates well with Matplotlib, so you can easily fine-tune plots for professional reports and publications."
   ]
  },
  {
   "cell_type": "markdown",
   "id": "43d94464",
   "metadata": {},
   "source": [
    "# Practical"
   ]
  },
  {
   "cell_type": "markdown",
   "id": "5c064736",
   "metadata": {},
   "source": [
    "1.  How do you create a 2D NumPy array and calculate the sum of each row?"
   ]
  },
  {
   "cell_type": "code",
   "execution_count": 4,
   "id": "95a66438",
   "metadata": {},
   "outputs": [
    {
     "name": "stdout",
     "output_type": "stream",
     "text": [
      "[[15 18 21 24]]\n"
     ]
    }
   ],
   "source": [
    "import numpy as np\n",
    "# Create a 2D array with 3 rows and 4 columns\n",
    "my_2d_array = np.array([[1, 2, 3, 4],\n",
    "                        [5, 6, 7, 8],\n",
    "                        [9, 10, 11, 12]])\n",
    "add_row = np.sum([my_2d_array],axis = 1)\n",
    "print(add_row)"
   ]
  },
  {
   "cell_type": "markdown",
   "id": "acedd04d",
   "metadata": {},
   "source": [
    "2. Write a Pandas script to find the mean of a specific column in a DataFrame?"
   ]
  },
  {
   "cell_type": "code",
   "execution_count": 11,
   "id": "a6345095",
   "metadata": {},
   "outputs": [
    {
     "name": "stdout",
     "output_type": "stream",
     "text": [
      "5.0\n"
     ]
    }
   ],
   "source": [
    "import pandas as pd\n",
    "data = {\n",
    "    'A' : [3,4,5,6,7],\n",
    "    'B' : [8,5,4,3,2]\n",
    "}\n",
    "df = pd.DataFrame(data)\n",
    "Mean_Value = df['A'].mean()\n",
    "print(Mean_Value)"
   ]
  },
  {
   "cell_type": "markdown",
   "id": "7f6aeef0",
   "metadata": {},
   "source": [
    "3. Create a scatter plot using Matplotlib."
   ]
  },
  {
   "cell_type": "code",
   "execution_count": 16,
   "id": "c153d869",
   "metadata": {},
   "outputs": [
    {
     "data": {
      "image/png": "[encoded data removed]",
      "text/plain": [
       "<Figure size 640x480 with 1 Axes>"
      ]
     },
     "metadata": {},
     "output_type": "display_data"
    }
   ],
   "source": [
    "import matplotlib.pyplot as plt\n",
    "x = [3,6,8,9]\n",
    "y = [4,7,5,8]\n",
    "plt.scatter(x,y)\n",
    "plt.show()"
   ]
  },
  {
   "cell_type": "markdown",
   "id": "9e02505a",
   "metadata": {},
   "source": [
    "4. How do you calculate the correlation matrix using Seaborn and visualize it with a heatmap?"
   ]
  },
  {
   "cell_type": "code",
   "execution_count": null,
   "id": "aba9de7f",
   "metadata": {},
   "outputs": [
    {
     "name": "stdout",
     "output_type": "stream",
     "text": [
      "          A         B         C\n",
      "A  1.000000  0.259819  0.169731\n",
      "B  0.259819  1.000000  0.339002\n",
      "C  0.169731  0.339002  1.000000\n"
     ]
    }
   ],
   "source": [
    "import pandas as pd\n",
    "import numpy as np\n",
    "\n",
    "data = {'A': np.random.rand(10),\n",
    "        'B': np.random.rand(10),\n",
    "        'C': np.random.rand(10)}\n",
    "df = pd.DataFrame(data)\n",
    "\n",
    "correlation_matrix = df.corr()\n",
    "print(correlation_matrix)"
   ]
  },
  {
   "cell_type": "code",
   "execution_count": 24,
   "id": "fb42f4e2",
   "metadata": {},
   "outputs": [
    {
     "data": {
      "image/png": "[encoded data removed]",
      "text/plain": [
       "<Figure size 640x480 with 2 Axes>"
      ]
     },
     "metadata": {},
     "output_type": "display_data"
    }
   ],
   "source": [
    "import seaborn as sns\n",
    "import matplotlib.pyplot as plt\n",
    "\n",
    "sns.heatmap(correlation_matrix, annot=True, cmap='coolwarm')\n",
    "\n",
    "plt.title('Correlation Matrix Heatmap')\n",
    "\n",
    "plt.show()"
   ]
  },
  {
   "cell_type": "markdown",
   "id": "a18a5e38",
   "metadata": {},
   "source": [
    "5. Generate a bar plot using Plotly."
   ]
  },
  {
   "cell_type": "code",
   "execution_count": 26,
   "id": "9309e368",
   "metadata": {},
   "outputs": [
    {
     "data": {
      "application/vnd.microsoft.datawrangler.viewer.v0+json": {
       "columns": [
        {
         "name": "index",
         "rawType": "int64",
         "type": "integer"
        },
        {
         "name": "A",
         "rawType": "float64",
         "type": "float"
        },
        {
         "name": "B",
         "rawType": "float64",
         "type": "float"
        }
       ],
       "ref": "bfb3a3b1-b5ca-4f57-91e8-491f77dd6c98",
       "rows": [
        [
         "0",
         "0.6608844446717674",
         "0.7324706611636604"
        ],
        [
         "1",
         "0.2030252372707848",
         "0.2940276846694435"
        ],
        [
         "2",
         "0.6970194192671775",
         "0.4960102549939377"
        ],
        [
         "3",
         "0.9476323230806966",
         "0.7214408011516097"
        ],
        [
         "4",
         "0.9061958603657956",
         "0.04963451147534892"
        ],
        [
         "5",
         "0.6326430764010228",
         "0.25824897399300484"
        ],
        [
         "6",
         "0.038426568642623615",
         "0.8953015288362113"
        ],
        [
         "7",
         "0.9997586242239488",
         "0.29126275297152004"
        ],
        [
         "8",
         "0.2286168332519941",
         "0.7724610824300515"
        ],
        [
         "9",
         "0.8787125184021144",
         "0.47412941279771414"
        ]
       ],
       "shape": {
        "columns": 2,
        "rows": 10
       }
      },
      "text/html": [
       "<div>\n",
       "<style scoped>\n",
       "    .dataframe tbody tr th:only-of-type {\n",
       "        vertical-align: middle;\n",
       "    }\n",
       "\n",
       "    .dataframe tbody tr th {\n",
       "        vertical-align: top;\n",
       "    }\n",
       "\n",
       "    .dataframe thead th {\n",
       "        text-align: right;\n",
       "    }\n",
       "</style>\n",
       "<table border=\"1\" class=\"dataframe\">\n",
       "  <thead>\n",
       "    <tr style=\"text-align: right;\">\n",
       "      <th></th>\n",
       "      <th>A</th>\n",
       "      <th>B</th>\n",
       "    </tr>\n",
       "  </thead>\n",
       "  <tbody>\n",
       "    <tr>\n",
       "      <th>0</th>\n",
       "      <td>0.660884</td>\n",
       "      <td>0.732471</td>\n",
       "    </tr>\n",
       "    <tr>\n",
       "      <th>1</th>\n",
       "      <td>0.203025</td>\n",
       "      <td>0.294028</td>\n",
       "    </tr>\n",
       "    <tr>\n",
       "      <th>2</th>\n",
       "      <td>0.697019</td>\n",
       "      <td>0.496010</td>\n",
       "    </tr>\n",
       "    <tr>\n",
       "      <th>3</th>\n",
       "      <td>0.947632</td>\n",
       "      <td>0.721441</td>\n",
       "    </tr>\n",
       "    <tr>\n",
       "      <th>4</th>\n",
       "      <td>0.906196</td>\n",
       "      <td>0.049635</td>\n",
       "    </tr>\n",
       "    <tr>\n",
       "      <th>5</th>\n",
       "      <td>0.632643</td>\n",
       "      <td>0.258249</td>\n",
       "    </tr>\n",
       "    <tr>\n",
       "      <th>6</th>\n",
       "      <td>0.038427</td>\n",
       "      <td>0.895302</td>\n",
       "    </tr>\n",
       "    <tr>\n",
       "      <th>7</th>\n",
       "      <td>0.999759</td>\n",
       "      <td>0.291263</td>\n",
       "    </tr>\n",
       "    <tr>\n",
       "      <th>8</th>\n",
       "      <td>0.228617</td>\n",
       "      <td>0.772461</td>\n",
       "    </tr>\n",
       "    <tr>\n",
       "      <th>9</th>\n",
       "      <td>0.878713</td>\n",
       "      <td>0.474129</td>\n",
       "    </tr>\n",
       "  </tbody>\n",
       "</table>\n",
       "</div>"
      ],
      "text/plain": [
       "          A         B\n",
       "0  0.660884  0.732471\n",
       "1  0.203025  0.294028\n",
       "2  0.697019  0.496010\n",
       "3  0.947632  0.721441\n",
       "4  0.906196  0.049635\n",
       "5  0.632643  0.258249\n",
       "6  0.038427  0.895302\n",
       "7  0.999759  0.291263\n",
       "8  0.228617  0.772461\n",
       "9  0.878713  0.474129"
      ]
     },
     "execution_count": 26,
     "metadata": {},
     "output_type": "execute_result"
    }
   ],
   "source": [
    "import pandas as pd\n",
    "import numpy as np\n",
    "\n",
    "data = {'A': np.random.rand(10),\n",
    "        'B': np.random.rand(10)}\n",
    "df = pd.DataFrame(data)\n",
    "df"
   ]
  },
  {
   "cell_type": "code",
   "execution_count": 29,
   "id": "708c86a9",
   "metadata": {},
   "outputs": [
    {
     "data": {
      "application/vnd.plotly.v1+json": {
       "config": {
        "plotlyServerURL": "https://plot.ly"
       },
       "data": [
        {
         "hovertemplate": "variable=A<br>index=%{x}<br>value=%{y}<extra></extra>",
         "legendgroup": "A",
         "marker": {
          "color": "#636efa",
          "pattern": {
           "shape": ""
          }
         },
         "name": "A",
         "orientation": "v",
         "showlegend": true,
         "textposition": "auto",
         "type": "bar",
         "x": {
          "bdata": "AAECAwQFBgcICQ==",
          "dtype": "i1"
         },
         "xaxis": "x",
         "y": {
          "bdata": "kpyJIvcl5T/Imishu/zJP/i9Tav7TeY/fXOIBQFT7j9mVQF2jv/sP/XcZbGcPuQ/0DE8r6Wsoz8v8l3MBf7vP3zyEP9QQ80/oe4jt2ke7D8=",
          "dtype": "f8"
         },
         "yaxis": "y"
        },
        {
         "hovertemplate": "variable=B<br>index=%{x}<br>value=%{y}<extra></extra>",
         "legendgroup": "B",
         "marker": {
          "color": "#EF553B",
          "pattern": {
           "shape": ""
          }
         },
         "name": "B",
         "orientation": "v",
         "showlegend": true,
         "textposition": "auto",
         "type": "bar",
         "x": {
          "bdata": "AAECAwQFBgcICQ==",
          "dtype": "i1"
         },
         "xaxis": "x",
         "y": {
          "bdata": "BEffT2Zw5z/uhnF+WdHSP0p+68uhvt8/S0feBAsW5z9AQRTXsWmpP/ahYbQmh9A/aSFNZE+m7D8Kj6OHDKTSP9wIz00AuOg/ZmyC5CJY3j8=",
          "dtype": "f8"
         },
         "yaxis": "y"
        }
       ],
       "layout": {
        "barmode": "relative",
        "legend": {
         "title": {
          "text": "variable"
         },
         "tracegroupgap": 0
        },
        "margin": {
         "t": 60
        },
        "template": {
         "data": {
          "bar": [
           {
            "error_x": {
             "color": "#2a3f5f"
            },
            "error_y": {
             "color": "#2a3f5f"
            },
            "marker": {
             "line": {
              "color": "#E5ECF6",
              "width": 0.5
             },
             "pattern": {
              "fillmode": "overlay",
              "size": 10,
              "solidity": 0.2
             }
            },
            "type": "bar"
           }
          ],
          "barpolar": [
           {
            "marker": {
             "line": {
              "color": "#E5ECF6",
              "width": 0.5
             },
             "pattern": {
              "fillmode": "overlay",
              "size": 10,
              "solidity": 0.2
             }
            },
            "type": "barpolar"
           }
          ],
          "carpet": [
           {
            "aaxis": {
             "endlinecolor": "#2a3f5f",
             "gridcolor": "white",
             "linecolor": "white",
             "minorgridcolor": "white",
             "startlinecolor": "#2a3f5f"
            },
            "baxis": {
             "endlinecolor": "#2a3f5f",
             "gridcolor": "white",
             "linecolor": "white",
             "minorgridcolor": "white",
             "startlinecolor": "#2a3f5f"
            },
            "type": "carpet"
           }
          ],
          "choropleth": [
           {
            "colorbar": {
             "outlinewidth": 0,
             "ticks": ""
            },
            "type": "choropleth"
           }
          ],
          "contour": [
           {
            "colorbar": {
             "outlinewidth": 0,
             "ticks": ""
            },
            "colorscale": [
             [
              0,
              "#0d0887"
             ],
             [
              0.1111111111111111,
              "#46039f"
             ],
             [
              0.2222222222222222,
              "#7201a8"
             ],
             [
              0.3333333333333333,
              "#9c179e"
             ],
             [
              0.4444444444444444,
              "#bd3786"
             ],
             [
              0.5555555555555556,
              "#d8576b"
             ],
             [
              0.6666666666666666,
              "#ed7953"
             ],
             [
              0.7777777777777778,
              "#fb9f3a"
             ],
             [
              0.8888888888888888,
              "#fdca26"
             ],
             [
              1,
              "#f0f921"
             ]
            ],
            "type": "contour"
           }
          ],
          "contourcarpet": [
           {
            "colorbar": {
             "outlinewidth": 0,
             "ticks": ""
            },
            "type": "contourcarpet"
           }
          ],
          "heatmap": [
           {
            "colorbar": {
             "outlinewidth": 0,
             "ticks": ""
            },
            "colorscale": [
             [
              0,
              "#0d0887"
             ],
             [
              0.1111111111111111,
              "#46039f"
             ],
             [
              0.2222222222222222,
              "#7201a8"
             ],
             [
              0.3333333333333333,
              "#9c179e"
             ],
             [
              0.4444444444444444,
              "#bd3786"
             ],
             [
              0.5555555555555556,
              "#d8576b"
             ],
             [
              0.6666666666666666,
              "#ed7953"
             ],
             [
              0.7777777777777778,
              "#fb9f3a"
             ],
             [
              0.8888888888888888,
              "#fdca26"
             ],
             [
              1,
              "#f0f921"
             ]
            ],
            "type": "heatmap"
           }
          ],
          "histogram": [
           {
            "marker": {
             "pattern": {
              "fillmode": "overlay",
              "size": 10,
              "solidity": 0.2
             }
            },
            "type": "histogram"
           }
          ],
          "histogram2d": [
           {
            "colorbar": {
             "outlinewidth": 0,
             "ticks": ""
            },
            "colorscale": [
             [
              0,
              "#0d0887"
             ],
             [
              0.1111111111111111,
              "#46039f"
             ],
             [
              0.2222222222222222,
              "#7201a8"
             ],
             [
              0.3333333333333333,
              "#9c179e"
             ],
             [
              0.4444444444444444,
              "#bd3786"
             ],
             [
              0.5555555555555556,
              "#d8576b"
             ],
             [
              0.6666666666666666,
              "#ed7953"
             ],
             [
              0.7777777777777778,
              "#fb9f3a"
             ],
             [
              0.8888888888888888,
              "#fdca26"
             ],
             [
              1,
              "#f0f921"
             ]
            ],
            "type": "histogram2d"
           }
          ],
          "histogram2dcontour": [
           {
            "colorbar": {
             "outlinewidth": 0,
             "ticks": ""
            },
            "colorscale": [
             [
              0,
              "#0d0887"
             ],
             [
              0.1111111111111111,
              "#46039f"
             ],
             [
              0.2222222222222222,
              "#7201a8"
             ],
             [
              0.3333333333333333,
              "#9c179e"
             ],
             [
              0.4444444444444444,
              "#bd3786"
             ],
             [
              0.5555555555555556,
              "#d8576b"
             ],
             [
              0.6666666666666666,
              "#ed7953"
             ],
             [
              0.7777777777777778,
              "#fb9f3a"
             ],
             [
              0.8888888888888888,
              "#fdca26"
             ],
             [
              1,
              "#f0f921"
             ]
            ],
            "type": "histogram2dcontour"
           }
          ],
          "mesh3d": [
           {
            "colorbar": {
             "outlinewidth": 0,
             "ticks": ""
            },
            "type": "mesh3d"
           }
          ],
          "parcoords": [
           {
            "line": {
             "colorbar": {
              "outlinewidth": 0,
              "ticks": ""
             }
            },
            "type": "parcoords"
           }
          ],
          "pie": [
           {
            "automargin": true,
            "type": "pie"
           }
          ],
          "scatter": [
           {
            "fillpattern": {
             "fillmode": "overlay",
             "size": 10,
             "solidity": 0.2
            },
            "type": "scatter"
           }
          ],
          "scatter3d": [
           {
            "line": {
             "colorbar": {
              "outlinewidth": 0,
              "ticks": ""
             }
            },
            "marker": {
             "colorbar": {
              "outlinewidth": 0,
              "ticks": ""
             }
            },
            "type": "scatter3d"
           }
          ],
          "scattercarpet": [
           {
            "marker": {
             "colorbar": {
              "outlinewidth": 0,
              "ticks": ""
             }
            },
            "type": "scattercarpet"
           }
          ],
          "scattergeo": [
           {
            "marker": {
             "colorbar": {
              "outlinewidth": 0,
              "ticks": ""
             }
            },
            "type": "scattergeo"
           }
          ],
          "scattergl": [
           {
            "marker": {
             "colorbar": {
              "outlinewidth": 0,
              "ticks": ""
             }
            },
            "type": "scattergl"
           }
          ],
          "scattermap": [
           {
            "marker": {
             "colorbar": {
              "outlinewidth": 0,
              "ticks": ""
             }
            },
            "type": "scattermap"
           }
          ],
          "scattermapbox": [
           {
            "marker": {
             "colorbar": {
              "outlinewidth": 0,
              "ticks": ""
             }
            },
            "type": "scattermapbox"
           }
          ],
          "scatterpolar": [
           {
            "marker": {
             "colorbar": {
              "outlinewidth": 0,
              "ticks": ""
             }
            },
            "type": "scatterpolar"
           }
          ],
          "scatterpolargl": [
           {
            "marker": {
             "colorbar": {
              "outlinewidth": 0,
              "ticks": ""
             }
            },
            "type": "scatterpolargl"
           }
          ],
          "scatterternary": [
           {
            "marker": {
             "colorbar": {
              "outlinewidth": 0,
              "ticks": ""
             }
            },
            "type": "scatterternary"
           }
          ],
          "surface": [
           {
            "colorbar": {
             "outlinewidth": 0,
             "ticks": ""
            },
            "colorscale": [
             [
              0,
              "#0d0887"
             ],
             [
              0.1111111111111111,
              "#46039f"
             ],
             [
              0.2222222222222222,
              "#7201a8"
             ],
             [
              0.3333333333333333,
              "#9c179e"
             ],
             [
              0.4444444444444444,
              "#bd3786"
             ],
             [
              0.5555555555555556,
              "#d8576b"
             ],
             [
              0.6666666666666666,
              "#ed7953"
             ],
             [
              0.7777777777777778,
              "#fb9f3a"
             ],
             [
              0.8888888888888888,
              "#fdca26"
             ],
             [
              1,
              "#f0f921"
             ]
            ],
            "type": "surface"
           }
          ],
          "table": [
           {
            "cells": {
             "fill": {
              "color": "#EBF0F8"
             },
             "line": {
              "color": "white"
             }
            },
            "header": {
             "fill": {
              "color": "#C8D4E3"
             },
             "line": {
              "color": "white"
             }
            },
            "type": "table"
           }
          ]
         },
         "layout": {
          "annotationdefaults": {
           "arrowcolor": "#2a3f5f",
           "arrowhead": 0,
           "arrowwidth": 1
          },
          "autotypenumbers": "strict",
          "coloraxis": {
           "colorbar": {
            "outlinewidth": 0,
            "ticks": ""
           }
          },
          "colorscale": {
           "diverging": [
            [
             0,
             "#8e0152"
            ],
            [
             0.1,
             "#c51b7d"
            ],
            [
             0.2,
             "#de77ae"
            ],
            [
             0.3,
             "#f1b6da"
            ],
            [
             0.4,
             "#fde0ef"
            ],
            [
             0.5,
             "#f7f7f7"
            ],
            [
             0.6,
             "#e6f5d0"
            ],
            [
             0.7,
             "#b8e186"
            ],
            [
             0.8,
             "#7fbc41"
            ],
            [
             0.9,
             "#4d9221"
            ],
            [
             1,
             "#276419"
            ]
           ],
           "sequential": [
            [
             0,
             "#0d0887"
            ],
            [
             0.1111111111111111,
             "#46039f"
            ],
            [
             0.2222222222222222,
             "#7201a8"
            ],
            [
             0.3333333333333333,
             "#9c179e"
            ],
            [
             0.4444444444444444,
             "#bd3786"
            ],
            [
             0.5555555555555556,
             "#d8576b"
            ],
            [
             0.6666666666666666,
             "#ed7953"
            ],
            [
             0.7777777777777778,
             "#fb9f3a"
            ],
            [
             0.8888888888888888,
             "#fdca26"
            ],
            [
             1,
             "#f0f921"
            ]
           ],
           "sequentialminus": [
            [
             0,
             "#0d0887"
            ],
            [
             0.1111111111111111,
             "#46039f"
            ],
            [
             0.2222222222222222,
             "#7201a8"
            ],
            [
             0.3333333333333333,
             "#9c179e"
            ],
            [
             0.4444444444444444,
             "#bd3786"
            ],
            [
             0.5555555555555556,
             "#d8576b"
            ],
            [
             0.6666666666666666,
             "#ed7953"
            ],
            [
             0.7777777777777778,
             "#fb9f3a"
            ],
            [
             0.8888888888888888,
             "#fdca26"
            ],
            [
             1,
             "#f0f921"
            ]
           ]
          },
          "colorway": [
           "#636efa",
           "#EF553B",
           "#00cc96",
           "#ab63fa",
           "#FFA15A",
           "#19d3f3",
           "#FF6692",
           "#B6E880",
           "#FF97FF",
           "#FECB52"
          ],
          "font": {
           "color": "#2a3f5f"
          },
          "geo": {
           "bgcolor": "white",
           "lakecolor": "white",
           "landcolor": "#E5ECF6",
           "showlakes": true,
           "showland": true,
           "subunitcolor": "white"
          },
          "hoverlabel": {
           "align": "left"
          },
          "hovermode": "closest",
          "mapbox": {
           "style": "light"
          },
          "paper_bgcolor": "white",
          "plot_bgcolor": "#E5ECF6",
          "polar": {
           "angularaxis": {
            "gridcolor": "white",
            "linecolor": "white",
            "ticks": ""
           },
           "bgcolor": "#E5ECF6",
           "radialaxis": {
            "gridcolor": "white",
            "linecolor": "white",
            "ticks": ""
           }
          },
          "scene": {
           "xaxis": {
            "backgroundcolor": "#E5ECF6",
            "gridcolor": "white",
            "gridwidth": 2,
            "linecolor": "white",
            "showbackground": true,
            "ticks": "",
            "zerolinecolor": "white"
           },
           "yaxis": {
            "backgroundcolor": "#E5ECF6",
            "gridcolor": "white",
            "gridwidth": 2,
            "linecolor": "white",
            "showbackground": true,
            "ticks": "",
            "zerolinecolor": "white"
           },
           "zaxis": {
            "backgroundcolor": "#E5ECF6",
            "gridcolor": "white",
            "gridwidth": 2,
            "linecolor": "white",
            "showbackground": true,
            "ticks": "",
            "zerolinecolor": "white"
           }
          },
          "shapedefaults": {
           "line": {
            "color": "#2a3f5f"
           }
          },
          "ternary": {
           "aaxis": {
            "gridcolor": "white",
            "linecolor": "white",
            "ticks": ""
           },
           "baxis": {
            "gridcolor": "white",
            "linecolor": "white",
            "ticks": ""
           },
           "bgcolor": "#E5ECF6",
           "caxis": {
            "gridcolor": "white",
            "linecolor": "white",
            "ticks": ""
           }
          },
          "title": {
           "x": 0.05
          },
          "xaxis": {
           "automargin": true,
           "gridcolor": "white",
           "linecolor": "white",
           "ticks": "",
           "title": {
            "standoff": 15
           },
           "zerolinecolor": "white",
           "zerolinewidth": 2
          },
          "yaxis": {
           "automargin": true,
           "gridcolor": "white",
           "linecolor": "white",
           "ticks": "",
           "title": {
            "standoff": 15
           },
           "zerolinecolor": "white",
           "zerolinewidth": 2
          }
         }
        },
        "xaxis": {
         "anchor": "y",
         "domain": [
          0,
          1
         ],
         "title": {
          "text": "index"
         }
        },
        "yaxis": {
         "anchor": "x",
         "domain": [
          0,
          1
         ],
         "title": {
          "text": "value"
         }
        }
       }
      }
     },
     "metadata": {},
     "output_type": "display_data"
    }
   ],
   "source": [
    "import plotly.express as px\n",
    "px.bar(df)"
   ]
  },
  {
   "cell_type": "markdown",
   "id": "be939f24",
   "metadata": {},
   "source": [
    "6. Create a DataFrame and add a new column based on an existing column?"
   ]
  },
  {
   "cell_type": "code",
   "execution_count": 30,
   "id": "a3555241",
   "metadata": {},
   "outputs": [
    {
     "data": {
      "application/vnd.microsoft.datawrangler.viewer.v0+json": {
       "columns": [
        {
         "name": "index",
         "rawType": "int64",
         "type": "integer"
        },
        {
         "name": "A",
         "rawType": "int64",
         "type": "integer"
        },
        {
         "name": "B",
         "rawType": "int64",
         "type": "integer"
        },
        {
         "name": "C",
         "rawType": "int64",
         "type": "integer"
        }
       ],
       "ref": "381a7e4e-f840-460a-a5fc-ce249cfef65e",
       "rows": [
        [
         "0",
         "3",
         "8",
         "11"
        ],
        [
         "1",
         "4",
         "5",
         "9"
        ],
        [
         "2",
         "5",
         "4",
         "9"
        ],
        [
         "3",
         "6",
         "3",
         "9"
        ],
        [
         "4",
         "7",
         "2",
         "9"
        ]
       ],
       "shape": {
        "columns": 3,
        "rows": 5
       }
      },
      "text/html": [
       "<div>\n",
       "<style scoped>\n",
       "    .dataframe tbody tr th:only-of-type {\n",
       "        vertical-align: middle;\n",
       "    }\n",
       "\n",
       "    .dataframe tbody tr th {\n",
       "        vertical-align: top;\n",
       "    }\n",
       "\n",
       "    .dataframe thead th {\n",
       "        text-align: right;\n",
       "    }\n",
       "</style>\n",
       "<table border=\"1\" class=\"dataframe\">\n",
       "  <thead>\n",
       "    <tr style=\"text-align: right;\">\n",
       "      <th></th>\n",
       "      <th>A</th>\n",
       "      <th>B</th>\n",
       "      <th>C</th>\n",
       "    </tr>\n",
       "  </thead>\n",
       "  <tbody>\n",
       "    <tr>\n",
       "      <th>0</th>\n",
       "      <td>3</td>\n",
       "      <td>8</td>\n",
       "      <td>11</td>\n",
       "    </tr>\n",
       "    <tr>\n",
       "      <th>1</th>\n",
       "      <td>4</td>\n",
       "      <td>5</td>\n",
       "      <td>9</td>\n",
       "    </tr>\n",
       "    <tr>\n",
       "      <th>2</th>\n",
       "      <td>5</td>\n",
       "      <td>4</td>\n",
       "      <td>9</td>\n",
       "    </tr>\n",
       "    <tr>\n",
       "      <th>3</th>\n",
       "      <td>6</td>\n",
       "      <td>3</td>\n",
       "      <td>9</td>\n",
       "    </tr>\n",
       "    <tr>\n",
       "      <th>4</th>\n",
       "      <td>7</td>\n",
       "      <td>2</td>\n",
       "      <td>9</td>\n",
       "    </tr>\n",
       "  </tbody>\n",
       "</table>\n",
       "</div>"
      ],
      "text/plain": [
       "   A  B   C\n",
       "0  3  8  11\n",
       "1  4  5   9\n",
       "2  5  4   9\n",
       "3  6  3   9\n",
       "4  7  2   9"
      ]
     },
     "execution_count": 30,
     "metadata": {},
     "output_type": "execute_result"
    }
   ],
   "source": [
    "import pandas as pd\n",
    "data = {\n",
    "    'A' : [3,4,5,6,7],\n",
    "    'B' : [8,5,4,3,2]\n",
    "}\n",
    "df = pd.DataFrame(data)\n",
    "df['C'] = df['A']+df['B']\n",
    "df"
   ]
  },
  {
   "cell_type": "markdown",
   "id": "2aa52269",
   "metadata": {},
   "source": [
    "7. Write a program to perform element-wise multiplication of two NumPy arrays."
   ]
  },
  {
   "cell_type": "code",
   "execution_count": 47,
   "id": "2b629d1f",
   "metadata": {},
   "outputs": [
    {
     "name": "stdout",
     "output_type": "stream",
     "text": [
      "[[72 36]\n",
      " [20 35]]\n"
     ]
    }
   ],
   "source": [
    "import numpy as np\n",
    "a = np.array([[12,4],[5,7]])\n",
    "b = np.array([[6,9],[4,5]])\n",
    "c = a*b\n",
    "print(c)\n",
    "    \n"
   ]
  },
  {
   "cell_type": "markdown",
   "id": "8a94df07",
   "metadata": {},
   "source": [
    "8. Create a line plot with multiple lines using Matplotlib. "
   ]
  },
  {
   "cell_type": "code",
   "execution_count": 37,
   "id": "992eef0b",
   "metadata": {},
   "outputs": [
    {
     "data": {
      "image/png": "[encoded data removed]",
      "text/plain": [
       "<Figure size 640x480 with 1 Axes>"
      ]
     },
     "metadata": {},
     "output_type": "display_data"
    }
   ],
   "source": [
    "import matplotlib.pyplot as plt\n",
    "\n",
    "A = [23,45,25,27,32]\n",
    "B = [21,25,31,29,28]\n",
    "\n",
    "plt.plot(A,B)\n",
    "plt.show()"
   ]
  },
  {
   "cell_type": "markdown",
   "id": "0d31727b",
   "metadata": {},
   "source": [
    "9. Generate a Pandas DataFrame and filter rows where a column value is greater than a threshold."
   ]
  },
  {
   "cell_type": "code",
   "execution_count": 41,
   "id": "c03e8d70",
   "metadata": {},
   "outputs": [
    {
     "name": "stdout",
     "output_type": "stream",
     "text": [
      "Original DataFrame:\n",
      "      Name  Score\n",
      "0    Alice     85\n",
      "1      Bob     92\n",
      "2  Charlie     78\n",
      "3    David     95\n",
      "4      Eve     88\n",
      "\n",
      "Filtered DataFrame:\n",
      "    Name  Score\n",
      "1    Bob     92\n",
      "3  David     95\n"
     ]
    }
   ],
   "source": [
    "import pandas as pd\n",
    "\n",
    "data = {'Name': ['Alice', 'Bob', 'Charlie', 'David', 'Eve'],\n",
    "        'Score': [85, 92, 78, 95, 88]}\n",
    "df = pd.DataFrame(data)\n",
    "threshold = 90\n",
    "print(\"Original DataFrame:\")\n",
    "print(df)\n",
    "# Filter for scores greater than the threshold\n",
    "filtered_df = df[df['Score'] > threshold]\n",
    "\n",
    "print(\"\\nFiltered DataFrame:\")\n",
    "print(filtered_df)"
   ]
  },
  {
   "cell_type": "markdown",
   "id": "a10ed970",
   "metadata": {},
   "source": [
    "10. Create a histogram using Seaborn to visualize a distribution."
   ]
  },
  {
   "cell_type": "code",
   "execution_count": 44,
   "id": "2d8faa06",
   "metadata": {},
   "outputs": [
    {
     "data": {
      "image/png": "[encoded data removed]",
      "text/plain": [
       "<Figure size 640x480 with 1 Axes>"
      ]
     },
     "metadata": {},
     "output_type": "display_data"
    }
   ],
   "source": [
    "import seaborn as sns\n",
    "import matplotlib.pyplot as plt\n",
    "\n",
    "# Load a sample dataset\n",
    "tips = sns.load_dataset('tips')\n",
    "\n",
    "# Create the histogram\n",
    "sns.histplot(data=tips, x='total_bill', bins=20, kde=True)\n",
    "\n",
    "# Add a title and labels for clarity\n",
    "plt.title('Distribution of Total Bill Amounts')\n",
    "plt.xlabel('Total Bill ($)')\n",
    "plt.ylabel('Count')\n",
    "\n",
    "# Display the plot\n",
    "plt.show()"
   ]
  },
  {
   "cell_type": "markdown",
   "id": "36f5bef6",
   "metadata": {},
   "source": [
    "11. Perform matrix multiplication using NumPy."
   ]
  },
  {
   "cell_type": "code",
   "execution_count": 48,
   "id": "7df73ad5",
   "metadata": {},
   "outputs": [
    {
     "name": "stdout",
     "output_type": "stream",
     "text": [
      "[[ 88 128]\n",
      " [ 58  80]]\n"
     ]
    }
   ],
   "source": [
    "import numpy as np\n",
    "a = np.array([[12,4],[5,7]])\n",
    "b = np.array([[6,9],[4,5]])\n",
    "c = np.dot(a,b)\n",
    "print(c)"
   ]
  },
  {
   "cell_type": "markdown",
   "id": "f853f245",
   "metadata": {},
   "source": [
    "12. Use Pandas to load a CSV file and display its first 5 rows."
   ]
  },
  {
   "cell_type": "code",
   "execution_count": 1,
   "id": "d80018f7",
   "metadata": {},
   "outputs": [
    {
     "data": {
      "application/vnd.microsoft.datawrangler.viewer.v0+json": {
       "columns": [
        {
         "name": "index",
         "rawType": "int64",
         "type": "integer"
        },
        {
         "name": "PassengerId",
         "rawType": "int64",
         "type": "integer"
        },
        {
         "name": "Survived",
         "rawType": "int64",
         "type": "integer"
        },
        {
         "name": "Pclass",
         "rawType": "int64",
         "type": "integer"
        },
        {
         "name": "Name",
         "rawType": "object",
         "type": "string"
        },
        {
         "name": "Sex",
         "rawType": "object",
         "type": "string"
        },
        {
         "name": "Age",
         "rawType": "float64",
         "type": "float"
        },
        {
         "name": "SibSp",
         "rawType": "int64",
         "type": "integer"
        },
        {
         "name": "Parch",
         "rawType": "int64",
         "type": "integer"
        },
        {
         "name": "Ticket",
         "rawType": "object",
         "type": "string"
        },
        {
         "name": "Fare",
         "rawType": "float64",
         "type": "float"
        },
        {
         "name": "Cabin",
         "rawType": "object",
         "type": "unknown"
        },
        {
         "name": "Embarked",
         "rawType": "object",
         "type": "string"
        }
       ],
       "ref": "1741e7e0-0ea0-401a-9b55-8da1c848084a",
       "rows": [
        [
         "0",
         "1",
         "0",
         "3",
         "Braund, Mr. Owen Harris",
         "male",
         "22.0",
         "1",
         "0",
         "A/5 21171",
         "7.25",
         null,
         "S"
        ],
        [
         "1",
         "2",
         "1",
         "1",
         "Cumings, Mrs. John Bradley (Florence Briggs Thayer)",
         "female",
         "38.0",
         "1",
         "0",
         "PC 17599",
         "71.2833",
         "C85",
         "C"
        ],
        [
         "2",
         "3",
         "1",
         "3",
         "Heikkinen, Miss. Laina",
         "female",
         "26.0",
         "0",
         "0",
         "STON/O2. 3101282",
         "7.925",
         null,
         "S"
        ],
        [
         "3",
         "4",
         "1",
         "1",
         "Futrelle, Mrs. Jacques Heath (Lily May Peel)",
         "female",
         "35.0",
         "1",
         "0",
         "113803",
         "53.1",
         "C123",
         "S"
        ],
        [
         "4",
         "5",
         "0",
         "3",
         "Allen, Mr. William Henry",
         "male",
         "35.0",
         "0",
         "0",
         "373450",
         "8.05",
         null,
         "S"
        ]
       ],
       "shape": {
        "columns": 12,
        "rows": 5
       }
      },
      "text/html": [
       "<div>\n",
       "<style scoped>\n",
       "    .dataframe tbody tr th:only-of-type {\n",
       "        vertical-align: middle;\n",
       "    }\n",
       "\n",
       "    .dataframe tbody tr th {\n",
       "        vertical-align: top;\n",
       "    }\n",
       "\n",
       "    .dataframe thead th {\n",
       "        text-align: right;\n",
       "    }\n",
       "</style>\n",
       "<table border=\"1\" class=\"dataframe\">\n",
       "  <thead>\n",
       "    <tr style=\"text-align: right;\">\n",
       "      <th></th>\n",
       "      <th>PassengerId</th>\n",
       "      <th>Survived</th>\n",
       "      <th>Pclass</th>\n",
       "      <th>Name</th>\n",
       "      <th>Sex</th>\n",
       "      <th>Age</th>\n",
       "      <th>SibSp</th>\n",
       "      <th>Parch</th>\n",
       "      <th>Ticket</th>\n",
       "      <th>Fare</th>\n",
       "      <th>Cabin</th>\n",
       "      <th>Embarked</th>\n",
       "    </tr>\n",
       "  </thead>\n",
       "  <tbody>\n",
       "    <tr>\n",
       "      <th>0</th>\n",
       "      <td>1</td>\n",
       "      <td>0</td>\n",
       "      <td>3</td>\n",
       "      <td>Braund, Mr. Owen Harris</td>\n",
       "      <td>male</td>\n",
       "      <td>22.0</td>\n",
       "      <td>1</td>\n",
       "      <td>0</td>\n",
       "      <td>A/5 21171</td>\n",
       "      <td>7.2500</td>\n",
       "      <td>NaN</td>\n",
       "      <td>S</td>\n",
       "    </tr>\n",
       "    <tr>\n",
       "      <th>1</th>\n",
       "      <td>2</td>\n",
       "      <td>1</td>\n",
       "      <td>1</td>\n",
       "      <td>Cumings, Mrs. John Bradley (Florence Briggs Th...</td>\n",
       "      <td>female</td>\n",
       "      <td>38.0</td>\n",
       "      <td>1</td>\n",
       "      <td>0</td>\n",
       "      <td>PC 17599</td>\n",
       "      <td>71.2833</td>\n",
       "      <td>C85</td>\n",
       "      <td>C</td>\n",
       "    </tr>\n",
       "    <tr>\n",
       "      <th>2</th>\n",
       "      <td>3</td>\n",
       "      <td>1</td>\n",
       "      <td>3</td>\n",
       "      <td>Heikkinen, Miss. Laina</td>\n",
       "      <td>female</td>\n",
       "      <td>26.0</td>\n",
       "      <td>0</td>\n",
       "      <td>0</td>\n",
       "      <td>STON/O2. 3101282</td>\n",
       "      <td>7.9250</td>\n",
       "      <td>NaN</td>\n",
       "      <td>S</td>\n",
       "    </tr>\n",
       "    <tr>\n",
       "      <th>3</th>\n",
       "      <td>4</td>\n",
       "      <td>1</td>\n",
       "      <td>1</td>\n",
       "      <td>Futrelle, Mrs. Jacques Heath (Lily May Peel)</td>\n",
       "      <td>female</td>\n",
       "      <td>35.0</td>\n",
       "      <td>1</td>\n",
       "      <td>0</td>\n",
       "      <td>113803</td>\n",
       "      <td>53.1000</td>\n",
       "      <td>C123</td>\n",
       "      <td>S</td>\n",
       "    </tr>\n",
       "    <tr>\n",
       "      <th>4</th>\n",
       "      <td>5</td>\n",
       "      <td>0</td>\n",
       "      <td>3</td>\n",
       "      <td>Allen, Mr. William Henry</td>\n",
       "      <td>male</td>\n",
       "      <td>35.0</td>\n",
       "      <td>0</td>\n",
       "      <td>0</td>\n",
       "      <td>373450</td>\n",
       "      <td>8.0500</td>\n",
       "      <td>NaN</td>\n",
       "      <td>S</td>\n",
       "    </tr>\n",
       "  </tbody>\n",
       "</table>\n",
       "</div>"
      ],
      "text/plain": [
       "   PassengerId  Survived  Pclass  \\\n",
       "0            1         0       3   \n",
       "1            2         1       1   \n",
       "2            3         1       3   \n",
       "3            4         1       1   \n",
       "4            5         0       3   \n",
       "\n",
       "                                                Name     Sex   Age  SibSp  \\\n",
       "0                            Braund, Mr. Owen Harris    male  22.0      1   \n",
       "1  Cumings, Mrs. John Bradley (Florence Briggs Th...  female  38.0      1   \n",
       "2                             Heikkinen, Miss. Laina  female  26.0      0   \n",
       "3       Futrelle, Mrs. Jacques Heath (Lily May Peel)  female  35.0      1   \n",
       "4                           Allen, Mr. William Henry    male  35.0      0   \n",
       "\n",
       "   Parch            Ticket     Fare Cabin Embarked  \n",
       "0      0         A/5 21171   7.2500   NaN        S  \n",
       "1      0          PC 17599  71.2833   C85        C  \n",
       "2      0  STON/O2. 3101282   7.9250   NaN        S  \n",
       "3      0            113803  53.1000  C123        S  \n",
       "4      0            373450   8.0500   NaN        S  "
      ]
     },
     "execution_count": 1,
     "metadata": {},
     "output_type": "execute_result"
    }
   ],
   "source": [
    "import pandas as pd\n",
    "df = pd.read_csv('titanic.csv')\n",
    "df.head()"
   ]
  },
  {
   "cell_type": "markdown",
   "id": "5e02f3f3",
   "metadata": {},
   "source": [
    "13. Create a 3D scatter plot using Plotly."
   ]
  },
  {
   "cell_type": "code",
   "execution_count": 4,
   "id": "dffb9bde",
   "metadata": {},
   "outputs": [
    {
     "data": {
      "application/vnd.plotly.v1+json": {
       "config": {
        "plotlyServerURL": "https://plot.ly"
       },
       "data": [
        {
         "hovertemplate": "X-axis=%{x}<br>Y-axis=%{y}<br>Z-axis=%{z}<extra></extra>",
         "legendgroup": "",
         "marker": {
          "color": "#636efa",
          "symbol": "circle"
         },
         "mode": "markers",
         "name": "",
         "scene": "scene",
         "showlegend": false,
         "type": "scatter3d",
         "x": {
          "bdata": "bYATu5PU5D/AJTm56FnKP2PMeidsZuo/1zVlYNWR7z+Av1QbzOZ5PyCT4NLiU6o/2ZnSLy+y6z/YFFCzgdK1P8xDbFc7kcY/Ctn7FXFg1j9ozZVlGH/qP9rjwk5Qh+8/9C2PXdk3zT+kWhRx+k3VP4QxeT/Ma+4/ArHieLqB6D9fJqZh7SXvPxCNM+GqdqU/6JQJcwVi2T8Y3d445KC6PwS3vQ5oscM/oFRi9mkg2z9+WWol18zuP7SKYUPAUdE/eeFdpdGD6T+w6tf2eKfJP8Cvp746Mck/uI3tnwmE1j+aen+VmOTSP2iHDPIFAr4/UOUj2JsM4j+g2hSlyH2RP+xNXqjpgto/ZNP69FEqxj9AZMk/LKuiP0BwHaaCLMU/vMxewV0V0j8M2iJV7QznPzT6A4IzisY/1BPAagq57D808yeSaS3eP4uXSZy6b+o/iMEfHkKR4j/Ywt6/30XiPxKUTIaxpdU/EANEjLw74D9Duo5yqHjuP0AJs/4MJu8/fPxXucUwyD/L/YjK8vDjPw==",
          "dtype": "f8"
         },
         "y": {
          "bdata": "+Pmy7WSR4j86+vHqkLLqP9BGoHFu2t0/IA27NV+nlT/kXOjpfifVPyrXGeLccO8/kFXUJtwD2D8UfBVYqAfRPwCj6kB2k+M/YRyaHTy46T+AzwNlhQPIPw2PPTIanuI/4nu59zPt6D+rsnZ4KTnlP8ub8j6MKus/wP5Y9m8XkD8AMudaWwa/P+K6AtBlK+0/nPr4Fhxdxz+9Vd2y7nTtP1az5P6zCtE/mFYPf4uywT+AwJGiybvqP4jpBsO74u4/mPdRNg3ssz8WEDyP3WjTPw0gwMgA6eo/wFQZ+JPC5D8JouasxyjtPy7/G6fOttY/z5qJudX74z/JI6rUGhzoP5NuPOEF6uQ/8huc3KR42z+eOkesvfrZP9ksdIbHQeg/mKfZx8kvxD91FUUkW3jnP8xETHdLCtQ/QOWHm2hz6D9Ad9Rri0LNP/iCJPpEJOQ/bLcxIOJyzD8ouNT/97TkPy4Zpu0grug/+LxVnLLwwz9Dhs+HRUDhP2jDNlCEgus/JKaaVvcD7j9mpKOZ0QLuPw==",
          "dtype": "f8"
         },
         "z": {
          "bdata": "0NS1VQjV7j+02ylX5GDMP4AzF7Eqcaw/1bnHs+lJ7j9YRnCRRPmzP9IUb1PbutE/PLrJh16n2z8H5Mo+H8rqPyspT40ElO8/QJdBBFozsj8k5WtvjyPtP9G1TV6TL+U/aphxQouM1z849xgRPGy5PyDYuwe9g7Y/dI+LA9L80D+Cl/v577DTPxTgwxwg4uk/AH6ozp8FvT/p4KR5KGXnPx77F0MXAd0/OFcfk7cFwD/eMzXZhHzlP+aG3NAhZNg/Z6W46Iqy6j9a4DyM5WXXPyagbqeWeuA/pumQDf6H7D+Mc47MK0TtP4odyn9tkO0/UMDGEhSsrD/d/gv1WYfkP9pzu8UKHNU/LYkrUb3C5j94y0I+AfrCP5C4lKKSoNw/P3cEWO6w4D8y9hdkoZnsP5Dp8ADJYNk/280pso/t5T8lxdMrL0DkP0BhLO1Puds/aOHrWdjY5j8cyqy2iRzBP3zPyyjFouc/7LP+fGs2yD98WEGRxfvgP1g++mbqDLU/r1LJxErz5T/A/AbyveC+Pw==",
          "dtype": "f8"
         }
        }
       ],
       "layout": {
        "legend": {
         "tracegroupgap": 0
        },
        "scene": {
         "domain": {
          "x": [
           0,
           1
          ],
          "y": [
           0,
           1
          ]
         },
         "xaxis": {
          "title": {
           "text": "X-axis"
          }
         },
         "yaxis": {
          "title": {
           "text": "Y-axis"
          }
         },
         "zaxis": {
          "title": {
           "text": "Z-axis"
          }
         }
        },
        "template": {
         "data": {
          "bar": [
           {
            "error_x": {
             "color": "#2a3f5f"
            },
            "error_y": {
             "color": "#2a3f5f"
            },
            "marker": {
             "line": {
              "color": "#E5ECF6",
              "width": 0.5
             },
             "pattern": {
              "fillmode": "overlay",
              "size": 10,
              "solidity": 0.2
             }
            },
            "type": "bar"
           }
          ],
          "barpolar": [
           {
            "marker": {
             "line": {
              "color": "#E5ECF6",
              "width": 0.5
             },
             "pattern": {
              "fillmode": "overlay",
              "size": 10,
              "solidity": 0.2
             }
            },
            "type": "barpolar"
           }
          ],
          "carpet": [
           {
            "aaxis": {
             "endlinecolor": "#2a3f5f",
             "gridcolor": "white",
             "linecolor": "white",
             "minorgridcolor": "white",
             "startlinecolor": "#2a3f5f"
            },
            "baxis": {
             "endlinecolor": "#2a3f5f",
             "gridcolor": "white",
             "linecolor": "white",
             "minorgridcolor": "white",
             "startlinecolor": "#2a3f5f"
            },
            "type": "carpet"
           }
          ],
          "choropleth": [
           {
            "colorbar": {
             "outlinewidth": 0,
             "ticks": ""
            },
            "type": "choropleth"
           }
          ],
          "contour": [
           {
            "colorbar": {
             "outlinewidth": 0,
             "ticks": ""
            },
            "colorscale": [
             [
              0,
              "#0d0887"
             ],
             [
              0.1111111111111111,
              "#46039f"
             ],
             [
              0.2222222222222222,
              "#7201a8"
             ],
             [
              0.3333333333333333,
              "#9c179e"
             ],
             [
              0.4444444444444444,
              "#bd3786"
             ],
             [
              0.5555555555555556,
              "#d8576b"
             ],
             [
              0.6666666666666666,
              "#ed7953"
             ],
             [
              0.7777777777777778,
              "#fb9f3a"
             ],
             [
              0.8888888888888888,
              "#fdca26"
             ],
             [
              1,
              "#f0f921"
             ]
            ],
            "type": "contour"
           }
          ],
          "contourcarpet": [
           {
            "colorbar": {
             "outlinewidth": 0,
             "ticks": ""
            },
            "type": "contourcarpet"
           }
          ],
          "heatmap": [
           {
            "colorbar": {
             "outlinewidth": 0,
             "ticks": ""
            },
            "colorscale": [
             [
              0,
              "#0d0887"
             ],
             [
              0.1111111111111111,
              "#46039f"
             ],
             [
              0.2222222222222222,
              "#7201a8"
             ],
             [
              0.3333333333333333,
              "#9c179e"
             ],
             [
              0.4444444444444444,
              "#bd3786"
             ],
             [
              0.5555555555555556,
              "#d8576b"
             ],
             [
              0.6666666666666666,
              "#ed7953"
             ],
             [
              0.7777777777777778,
              "#fb9f3a"
             ],
             [
              0.8888888888888888,
              "#fdca26"
             ],
             [
              1,
              "#f0f921"
             ]
            ],
            "type": "heatmap"
           }
          ],
          "histogram": [
           {
            "marker": {
             "pattern": {
              "fillmode": "overlay",
              "size": 10,
              "solidity": 0.2
             }
            },
            "type": "histogram"
           }
          ],
          "histogram2d": [
           {
            "colorbar": {
             "outlinewidth": 0,
             "ticks": ""
            },
            "colorscale": [
             [
              0,
              "#0d0887"
             ],
             [
              0.1111111111111111,
              "#46039f"
             ],
             [
              0.2222222222222222,
              "#7201a8"
             ],
             [
              0.3333333333333333,
              "#9c179e"
             ],
             [
              0.4444444444444444,
              "#bd3786"
             ],
             [
              0.5555555555555556,
              "#d8576b"
             ],
             [
              0.6666666666666666,
              "#ed7953"
             ],
             [
              0.7777777777777778,
              "#fb9f3a"
             ],
             [
              0.8888888888888888,
              "#fdca26"
             ],
             [
              1,
              "#f0f921"
             ]
            ],
            "type": "histogram2d"
           }
          ],
          "histogram2dcontour": [
           {
            "colorbar": {
             "outlinewidth": 0,
             "ticks": ""
            },
            "colorscale": [
             [
              0,
              "#0d0887"
             ],
             [
              0.1111111111111111,
              "#46039f"
             ],
             [
              0.2222222222222222,
              "#7201a8"
             ],
             [
              0.3333333333333333,
              "#9c179e"
             ],
             [
              0.4444444444444444,
              "#bd3786"
             ],
             [
              0.5555555555555556,
              "#d8576b"
             ],
             [
              0.6666666666666666,
              "#ed7953"
             ],
             [
              0.7777777777777778,
              "#fb9f3a"
             ],
             [
              0.8888888888888888,
              "#fdca26"
             ],
             [
              1,
              "#f0f921"
             ]
            ],
            "type": "histogram2dcontour"
           }
          ],
          "mesh3d": [
           {
            "colorbar": {
             "outlinewidth": 0,
             "ticks": ""
            },
            "type": "mesh3d"
           }
          ],
          "parcoords": [
           {
            "line": {
             "colorbar": {
              "outlinewidth": 0,
              "ticks": ""
             }
            },
            "type": "parcoords"
           }
          ],
          "pie": [
           {
            "automargin": true,
            "type": "pie"
           }
          ],
          "scatter": [
           {
            "fillpattern": {
             "fillmode": "overlay",
             "size": 10,
             "solidity": 0.2
            },
            "type": "scatter"
           }
          ],
          "scatter3d": [
           {
            "line": {
             "colorbar": {
              "outlinewidth": 0,
              "ticks": ""
             }
            },
            "marker": {
             "colorbar": {
              "outlinewidth": 0,
              "ticks": ""
             }
            },
            "type": "scatter3d"
           }
          ],
          "scattercarpet": [
           {
            "marker": {
             "colorbar": {
              "outlinewidth": 0,
              "ticks": ""
             }
            },
            "type": "scattercarpet"
           }
          ],
          "scattergeo": [
           {
            "marker": {
             "colorbar": {
              "outlinewidth": 0,
              "ticks": ""
             }
            },
            "type": "scattergeo"
           }
          ],
          "scattergl": [
           {
            "marker": {
             "colorbar": {
              "outlinewidth": 0,
              "ticks": ""
             }
            },
            "type": "scattergl"
           }
          ],
          "scattermap": [
           {
            "marker": {
             "colorbar": {
              "outlinewidth": 0,
              "ticks": ""
             }
            },
            "type": "scattermap"
           }
          ],
          "scattermapbox": [
           {
            "marker": {
             "colorbar": {
              "outlinewidth": 0,
              "ticks": ""
             }
            },
            "type": "scattermapbox"
           }
          ],
          "scatterpolar": [
           {
            "marker": {
             "colorbar": {
              "outlinewidth": 0,
              "ticks": ""
             }
            },
            "type": "scatterpolar"
           }
          ],
          "scatterpolargl": [
           {
            "marker": {
             "colorbar": {
              "outlinewidth": 0,
              "ticks": ""
             }
            },
            "type": "scatterpolargl"
           }
          ],
          "scatterternary": [
           {
            "marker": {
             "colorbar": {
              "outlinewidth": 0,
              "ticks": ""
             }
            },
            "type": "scatterternary"
           }
          ],
          "surface": [
           {
            "colorbar": {
             "outlinewidth": 0,
             "ticks": ""
            },
            "colorscale": [
             [
              0,
              "#0d0887"
             ],
             [
              0.1111111111111111,
              "#46039f"
             ],
             [
              0.2222222222222222,
              "#7201a8"
             ],
             [
              0.3333333333333333,
              "#9c179e"
             ],
             [
              0.4444444444444444,
              "#bd3786"
             ],
             [
              0.5555555555555556,
              "#d8576b"
             ],
             [
              0.6666666666666666,
              "#ed7953"
             ],
             [
              0.7777777777777778,
              "#fb9f3a"
             ],
             [
              0.8888888888888888,
              "#fdca26"
             ],
             [
              1,
              "#f0f921"
             ]
            ],
            "type": "surface"
           }
          ],
          "table": [
           {
            "cells": {
             "fill": {
              "color": "#EBF0F8"
             },
             "line": {
              "color": "white"
             }
            },
            "header": {
             "fill": {
              "color": "#C8D4E3"
             },
             "line": {
              "color": "white"
             }
            },
            "type": "table"
           }
          ]
         },
         "layout": {
          "annotationdefaults": {
           "arrowcolor": "#2a3f5f",
           "arrowhead": 0,
           "arrowwidth": 1
          },
          "autotypenumbers": "strict",
          "coloraxis": {
           "colorbar": {
            "outlinewidth": 0,
            "ticks": ""
           }
          },
          "colorscale": {
           "diverging": [
            [
             0,
             "#8e0152"
            ],
            [
             0.1,
             "#c51b7d"
            ],
            [
             0.2,
             "#de77ae"
            ],
            [
             0.3,
             "#f1b6da"
            ],
            [
             0.4,
             "#fde0ef"
            ],
            [
             0.5,
             "#f7f7f7"
            ],
            [
             0.6,
             "#e6f5d0"
            ],
            [
             0.7,
             "#b8e186"
            ],
            [
             0.8,
             "#7fbc41"
            ],
            [
             0.9,
             "#4d9221"
            ],
            [
             1,
             "#276419"
            ]
           ],
           "sequential": [
            [
             0,
             "#0d0887"
            ],
            [
             0.1111111111111111,
             "#46039f"
            ],
            [
             0.2222222222222222,
             "#7201a8"
            ],
            [
             0.3333333333333333,
             "#9c179e"
            ],
            [
             0.4444444444444444,
             "#bd3786"
            ],
            [
             0.5555555555555556,
             "#d8576b"
            ],
            [
             0.6666666666666666,
             "#ed7953"
            ],
            [
             0.7777777777777778,
             "#fb9f3a"
            ],
            [
             0.8888888888888888,
             "#fdca26"
            ],
            [
             1,
             "#f0f921"
            ]
           ],
           "sequentialminus": [
            [
             0,
             "#0d0887"
            ],
            [
             0.1111111111111111,
             "#46039f"
            ],
            [
             0.2222222222222222,
             "#7201a8"
            ],
            [
             0.3333333333333333,
             "#9c179e"
            ],
            [
             0.4444444444444444,
             "#bd3786"
            ],
            [
             0.5555555555555556,
             "#d8576b"
            ],
            [
             0.6666666666666666,
             "#ed7953"
            ],
            [
             0.7777777777777778,
             "#fb9f3a"
            ],
            [
             0.8888888888888888,
             "#fdca26"
            ],
            [
             1,
             "#f0f921"
            ]
           ]
          },
          "colorway": [
           "#636efa",
           "#EF553B",
           "#00cc96",
           "#ab63fa",
           "#FFA15A",
           "#19d3f3",
           "#FF6692",
           "#B6E880",
           "#FF97FF",
           "#FECB52"
          ],
          "font": {
           "color": "#2a3f5f"
          },
          "geo": {
           "bgcolor": "white",
           "lakecolor": "white",
           "landcolor": "#E5ECF6",
           "showlakes": true,
           "showland": true,
           "subunitcolor": "white"
          },
          "hoverlabel": {
           "align": "left"
          },
          "hovermode": "closest",
          "mapbox": {
           "style": "light"
          },
          "paper_bgcolor": "white",
          "plot_bgcolor": "#E5ECF6",
          "polar": {
           "angularaxis": {
            "gridcolor": "white",
            "linecolor": "white",
            "ticks": ""
           },
           "bgcolor": "#E5ECF6",
           "radialaxis": {
            "gridcolor": "white",
            "linecolor": "white",
            "ticks": ""
           }
          },
          "scene": {
           "xaxis": {
            "backgroundcolor": "#E5ECF6",
            "gridcolor": "white",
            "gridwidth": 2,
            "linecolor": "white",
            "showbackground": true,
            "ticks": "",
            "zerolinecolor": "white"
           },
           "yaxis": {
            "backgroundcolor": "#E5ECF6",
            "gridcolor": "white",
            "gridwidth": 2,
            "linecolor": "white",
            "showbackground": true,
            "ticks": "",
            "zerolinecolor": "white"
           },
           "zaxis": {
            "backgroundcolor": "#E5ECF6",
            "gridcolor": "white",
            "gridwidth": 2,
            "linecolor": "white",
            "showbackground": true,
            "ticks": "",
            "zerolinecolor": "white"
           }
          },
          "shapedefaults": {
           "line": {
            "color": "#2a3f5f"
           }
          },
          "ternary": {
           "aaxis": {
            "gridcolor": "white",
            "linecolor": "white",
            "ticks": ""
           },
           "baxis": {
            "gridcolor": "white",
            "linecolor": "white",
            "ticks": ""
           },
           "bgcolor": "#E5ECF6",
           "caxis": {
            "gridcolor": "white",
            "linecolor": "white",
            "ticks": ""
           }
          },
          "title": {
           "x": 0.05
          },
          "xaxis": {
           "automargin": true,
           "gridcolor": "white",
           "linecolor": "white",
           "ticks": "",
           "title": {
            "standoff": 15
           },
           "zerolinecolor": "white",
           "zerolinewidth": 2
          },
          "yaxis": {
           "automargin": true,
           "gridcolor": "white",
           "linecolor": "white",
           "ticks": "",
           "title": {
            "standoff": 15
           },
           "zerolinecolor": "white",
           "zerolinewidth": 2
          }
         }
        },
        "title": {
         "text": "3D Scatter Plot of Random Data"
        }
       }
      }
     },
     "metadata": {},
     "output_type": "display_data"
    }
   ],
   "source": [
    "import plotly.express as px\n",
    "import pandas as pd\n",
    "import numpy as np\n",
    "\n",
    "\n",
    "data = {\n",
    "    'x_data': np.random.rand(50),\n",
    "    'y_data': np.random.rand(50),\n",
    "    'z_data': np.random.rand(50)\n",
    "}\n",
    "df = pd.DataFrame(data)\n",
    "\n",
    "\n",
    "fig = px.scatter_3d(df, x='x_data', y='y_data', z='z_data',\n",
    "                    title='3D Scatter Plot of Random Data',\n",
    "                    labels={'x_data': 'X-axis', 'y_data': 'Y-axis', 'z_data': 'Z-axis'})\n",
    "\n",
    "\n",
    "fig.show()\n",
    "\n",
    "\n"
   ]
  }
 ],
 "metadata": {
  "kernelspec": {
   "display_name": "Python 3",
   "language": "python",
   "name": "python3"
  },
  "language_info": {
   "codemirror_mode": {
    "name": "ipython",
    "version": 3
   },
   "file_extension": ".py",
   "mimetype": "text/x-python",
   "name": "python",
   "nbconvert_exporter": "python",
   "pygments_lexer": "ipython3",
   "version": "3.13.7"
  }
 },
 "nbformat": 4,
 "nbformat_minor": 5
}
