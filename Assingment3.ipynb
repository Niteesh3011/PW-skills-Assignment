{
 "cells": [
  {
   "cell_type": "markdown",
   "id": "09750ed1",
   "metadata": {},
   "source": [
    "# Theory Questions:"
   ]
  },
  {
   "cell_type": "markdown",
   "id": "a8cec247",
   "metadata": {},
   "source": [
    "### 1. What is the difference between a function and a method in Python?"
   ]
  },
  {
   "cell_type": "markdown",
   "id": "9e34d41d",
   "metadata": {},
   "source": [
    "Answer -> \n",
    "A function is a general-purpose, self-contained block of code that performs a specific task. You define a function using the def keyword, and you can call it simply by its name. Functions can take arguments and return values."
   ]
  },
  {
   "cell_type": "code",
   "execution_count": null,
   "id": "7751b1e9",
   "metadata": {},
   "outputs": [
    {
     "name": "stdout",
     "output_type": "stream",
     "text": [
      "11\n"
     ]
    }
   ],
   "source": [
    "## Example of Function\n",
    "def add(a,b):\n",
    "    return a+b\n",
    "\n",
    "print(add(5,6))"
   ]
  },
  {
   "cell_type": "markdown",
   "id": "6a9ba600",
   "metadata": {},
   "source": [
    "A method is a function that is defined inside a class. It is called on an instance of that class (an object) and can access the object's data (attributes). The first argument of a method is almost always self, which refers to the instance the method is being called on."
   ]
  },
  {
   "cell_type": "code",
   "execution_count": 3,
   "id": "87e49e5b",
   "metadata": {},
   "outputs": [
    {
     "name": "stdout",
     "output_type": "stream",
     "text": [
      "Buddy barks!\n"
     ]
    }
   ],
   "source": [
    "# Example of Method\n",
    "class Dog:\n",
    "    def __init__(self, name):\n",
    "        self.name = name\n",
    "\n",
    "    # This is a method\n",
    "    def bark(self):\n",
    "        print(f\"{self.name} barks!\")\n",
    "\n",
    "# Create an object (an instance of the Dog class)\n",
    "my_dog = Dog(\"Buddy\")\n",
    "\n",
    "# Call the method on the object\n",
    "my_dog.bark()  # Output: Buddy barks!"
   ]
  },
  {
   "cell_type": "markdown",
   "id": "e1d7934a",
   "metadata": {},
   "source": [
    "### 2. Explain the concept of function arguments and parameters in Python."
   ]
  },
  {
   "cell_type": "markdown",
   "id": "f6aa6f71",
   "metadata": {},
   "source": [
    "Answer -> \n",
    "Parameters : \n",
    "Parameters act as placeholders for the data a function needs to operate. They are specified within the parentheses of the function definition. Think of them as variables that are created when the function is called, ready to receive a value."
   ]
  },
  {
   "cell_type": "code",
   "execution_count": 4,
   "id": "df69065e",
   "metadata": {},
   "outputs": [],
   "source": [
    "# 'name' and 'age' are parameters\n",
    "def greet_person(name, age):\n",
    "    print(f\"Hello, {name}! You are {age} years old.\")"
   ]
  },
  {
   "cell_type": "markdown",
   "id": "e0bd0d33",
   "metadata": {},
   "source": [
    "Arguments : \n",
    "Arguments are the specific pieces of information or values that are supplied to a function when it is called. The values of the arguments are assigned to the corresponding parameters."
   ]
  },
  {
   "cell_type": "code",
   "execution_count": 6,
   "id": "89094344",
   "metadata": {},
   "outputs": [
    {
     "name": "stdout",
     "output_type": "stream",
     "text": [
      "Hello, Nick! You are 22 years old.\n"
     ]
    }
   ],
   "source": [
    "greet_person('Nick',22)\n",
    "#'Nick' and 22 is arguments"
   ]
  },
  {
   "cell_type": "markdown",
   "id": "c848456c",
   "metadata": {},
   "source": [
    "### 3. What are the different ways to define and call a function in Python?"
   ]
  },
  {
   "cell_type": "markdown",
   "id": "65b74984",
   "metadata": {},
   "source": [
    "Answer ->\n",
    "In Python, a function is a block of code that only runs when it's called. You can define a function using the def keyword, and there are several ways to call it, depending on how it's defined.\n",
    "\n",
    "Defining a Function : \n",
    "The most common way to define a function is using the def statement, followed by the function name, parentheses (), and a colon :."
   ]
  },
  {
   "cell_type": "code",
   "execution_count": 7,
   "id": "b1b2b170",
   "metadata": {},
   "outputs": [],
   "source": [
    "# A simple function definition\n",
    "def say_hello():\n",
    "    print(\"Hello, world!\")"
   ]
  },
  {
   "cell_type": "markdown",
   "id": "5d004f9d",
   "metadata": {},
   "source": [
    "For more advanced use cases, you can also define anonymous functions using the lambda keyword. These are small, single-expression functions that you don't need to give a name to.\n",
    "\n",
    "\n",
    "A lambda function that adds two numbers\n",
    "add = lambda a, b: a + b"
   ]
  },
  {
   "cell_type": "markdown",
   "id": "6ff67d72",
   "metadata": {},
   "source": [
    "Calling a Function\n",
    "To execute a function, you call it by its name followed by parentheses (). The way you pass arguments in the parentheses determines the type of call.\n",
    "\n",
    "1) Positional Arguments: This is the simplest way. You pass arguments in the same order that the parameters are defined in the function.\n",
    "\n",
    "\n",
    "\n",
    "def greet(name, message):\n",
    "\n",
    "    print(f\"Hi {name}, {message}\")\n",
    "\n",
    "greet(\"Alice\", \"how are you?\")\n",
    "\n",
    "Output: Hi Alice, how are you?\n",
    "\n",
    "2) Keyword Arguments: You can call a function using the parameter names as keywords. This lets you pass arguments in any order, which can make the call more readable.\n",
    "\n",
    "\n",
    "\n",
    "def introduce(name, age):\n",
    "\n",
    "    print(f\"My name is {name} and I am {age} years old.\")\n",
    "\n",
    "introduce(age=30, name=\"Bob\")\n",
    "\n",
    "Output: My name is Bob and I am 30 years old.\n",
    "\n",
    "3) Arbitrary Arguments (*args and **kwargs): When you don't know how many arguments a function will receive, you can use these special syntaxes.\n",
    "\n",
    "*args collects any number of positional arguments into a tuple.\n",
    "\n",
    "\n",
    "**kwargs collects any number of keyword arguments into a dictionary.\n",
    "\n",
    "\n",
    "\n",
    "def display_details(*args, **kwargs):\n",
    "\n",
    "    print(\"Positional arguments:\", args)\n",
    "\n",
    "    print(\"Keyword arguments:\", kwargs)\n",
    "\n",
    "\n",
    "display_details(\"item1\", \"item2\", color=\"blue\", size=\"large\")\n"
   ]
  },
  {
   "cell_type": "markdown",
   "id": "32d94ce8",
   "metadata": {},
   "source": [
    "### 4. What is the purpose of the `return` statement in a Python function?"
   ]
  },
  {
   "cell_type": "markdown",
   "id": "3c499cfa",
   "metadata": {},
   "source": [
    "Answer -> \n",
    "\n",
    "Exiting the Function :\n",
    "\n",
    "When Python encounters a return statement, it immediately stops executing the function and exits. Any code that follows the return statement within that function will not be run. This is useful for stopping a function's execution early, for example, if an error condition is met.\n",
    "\n",
    "Returning a Value :\n",
    "\n",
    "The return statement can also carry a value, or multiple values, back to the caller. This allows functions to compute results and make them available for use in other parts of the program. If a function reaches the end without a return statement, or if it has a return statement with no specified value, it implicitly returns None."
   ]
  },
  {
   "cell_type": "code",
   "execution_count": 8,
   "id": "ae995b7c",
   "metadata": {},
   "outputs": [
    {
     "name": "stdout",
     "output_type": "stream",
     "text": [
      "Alice\n",
      "30\n"
     ]
    }
   ],
   "source": [
    "def get_user_info():\n",
    "    name = \"Alice\"\n",
    "    age = 30\n",
    "    return name, age # Returns a tuple ('Alice', 30)\n",
    "\n",
    "user_name, user_age = get_user_info()\n",
    "print(user_name)\n",
    "# Output: Alice\n",
    "print(user_age)\n",
    "# Output: 30"
   ]
  },
  {
   "cell_type": "markdown",
   "id": "377c6efa",
   "metadata": {},
   "source": [
    "### 5.  What are iterators in Python and how do they differ from iterables?"
   ]
  },
  {
   "cell_type": "markdown",
   "id": "5975dcbe",
   "metadata": {},
   "source": [
    "Answer -> \n",
    "\n",
    "- 1) Iterables :\n",
    "\n",
    "An iterable is an object capable of returning its members one at a time. This includes all sequence types like lists, strings, and tuples, as well as some non-sequence types like dictionaries and sets. You can check if an object is iterable by using the isinstance() function with the Iterable type from the collections module.\n",
    "\n",
    "\n",
    "Characteristics:\n",
    "\n",
    "Can be passed to the built-in iter() function to get an iterator.\n",
    "\n",
    "You can loop over them directly in a for loop.\n",
    "\n",
    "They implement the _ _iter_ _() method.\n",
    "\n",
    "\n",
    "- 2) Iterators : \n",
    "\n",
    "An iterator is an object that represents a stream of data. It's an object with state, meaning it remembers where it is during iteration. An iterator must implement two methods: _ _iter_ _() and  _ _next_ _().\n",
    "\n",
    "\n",
    "\n",
    "Characteristics:\n",
    "\n",
    "It implements the _ _iter_ _() method, which returns the iterator object itself.\n",
    "\n",
    "It implements the _ _next_ _() method, which returns the next item from the stream. When there are no more items, it raises a `StopIteration` exception.\n",
    "\n",
    "Iterators are \"exhausted\" once all items have been accessed; you can't reuse them.\n"
   ]
  },
  {
   "cell_type": "code",
   "execution_count": 9,
   "id": "e14d45d5",
   "metadata": {},
   "outputs": [
    {
     "name": "stdout",
     "output_type": "stream",
     "text": [
      "1\n",
      "2\n",
      "3\n"
     ]
    }
   ],
   "source": [
    "my_list = [1, 2, 3] # This is an iterable\n",
    "for item in my_list:\n",
    "    print(item) "
   ]
  },
  {
   "cell_type": "code",
   "execution_count": 11,
   "id": "a28de555",
   "metadata": {},
   "outputs": [
    {
     "name": "stdout",
     "output_type": "stream",
     "text": [
      "1\n",
      "2\n",
      "3\n"
     ]
    },
    {
     "ename": "StopIteration",
     "evalue": "",
     "output_type": "error",
     "traceback": [
      "\u001b[31m---------------------------------------------------------------------------\u001b[39m",
      "\u001b[31mStopIteration\u001b[39m                             Traceback (most recent call last)",
      "\u001b[36mCell\u001b[39m\u001b[36m \u001b[39m\u001b[32mIn[11]\u001b[39m\u001b[32m, line 7\u001b[39m\n\u001b[32m      5\u001b[39m \u001b[38;5;28mprint\u001b[39m(\u001b[38;5;28mnext\u001b[39m(my_iterator)) \u001b[38;5;66;03m# Output: 2\u001b[39;00m\n\u001b[32m      6\u001b[39m \u001b[38;5;28mprint\u001b[39m(\u001b[38;5;28mnext\u001b[39m(my_iterator)) \u001b[38;5;66;03m# Output: 3\u001b[39;00m\n\u001b[32m----> \u001b[39m\u001b[32m7\u001b[39m \u001b[38;5;28mprint\u001b[39m(\u001b[38;5;28;43mnext\u001b[39;49m\u001b[43m(\u001b[49m\u001b[43mmy_iterator\u001b[49m\u001b[43m)\u001b[49m) \u001b[38;5;66;03m# This will raise a StopIteration exception\u001b[39;00m\n",
      "\u001b[31mStopIteration\u001b[39m: "
     ]
    }
   ],
   "source": [
    "my_list = [1, 2, 3] \n",
    "my_iterator = iter(my_list) # Get an iterator from the iterable\n",
    "\n",
    "print(next(my_iterator)) # Output: 1\n",
    "print(next(my_iterator)) # Output: 2\n",
    "print(next(my_iterator)) # Output: 3\n",
    "print(next(my_iterator)) # This will raise a StopIteration exception"
   ]
  },
  {
   "cell_type": "markdown",
   "id": "2aefd6d3",
   "metadata": {},
   "source": [
    "### 6.  Explain the concept of generators in Python and how they are defined."
   ]
  },
  {
   "cell_type": "markdown",
   "id": "32f2e728",
   "metadata": {},
   "source": [
    "Answer -> \n",
    " A generator in Python is a special type of function that returns an iterator. Unlike a regular function that returns a single value and then terminates, a generator \"yields\" a sequence of values over time, pausing its execution and saving its state after each yield. This makes them highly memory-efficient for working with large datasets, as they produce items one by one instead of storing the entire sequence in memory.\n",
    "\n",
    "\n",
    " You define a generator function just like a regular function, but instead of using the return keyword, you use the yield keyword."
   ]
  },
  {
   "cell_type": "code",
   "execution_count": 12,
   "id": "015ebd20",
   "metadata": {},
   "outputs": [
    {
     "name": "stdout",
     "output_type": "stream",
     "text": [
      "1\n",
      "2\n",
      "1\n",
      "2\n",
      "3\n"
     ]
    }
   ],
   "source": [
    "def my_generator():\n",
    "    yield 1\n",
    "    yield 2\n",
    "    yield 3\n",
    "# Calling the generator creates a generator object\n",
    "gen = my_generator() \n",
    "\n",
    "# You can manually get the next value\n",
    "print(next(gen))  # Output: 1\n",
    "print(next(gen))  # Output: 2\n",
    "\n",
    "# Or, more commonly, use a for loop\n",
    "for value in my_generator():\n",
    "    print(value)\n",
    "# Output:\n",
    "# 1\n",
    "# 2\n",
    "# 3    "
   ]
  },
  {
   "cell_type": "markdown",
   "id": "2bfb2c3f",
   "metadata": {},
   "source": [
    "### 7.  What are the advantages of using generators over regular functions?\n"
   ]
  },
  {
   "cell_type": "markdown",
   "id": "4c590ac8",
   "metadata": {},
   "source": [
    "Answer ->\n",
    "- Memory Efficiency :\n",
    "\n",
    "\n",
    "The biggest advantage of generators is their memory efficiency. A regular function that returns a list or other collection must build the entire collection in memory before it can return it. For very large datasets, this can consume a significant amount of RAM and even lead to memory errors.\n",
    "\n",
    "\n",
    "A generator, on the other hand, yields items one by one. It pauses execution and saves its state after each yield, resuming from that exact point when the next item is requested. This means the generator only holds a single item in memory at any given time, making it ideal for processing massive data streams or files.\n",
    "\n",
    "\n",
    "For example, processing a multi-gigabyte log file: a regular function would try to load the entire file into memory as a list of lines, which is often not feasible. A generator would read and yield one line at a time, keeping memory usage minimal.\n",
    "\n",
    "- Performance :\n",
    "\n",
    "While the total time to generate all items might be similar, a generator provides a performance advantage by allowing you to start processing data immediately. You don't have to wait for the entire sequence to be generated. This is known as \"lazy evaluation\" or \"lazy loading.\"\n",
    "\n",
    "\n",
    "With a regular function, you must wait for the function to complete its execution and return the full collection before you can begin working with its contents. With a generator, you can begin to use the first generated item as soon as it's available.\n",
    "\n",
    "\n",
    "- Simplicity and Readability :\n",
    "\n",
    "Generators, with their use of the yield keyword, often lead to cleaner and more readable code, especially when dealing with complex iteration logic. They allow you to write concise, sequential code that looks like a regular function, but behaves like an iterator.  This makes the code easier to follow and understand compared to writing a custom class with __iter__ and __next__ methods to achieve the same result.\n",
    "\n",
    "For example, a regular function that returns an iterable might require multiple append calls to a list, whereas a generator simply uses a for loop with yield statements, making the code more direct."
   ]
  },
  {
   "cell_type": "markdown",
   "id": "cdaa781a",
   "metadata": {},
   "source": [
    "### 8.  What is a lambda function in Python and when is it typically used?"
   ]
  },
  {
   "cell_type": "markdown",
   "id": "b8c5476d",
   "metadata": {},
   "source": [
    "Answer -> \n",
    "\n",
    "A lambda function in Python is a small, anonymous function that can have any number of arguments but can only have one expression. It's often referred to as a \"single-expression function.\" You don't define it with the def keyword; instead, you use the lambda keyword.\n",
    "\n",
    "\n",
    "\n",
    "The general syntax is: lambda arguments: expression"
   ]
  },
  {
   "cell_type": "code",
   "execution_count": 14,
   "id": "3b53b9df",
   "metadata": {},
   "outputs": [
    {
     "name": "stdout",
     "output_type": "stream",
     "text": [
      "[2, 4, 6]\n"
     ]
    }
   ],
   "source": [
    "my_list = [1, 2, 3, 4, 5, 6]\n",
    "even_numbers = list(filter(lambda x: x % 2 == 0, my_list))\n",
    "print(even_numbers) "
   ]
  },
  {
   "cell_type": "markdown",
   "id": "ca9a5c69",
   "metadata": {},
   "source": [
    "### 9. Explain the purpose and usage of the `map()` function in Python."
   ]
  },
  {
   "cell_type": "markdown",
   "id": "92ba7fc1",
   "metadata": {},
   "source": [
    "Answer -> \n",
    "\n",
    "The map() function in Python is a built-in function that applies a given function to every item of an iterable (like a list or tuple) and returns a map object, which is an iterator. The primary purpose of map() is to perform an operation on a sequence of data without the need for an explicit loop, leading to more concise and often more efficient code.\n",
    "\n",
    "Usage :\n",
    "The map() function has the following syntax:\n",
    "\n",
    "map(function, iterable, ...)\n",
    "\n",
    "function: The function to apply to each item.\n",
    "\n",
    "iterable: The sequence of items that the function will be applied to. You can provide one or more iterables.\n",
    "\n",
    "The function returns a map object. To see the results, you typically convert this object into a list, tuple, or another iterable."
   ]
  },
  {
   "cell_type": "code",
   "execution_count": 16,
   "id": "73d49cf6",
   "metadata": {},
   "outputs": [
    {
     "name": "stdout",
     "output_type": "stream",
     "text": [
      "[1, 4, 9, 16]\n"
     ]
    }
   ],
   "source": [
    "numbers = [1, 2, 3, 4]\n",
    "squared_numbers_lambda = list(map(lambda x: x ** 2, numbers))\n",
    "\n",
    "print(squared_numbers_lambda)  # Output: [1, 4, 9, 16]"
   ]
  },
  {
   "cell_type": "markdown",
   "id": "cea84c96",
   "metadata": {},
   "source": [
    "### 10.  What is the difference between `map()`, `reduce()`, and `filter()` functions in Python?\n"
   ]
  },
  {
   "cell_type": "markdown",
   "id": "33b9b772",
   "metadata": {},
   "source": [
    "Answer -> \n",
    "\n",
    "1) map(): Transformation\n",
    "\n",
    "The map() function applies a given function to every item of an iterable and returns a new iterable (a map object) with the transformed items. It's used when you want to transform or change each element of a sequence.\n",
    "\n",
    "Syntax: map(function, iterable)\n",
    "\n",
    "Purpose: To apply a function to each item and produce a new sequence of the results. The number of items in the output is the same as the number of items in the input."
   ]
  },
  {
   "cell_type": "code",
   "execution_count": 17,
   "id": "311e8cd7",
   "metadata": {},
   "outputs": [
    {
     "name": "stdout",
     "output_type": "stream",
     "text": [
      "[1, 4, 9, 16]\n"
     ]
    }
   ],
   "source": [
    "numbers = [1, 2, 3, 4]\n",
    "squared = list(map(lambda x: x**2, numbers))\n",
    "print(squared)\n",
    "# Output: [1, 4, 9, 16]"
   ]
  },
  {
   "cell_type": "markdown",
   "id": "72ce8e29",
   "metadata": {},
   "source": [
    "2) filter(): Selection\n",
    "\n",
    "The filter() function constructs an iterator from elements of an iterable for which a function returns true. It's used when you want to select a subset of items from an iterable based on a specific condition.\n",
    "\n",
    "Syntax: filter(function, iterable)\n",
    "\n",
    "Purpose: To return a new sequence containing only the items that meet a certain condition. The number of items in the output is less than or equal to the number of items in the input. The function must return a boolean value (True or False)."
   ]
  },
  {
   "cell_type": "code",
   "execution_count": 18,
   "id": "520f4a23",
   "metadata": {},
   "outputs": [
    {
     "name": "stdout",
     "output_type": "stream",
     "text": [
      "[2, 4, 6]\n"
     ]
    }
   ],
   "source": [
    "numbers = [1, 2, 3, 4, 5, 6]\n",
    "even_numbers = list(filter(lambda x: x % 2 == 0, numbers))\n",
    "print(even_numbers)\n",
    "# Output: [2, 4, 6]"
   ]
  },
  {
   "cell_type": "markdown",
   "id": "fefe468a",
   "metadata": {},
   "source": [
    "3) reduce(): Aggregation\n",
    "\n",
    "The reduce() function applies a rolling computation to a sequence of items, one after another, to reduce them to a single cumulative value. It's used when you want to aggregate a sequence into a single result. It's located in the functools module, so you need to import it.\n",
    "\n",
    "Syntax: functools.reduce(function, iterable)\n",
    "\n",
    "Purpose: To combine all items in an iterable into a single value. The function must accept two arguments: an accumulator and the next item in the iterable."
   ]
  },
  {
   "cell_type": "code",
   "execution_count": 19,
   "id": "5a83f7c2",
   "metadata": {},
   "outputs": [
    {
     "name": "stdout",
     "output_type": "stream",
     "text": [
      "10\n"
     ]
    }
   ],
   "source": [
    "from functools import reduce\n",
    "\n",
    "numbers = [1, 2, 3, 4]\n",
    "sum_of_numbers = reduce(lambda x, y: x + y, numbers)\n",
    "print(sum_of_numbers)\n",
    "# Output: 10"
   ]
  },
  {
   "cell_type": "markdown",
   "id": "9fb4ae7d",
   "metadata": {},
   "source": [
    "### 11. Using pen & Paper write the internal mechanism for sum operation using  reduce function on this given list:[47,11,42,13]; "
   ]
  },
  {
   "cell_type": "markdown",
   "id": "d0c77add",
   "metadata": {},
   "source": [
    "Answer -> \n",
    "\n",
    "x = 47\n",
    "\n",
    "y = 11\n",
    "\n",
    "x = x+y = 58  ------> x = 58\n",
    "\n",
    "y = 42 \n",
    "\n",
    "x = x + y = 58 + 42 = 100 ------> x = 100\n",
    "\n",
    "y = 13\n",
    "\n",
    "x = x + y = 100 + 13 = 113 -------> x = 113\n",
    "\n",
    "output = 113 \n",
    "\n",
    "\n",
    "\n"
   ]
  },
  {
   "cell_type": "code",
   "execution_count": 21,
   "id": "67624f39",
   "metadata": {},
   "outputs": [
    {
     "name": "stdout",
     "output_type": "stream",
     "text": [
      "113\n"
     ]
    }
   ],
   "source": [
    "from functools import reduce\n",
    "numbers = [47,11,42,13]\n",
    "sum_of_numbers = reduce(lambda x,y : x+y,numbers)\n",
    "print(sum_of_numbers)"
   ]
  },
  {
   "cell_type": "markdown",
   "id": "1d029a46",
   "metadata": {},
   "source": [
    "# Practical Questions:\n"
   ]
  },
  {
   "cell_type": "markdown",
   "id": "8373a833",
   "metadata": {},
   "source": [
    "### 1.  Write a Python function that takes a list of numbers as input and returns the sum of all even numbers in the list."
   ]
  },
  {
   "cell_type": "code",
   "execution_count": 23,
   "id": "10779ba2",
   "metadata": {},
   "outputs": [
    {
     "name": "stdout",
     "output_type": "stream",
     "text": [
      "20\n"
     ]
    }
   ],
   "source": [
    "def input_list(numbers):\n",
    "    sum = 0\n",
    "    for i in range(len(numbers)-1):\n",
    "        if numbers[i] % 2 == 0:\n",
    "            sum = sum + numbers[i]\n",
    "    return sum \n",
    "\n",
    "numbers = [1,2,3,4,5,6,7,8,9]\n",
    "sum_of_even = input_list(numbers)\n",
    "print(sum_of_even)        \n",
    "        \n",
    "    "
   ]
  },
  {
   "cell_type": "markdown",
   "id": "2a822366",
   "metadata": {},
   "source": [
    "### 2.Create a Python function that accepts a string and returns the reverse of that string."
   ]
  },
  {
   "cell_type": "code",
   "execution_count": 26,
   "id": "7b2bf0dd",
   "metadata": {},
   "outputs": [
    {
     "name": "stdout",
     "output_type": "stream",
     "text": [
      "hseetiN\n"
     ]
    }
   ],
   "source": [
    "def reverse_str(string):\n",
    "    reverse = string[::-1]\n",
    "    return reverse\n",
    " \n",
    "string = 'Niteesh'\n",
    "print(reverse_str(string))\n",
    " "
   ]
  },
  {
   "cell_type": "markdown",
   "id": "ebf35d96",
   "metadata": {},
   "source": [
    "### 3.  Implement a Python function that takes a list of integers and returns a new list containing the squares of each number."
   ]
  },
  {
   "cell_type": "code",
   "execution_count": 27,
   "id": "bf6fc30a",
   "metadata": {},
   "outputs": [
    {
     "name": "stdout",
     "output_type": "stream",
     "text": [
      "[1, 4, 9, 16, 25, 36, 49, 64, 81]\n"
     ]
    }
   ],
   "source": [
    "input_list = [1,2,3,4,5,6,7,8,9]\n",
    "square = list(map(lambda x : x ** 2 , input_list))\n",
    "print(square)"
   ]
  },
  {
   "cell_type": "markdown",
   "id": "53aa07db",
   "metadata": {},
   "source": [
    "### 4.  Write a Python function that checks if a given number is prime or not from 1 to 200."
   ]
  },
  {
   "cell_type": "code",
   "execution_count": 28,
   "id": "0e22b928",
   "metadata": {},
   "outputs": [
    {
     "name": "stdout",
     "output_type": "stream",
     "text": [
      "Checking for prime numbers from 1 to 200:\n",
      "\n",
      "1 is not a prime number.\n",
      "2 is a prime number.\n",
      "3 is a prime number.\n",
      "4 is not a prime number.\n",
      "5 is a prime number.\n",
      "6 is not a prime number.\n",
      "7 is a prime number.\n",
      "8 is not a prime number.\n",
      "9 is not a prime number.\n",
      "10 is not a prime number.\n",
      "11 is a prime number.\n",
      "12 is not a prime number.\n",
      "13 is a prime number.\n",
      "14 is not a prime number.\n",
      "15 is not a prime number.\n",
      "16 is not a prime number.\n",
      "17 is a prime number.\n",
      "18 is not a prime number.\n",
      "19 is a prime number.\n",
      "20 is not a prime number.\n",
      "21 is not a prime number.\n",
      "22 is not a prime number.\n",
      "23 is a prime number.\n",
      "24 is not a prime number.\n",
      "25 is not a prime number.\n",
      "26 is not a prime number.\n",
      "27 is not a prime number.\n",
      "28 is not a prime number.\n",
      "29 is a prime number.\n",
      "30 is not a prime number.\n",
      "31 is a prime number.\n",
      "32 is not a prime number.\n",
      "33 is not a prime number.\n",
      "34 is not a prime number.\n",
      "35 is not a prime number.\n",
      "36 is not a prime number.\n",
      "37 is a prime number.\n",
      "38 is not a prime number.\n",
      "39 is not a prime number.\n",
      "40 is not a prime number.\n",
      "41 is a prime number.\n",
      "42 is not a prime number.\n",
      "43 is a prime number.\n",
      "44 is not a prime number.\n",
      "45 is not a prime number.\n",
      "46 is not a prime number.\n",
      "47 is a prime number.\n",
      "48 is not a prime number.\n",
      "49 is not a prime number.\n",
      "50 is not a prime number.\n",
      "51 is not a prime number.\n",
      "52 is not a prime number.\n",
      "53 is a prime number.\n",
      "54 is not a prime number.\n",
      "55 is not a prime number.\n",
      "56 is not a prime number.\n",
      "57 is not a prime number.\n",
      "58 is not a prime number.\n",
      "59 is a prime number.\n",
      "60 is not a prime number.\n",
      "61 is a prime number.\n",
      "62 is not a prime number.\n",
      "63 is not a prime number.\n",
      "64 is not a prime number.\n",
      "65 is not a prime number.\n",
      "66 is not a prime number.\n",
      "67 is a prime number.\n",
      "68 is not a prime number.\n",
      "69 is not a prime number.\n",
      "70 is not a prime number.\n",
      "71 is a prime number.\n",
      "72 is not a prime number.\n",
      "73 is a prime number.\n",
      "74 is not a prime number.\n",
      "75 is not a prime number.\n",
      "76 is not a prime number.\n",
      "77 is not a prime number.\n",
      "78 is not a prime number.\n",
      "79 is a prime number.\n",
      "80 is not a prime number.\n",
      "81 is not a prime number.\n",
      "82 is not a prime number.\n",
      "83 is a prime number.\n",
      "84 is not a prime number.\n",
      "85 is not a prime number.\n",
      "86 is not a prime number.\n",
      "87 is not a prime number.\n",
      "88 is not a prime number.\n",
      "89 is a prime number.\n",
      "90 is not a prime number.\n",
      "91 is not a prime number.\n",
      "92 is not a prime number.\n",
      "93 is not a prime number.\n",
      "94 is not a prime number.\n",
      "95 is not a prime number.\n",
      "96 is not a prime number.\n",
      "97 is a prime number.\n",
      "98 is not a prime number.\n",
      "99 is not a prime number.\n",
      "100 is not a prime number.\n",
      "101 is a prime number.\n",
      "102 is not a prime number.\n",
      "103 is a prime number.\n",
      "104 is not a prime number.\n",
      "105 is not a prime number.\n",
      "106 is not a prime number.\n",
      "107 is a prime number.\n",
      "108 is not a prime number.\n",
      "109 is a prime number.\n",
      "110 is not a prime number.\n",
      "111 is not a prime number.\n",
      "112 is not a prime number.\n",
      "113 is a prime number.\n",
      "114 is not a prime number.\n",
      "115 is not a prime number.\n",
      "116 is not a prime number.\n",
      "117 is not a prime number.\n",
      "118 is not a prime number.\n",
      "119 is not a prime number.\n",
      "120 is not a prime number.\n",
      "121 is not a prime number.\n",
      "122 is not a prime number.\n",
      "123 is not a prime number.\n",
      "124 is not a prime number.\n",
      "125 is not a prime number.\n",
      "126 is not a prime number.\n",
      "127 is a prime number.\n",
      "128 is not a prime number.\n",
      "129 is not a prime number.\n",
      "130 is not a prime number.\n",
      "131 is a prime number.\n",
      "132 is not a prime number.\n",
      "133 is not a prime number.\n",
      "134 is not a prime number.\n",
      "135 is not a prime number.\n",
      "136 is not a prime number.\n",
      "137 is a prime number.\n",
      "138 is not a prime number.\n",
      "139 is a prime number.\n",
      "140 is not a prime number.\n",
      "141 is not a prime number.\n",
      "142 is not a prime number.\n",
      "143 is not a prime number.\n",
      "144 is not a prime number.\n",
      "145 is not a prime number.\n",
      "146 is not a prime number.\n",
      "147 is not a prime number.\n",
      "148 is not a prime number.\n",
      "149 is a prime number.\n",
      "150 is not a prime number.\n",
      "151 is a prime number.\n",
      "152 is not a prime number.\n",
      "153 is not a prime number.\n",
      "154 is not a prime number.\n",
      "155 is not a prime number.\n",
      "156 is not a prime number.\n",
      "157 is a prime number.\n",
      "158 is not a prime number.\n",
      "159 is not a prime number.\n",
      "160 is not a prime number.\n",
      "161 is not a prime number.\n",
      "162 is not a prime number.\n",
      "163 is a prime number.\n",
      "164 is not a prime number.\n",
      "165 is not a prime number.\n",
      "166 is not a prime number.\n",
      "167 is a prime number.\n",
      "168 is not a prime number.\n",
      "169 is not a prime number.\n",
      "170 is not a prime number.\n",
      "171 is not a prime number.\n",
      "172 is not a prime number.\n",
      "173 is a prime number.\n",
      "174 is not a prime number.\n",
      "175 is not a prime number.\n",
      "176 is not a prime number.\n",
      "177 is not a prime number.\n",
      "178 is not a prime number.\n",
      "179 is a prime number.\n",
      "180 is not a prime number.\n",
      "181 is a prime number.\n",
      "182 is not a prime number.\n",
      "183 is not a prime number.\n",
      "184 is not a prime number.\n",
      "185 is not a prime number.\n",
      "186 is not a prime number.\n",
      "187 is not a prime number.\n",
      "188 is not a prime number.\n",
      "189 is not a prime number.\n",
      "190 is not a prime number.\n",
      "191 is a prime number.\n",
      "192 is not a prime number.\n",
      "193 is a prime number.\n",
      "194 is not a prime number.\n",
      "195 is not a prime number.\n",
      "196 is not a prime number.\n",
      "197 is a prime number.\n",
      "198 is not a prime number.\n",
      "199 is a prime number.\n",
      "200 is not a prime number.\n"
     ]
    }
   ],
   "source": [
    "import math\n",
    "\n",
    "def is_prime(n):\n",
    "    \"\"\"\n",
    "    Checks if a given number is prime.\n",
    "\n",
    "    Args:\n",
    "        n: An integer.\n",
    "\n",
    "    Returns:\n",
    "        True if n is a prime number, False otherwise.\n",
    "    \"\"\"\n",
    "    # Prime numbers must be greater than 1.\n",
    "    if n <= 1:\n",
    "        return False\n",
    "    \n",
    "    # 2 is the only even prime number.\n",
    "    if n == 2:\n",
    "        return True\n",
    "    \n",
    "    # All other even numbers are not prime.\n",
    "    if n % 2 == 0:\n",
    "        return False\n",
    "    \n",
    "    # Check for odd divisors from 3 up to the square root of n.\n",
    "    # We only need to check up to the square root because if a number n\n",
    "    # has a divisor larger than its square root, it must also have a\n",
    "    # divisor smaller than it.\n",
    "    i = 3\n",
    "    while i <= math.sqrt(n):\n",
    "        if n % i == 0:\n",
    "            return False\n",
    "        # We only need to check odd numbers.\n",
    "        i += 2\n",
    "        \n",
    "    # If no divisors were found, the number is prime.\n",
    "    return True\n",
    "\n",
    "# --- Main part of the script ---\n",
    "if __name__ == \"__main__\":\n",
    "    print(\"Checking for prime numbers from 1 to 200:\\n\")\n",
    "    # Loop through numbers from 1 to 200 (inclusive).\n",
    "    for number in range(1, 201):\n",
    "        if is_prime(number):\n",
    "            print(f\"{number} is a prime number.\")\n",
    "        else:\n",
    "            print(f\"{number} is not a prime number.\")\n",
    "\n"
   ]
  },
  {
   "cell_type": "markdown",
   "id": "09185226",
   "metadata": {},
   "source": [
    "### 5.  Create an iterator class in Python that generates the Fibonacci sequence up to a specified number of terms."
   ]
  },
  {
   "cell_type": "code",
   "execution_count": 29,
   "id": "bb6ca420",
   "metadata": {},
   "outputs": [
    {
     "name": "stdout",
     "output_type": "stream",
     "text": [
      "The first 15 numbers in the Fibonacci sequence are:\n",
      "0 1 1 2 3 5 8 13 21 34 55 89 144 233 377 \n",
      "\n",
      "\n",
      "Using next() manually for the first 5 terms:\n",
      "0\n",
      "1\n",
      "1\n",
      "2\n",
      "3\n"
     ]
    }
   ],
   "source": [
    "class FibonacciIterator:\n",
    "    \"\"\"\n",
    "    An iterator for generating the Fibonacci sequence up to a specified number of terms.\n",
    "    \n",
    "    The Fibonacci sequence starts with 0 and 1, and each subsequent number is the\n",
    "    sum of the two preceding ones (e.g., 0, 1, 1, 2, 3, 5, 8, ...).\n",
    "    \"\"\"\n",
    "\n",
    "    def __init__(self, max_terms):\n",
    "        \"\"\"\n",
    "        Initializes the Fibonacci iterator.\n",
    "\n",
    "        Args:\n",
    "            max_terms (int): The total number of Fibonacci terms to generate.\n",
    "                             Must be a non-negative integer.\n",
    "        \"\"\"\n",
    "        if not isinstance(max_terms, int) or max_terms < 0:\n",
    "            raise ValueError(\"max_terms must be a non-negative integer.\")\n",
    "            \n",
    "        self._max_terms = max_terms\n",
    "        self._current_term_count = 0\n",
    "        self._a, self._b = 0, 1\n",
    "\n",
    "    def __iter__(self):\n",
    "        \"\"\"\n",
    "        Returns the iterator object itself. This is required for an iterator.\n",
    "        \"\"\"\n",
    "        # Reset the state for a new iteration if needed, though typically\n",
    "        # iterators are single-use. For this example, we'll allow re-iteration.\n",
    "        self._current_term_count = 0\n",
    "        self._a, self._b = 0, 1\n",
    "        return self\n",
    "\n",
    "    def __next__(self):\n",
    "        \"\"\"\n",
    "        Generates the next Fibonacci number in the sequence.\n",
    "        \n",
    "        Raises:\n",
    "            StopIteration: When the sequence has reached the specified number of terms.\n",
    "        \n",
    "        Returns:\n",
    "            int: The next Fibonacci number.\n",
    "        \"\"\"\n",
    "        # Check if we have already generated the required number of terms.\n",
    "        if self._current_term_count >= self._max_terms:\n",
    "            raise StopIteration\n",
    "        \n",
    "        # The first term is a special case (0).\n",
    "        if self._current_term_count == 0:\n",
    "            self._current_term_count += 1\n",
    "            return self._a\n",
    "        \n",
    "        # Calculate the next Fibonacci number.\n",
    "        next_fib = self._a + self._b\n",
    "        \n",
    "        # Update the sequence variables for the next iteration.\n",
    "        self._a = self._b\n",
    "        self._b = next_fib\n",
    "        \n",
    "        self._current_term_count += 1\n",
    "        \n",
    "        # Return the previous value of 'a', which is the current number in the sequence.\n",
    "        return self._a\n",
    "\n",
    "# --- Example Usage ---\n",
    "if __name__ == \"__main__\":\n",
    "    try:\n",
    "        # Create an iterator to generate the first 15 Fibonacci numbers.\n",
    "        num_terms = 15\n",
    "        fib_sequence = FibonacciIterator(num_terms)\n",
    "\n",
    "        print(f\"The first {num_terms} numbers in the Fibonacci sequence are:\")\n",
    "        \n",
    "        # An iterator can be used directly in a for loop.\n",
    "        for number in fib_sequence:\n",
    "            print(number, end=\" \")\n",
    "        print(\"\\n\")\n",
    "\n",
    "        # You can also use the next() function manually.\n",
    "        print(\"\\nUsing next() manually for the first 5 terms:\")\n",
    "        fib_sequence_manual = FibonacciIterator(5)\n",
    "        print(next(fib_sequence_manual))  # 0\n",
    "        print(next(fib_sequence_manual))  # 1\n",
    "        print(next(fib_sequence_manual))  # 1\n",
    "        print(next(fib_sequence_manual))  # 2\n",
    "        print(next(fib_sequence_manual))  # 3\n",
    "        # The next call would raise StopIteration.\n",
    "        # print(next(fib_sequence_manual)) \n",
    "\n",
    "    except ValueError as e:\n",
    "        print(f\"Error: {e}\")"
   ]
  },
  {
   "cell_type": "markdown",
   "id": "dc19a2e0",
   "metadata": {},
   "source": [
    "### 6.  Write a generator function in Python that yields the powers of 2 up to a given exponent.\n",
    "\n"
   ]
  },
  {
   "cell_type": "code",
   "execution_count": 32,
   "id": "1e34f869",
   "metadata": {},
   "outputs": [
    {
     "name": "stdout",
     "output_type": "stream",
     "text": [
      "\n",
      "Converting the generator output to a list:\n",
      "[1, 2, 4, 8, 16, 32, 64, 128, 256]\n"
     ]
    }
   ],
   "source": [
    "def powers_of_two(max_exponent):\n",
    "    \"\"\"\n",
    "    A generator function that yields powers of 2 from 2**0 up to a given exponent.\n",
    "\n",
    "    Args:\n",
    "        max_exponent (int): The maximum exponent to calculate the power of 2 for.\n",
    "                            Must be a non-negative integer.\n",
    "    \n",
    "    Yields:\n",
    "        int: The next power of 2 in the sequence.\n",
    "    \"\"\"\n",
    "    if not isinstance(max_exponent, int) or max_exponent < 0:\n",
    "        raise ValueError(\"The exponent must be a non-negative integer.\")\n",
    "\n",
    "    for exponent in range(max_exponent + 1):\n",
    "        yield 2 ** exponent\n",
    "\n",
    "if __name__ == \"__main__\":\n",
    "    try:\n",
    "        print(\"\\nConverting the generator output to a list:\")\n",
    "        powers_list = list(powers_of_two(8))\n",
    "        print(powers_list)\n",
    "\n",
    "    except ValueError as e:\n",
    "        print(f\"Error: {e}\")"
   ]
  },
  {
   "cell_type": "markdown",
   "id": "6e1174ca",
   "metadata": {},
   "source": [
    "### 7. Implement a generator function that reads a file line by line and yields each line as a string."
   ]
  },
  {
   "cell_type": "code",
   "execution_count": null,
   "id": "780daf3e",
   "metadata": {},
   "outputs": [
    {
     "name": "stdout",
     "output_type": "stream",
     "text": [
      "Reading file 'sample1.txt'...\n",
      "Line one\n",
      "Line two\n",
      "Line three, the final line.\n"
     ]
    },
    {
     "name": "stderr",
     "output_type": "stream",
     "text": [
      "<>:13: SyntaxWarning: invalid escape sequence '\\P'\n",
      "<>:13: SyntaxWarning: invalid escape sequence '\\P'\n",
      "C:\\Users\\praja\\AppData\\Local\\Temp\\ipykernel_22504\\3780400848.py:13: SyntaxWarning: invalid escape sequence '\\P'\n",
      "  with open(\"D:\\Programmer\\Data Science\\data science\\Python Basics\\sample1.txt\", 'r') as file:\n"
     ]
    }
   ],
   "source": [
    "def file_line_reader(file_path):\n",
    "    \"\"\"\n",
    "    A generator function that reads a file line by line and yields each line.\n",
    "\n",
    "    This version does not include exception handling and assumes the file exists.\n",
    "\n",
    "    Args:\n",
    "        file_path (str): The path to the file to be read.\n",
    "\n",
    "    Yields:\n",
    "        str: Each line of the file as a string.\n",
    "    \"\"\"\n",
    "\n",
    "# --- Example Usage ---\n",
    "\n",
    "# 1. First, let's create a temporary file to demonstrate the function.\n",
    "# This code block is for demonstration purposes only.\n",
    "with open('sample1.txt', 'w') as f:\n",
    "    f.write(\"Line one\\n\")\n",
    "    f.write(\"Line two\\n\")\n",
    "    f.write(\"Line three, the final line.\\n\")\n",
    "\n",
    "# 2. Use the generator to read the file line by line.\n",
    "print(\"Reading file 'sample1.txt'...\")\n",
    "line_generator = file_line_reader('sample1.txt')\n",
    "\n",
    "# Iterate over the generator to get each line\n",
    "for line in line_generator:\n",
    "    # Use .strip() to remove the newline character at the end of each line\n",
    "    print(line.strip())\n",
    "\n"
   ]
  },
  {
   "cell_type": "markdown",
   "id": "7a534995",
   "metadata": {},
   "source": [
    "### 8. Use a lambda function in Python to sort a list of tuples based on the second element of each tuple."
   ]
  },
  {
   "cell_type": "code",
   "execution_count": 43,
   "id": "8bbcb258",
   "metadata": {},
   "outputs": [
    {
     "name": "stdout",
     "output_type": "stream",
     "text": [
      "[('Bob', 25), ('David', 28), ('Alice', 30), ('Charlie', 35)]\n"
     ]
    }
   ],
   "source": [
    "data = [('Alice', 30), ('Bob', 25), ('Charlie', 35), ('David', 28)]\n",
    "\n",
    "sorted_data = list(sorted(data, key = lambda x : x[1]))\n",
    "\n",
    "print(sorted_data)"
   ]
  },
  {
   "cell_type": "markdown",
   "id": "5740bb05",
   "metadata": {},
   "source": [
    "### 9.  Write a Python program that uses `map()` to convert a list of temperatures from Celsius to Fahrenheit."
   ]
  },
  {
   "cell_type": "code",
   "execution_count": 44,
   "id": "22971a51",
   "metadata": {},
   "outputs": [
    {
     "name": "stdout",
     "output_type": "stream",
     "text": [
      "[89.6, 127.4, 129.2, 123.8, 53.6, 55.4, 93.2, 69.8, 78.8]\n"
     ]
    }
   ],
   "source": [
    "temp_celsius = [32,53,54,51,12,13,34,21,26]\n",
    "temp_fehr = list(map(lambda x :(x * 9/5) + 32 , temp_celsius))\n",
    "print(temp_fehr)"
   ]
  },
  {
   "cell_type": "markdown",
   "id": "ec3fe491",
   "metadata": {},
   "source": [
    "### 10. Create a Python program that uses `filter()` to remove all the vowels from a given string."
   ]
  },
  {
   "cell_type": "code",
   "execution_count": 45,
   "id": "f8de28d9",
   "metadata": {},
   "outputs": [
    {
     "name": "stdout",
     "output_type": "stream",
     "text": [
      "Original string: 'Hello, World! This is a test.'\n",
      "String without vowels: 'Hll, Wrld! Ths s  tst.'\n",
      "Original string: 'Programming is Awesome'\n",
      "String without vowels: 'Prgrmmng s wsm'\n"
     ]
    }
   ],
   "source": [
    "def remove_vowels(input_string):\n",
    "    \"\"\"\n",
    "    Removes all vowels (a, e, i, o, u) from a given string,\n",
    "    case-insensitively, using the filter() function.\n",
    "\n",
    "    Args:\n",
    "        input_string (str): The string to process.\n",
    "\n",
    "    Returns:\n",
    "        str: The new string with vowels removed.\n",
    "    \"\"\"\n",
    "    # A set is an efficient way to check for membership\n",
    "    vowels = {'a', 'e', 'i', 'o', 'u'}\n",
    "    \n",
    "    filtered_chars = filter(lambda char: char.lower() not in vowels, input_string)\n",
    "    \n",
    "    \n",
    "    return ''.join(filtered_chars)\n",
    "\n",
    "# Example Usage:\n",
    "original_string = \"Hello, World! This is a test.\"\n",
    "string_without_vowels = remove_vowels(original_string)\n",
    "\n",
    "print(f\"Original string: '{original_string}'\")\n",
    "print(f\"String without vowels: '{string_without_vowels}'\")\n",
    "\n",
    "# Another example with mixed case vowels\n",
    "another_string = \"Programming is Awesome\"\n",
    "another_string_without_vowels = remove_vowels(another_string)\n",
    "\n",
    "print(f\"Original string: '{another_string}'\")\n",
    "print(f\"String without vowels: '{another_string_without_vowels}'\")\n"
   ]
  },
  {
   "cell_type": "markdown",
   "id": "8b9f55e9",
   "metadata": {},
   "source": [
    "###   11 .  Imagine an accounting routine used in a book shop. It works on a list with sublists, which look like this:\n",
    "\n",
    "Write a Python program, which returns a list with 2-tuples. Each tuple consists of the order number and the\n",
    "product of the price per item and the quantity. The product should be increased by 10,- € if the value of the\n",
    "order is smaller than 100,00 €.\n",
    "\n",
    "Write a Python program using lambda and map."
   ]
  },
  {
   "cell_type": "code",
   "execution_count": 49,
   "id": "9efd4e27",
   "metadata": {},
   "outputs": [
    {
     "name": "stdout",
     "output_type": "stream",
     "text": [
      "Order Number and Final Price (with conditional fee):\n",
      "Order: 34587, Total: €163.80\n",
      "Order: 98762, Total: €284.00\n",
      "Order: 77226, Total: €108.85\n",
      "Order: 88112, Total: €84.97\n"
     ]
    }
   ],
   "source": [
    "\n",
    "orders = [\n",
    "    (34587, 4, 40.95),\n",
    "    (98762, 5, 56.80),\n",
    "    (77226, 3, 32.95),\n",
    "    (88112, 3, 24.99)\n",
    "]\n",
    "\n",
    "# Use map() to apply a lambda function to each order in the list.\n",
    "# The lambda function calculates the total price and applies the conditional fee.\n",
    "#\n",
    "# For each 'order' sublist:\n",
    "# 1. Calculate the initial total: order[1] (Quantity) * order[2] (Price)\n",
    "# 2. Check if the total is less than 100.\n",
    "# 3. If it is, add 10 to the total.\n",
    "# 4. Create a tuple with the order number (order[0]) and the final calculated price.\n",
    "#\n",
    "# The list() constructor is used to convert the map object into a list.\n",
    "\n",
    "final_totals = list(\n",
    "    map(\n",
    "        lambda order: (\n",
    "            order[0],\n",
    "            order[1] * order[2] + 10 if order[1] * order[2] < 100 else order[1] * order[2]\n",
    "        ),\n",
    "        orders\n",
    "    )\n",
    ")\n",
    "\n",
    "# Print the final list of tuples\n",
    "print(\"Order Number and Final Price (with conditional fee):\")\n",
    "for item in final_totals:\n",
    "    # Print with formatting to show two decimal places for currency\n",
    "    print(f\"Order: {item[0]}, Total: €{item[1]:.2f}\")\n",
    "\n",
    "\n"
   ]
  },
  {
   "cell_type": "code",
   "execution_count": null,
   "id": "7dbe72c5",
   "metadata": {},
   "outputs": [],
   "source": []
  }
 ],
 "metadata": {
  "kernelspec": {
   "display_name": "Python 3",
   "language": "python",
   "name": "python3"
  },
  "language_info": {
   "codemirror_mode": {
    "name": "ipython",
    "version": 3
   },
   "file_extension": ".py",
   "mimetype": "text/x-python",
   "name": "python",
   "nbconvert_exporter": "python",
   "pygments_lexer": "ipython3",
   "version": "3.13.6"
  }
 },
 "nbformat": 4,
 "nbformat_minor": 5
}
