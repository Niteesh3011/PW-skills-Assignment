{
 "cells": [
  {
   "cell_type": "markdown",
   "id": "da034b63",
   "metadata": {},
   "source": [
    "# Feature Engineering"
   ]
  },
  {
   "cell_type": "markdown",
   "id": "d0f4b395",
   "metadata": {},
   "source": [
    "#### Q.1) What is a parameter?"
   ]
  },
  {
   "cell_type": "markdown",
   "id": "b5228fa6",
   "metadata": {},
   "source": [
    "Answer ->\n",
    "\n",
    "Key Characteristics of a Parameter:\n",
    "\n",
    "Learned from Data: Parameters are the core values adjusted by the algorithm during the training process to reduce the error (loss) on the training dataset.\n",
    "\n",
    "Internal to the Model: They define the model's capability to transform input data into meaningful output. You do not set them manually.\n",
    "\n",
    "\n",
    "Required for Prediction: Once training is complete, the learned parameters are saved as part of the model and are essential for making predictions on new, unseen data."
   ]
  },
  {
   "cell_type": "markdown",
   "id": "bfe535c5",
   "metadata": {},
   "source": [
    "#### Q.2) What is correlation? What does negative correlation mean?"
   ]
  },
  {
   "cell_type": "markdown",
   "id": "f54b56fd",
   "metadata": {},
   "source": [
    "Answer ->\n",
    "\n",
    "Correlation is a statistical measure that describes the extent to which two variables are linearly related—that is, how closely and in what direction they change together.It is quantified by the Correlation Coefficient (2$r$), which is a single number ranging from -1.0 to +1.0\n",
    "\n",
    "A strong correlation indicates that two variables move together, but it does not imply that one variable causes the other to change (causation).\n",
    "\n",
    "Example: Ice cream sales and crime rates often have a strong positive correlation ($r > 0$). However, eating ice cream does not cause crime. Both are likely caused by a third variable: hot weather (as temperature increases, people buy more ice cream and are outside more often).\n",
    "\n",
    "What Does Negative Correlation Mean?\n",
    "\n",
    "Negative correlation (also known as an inverse correlation) means that the two variables being compared tend to move in opposite directions.In simple terms:When the value of Variable A increases, the value of Variable B tends to decrease.Conversely, when the value of Variable A decreases, the value of Variable B tends to increase."
   ]
  },
  {
   "cell_type": "markdown",
   "id": "a49aa6b3",
   "metadata": {},
   "source": [
    "#### Q.3 ) Define Machine Learning. What are the main components in Machine Learning?"
   ]
  },
  {
   "cell_type": "markdown",
   "id": "07a133de",
   "metadata": {},
   "source": [
    "Answer ->\n",
    "\n",
    "Machine Learning (ML) is a subfield of Artificial Intelligence (AI) that gives computer systems the ability to learn from data and improve their performance on a specific task without being explicitly programmed for every possible outcome.\n",
    "\n",
    "Instead of writing millions of lines of code with detailed rules, you feed the system a large volume of data, and the algorithm automatically finds patterns and builds a mathematical model to make predictions or decisions on new, unseen data.\n",
    "\n",
    "Main Component  of Machine learning : \n",
    "* Data\n",
    "* Algorithms\n",
    "* Model "
   ]
  },
  {
   "cell_type": "markdown",
   "id": "b3fc5847",
   "metadata": {},
   "source": [
    "#### Q.4) How does loss value help in determining whether the model is good or not?"
   ]
  },
  {
   "cell_type": "markdown",
   "id": "50f11c5f",
   "metadata": {},
   "source": [
    "Answer ->\n",
    "\n",
    "The loss value is a fundamental indicator of model quality because it is a numerical measure of the error between a model's predicted output and the actual \"ground truth\" value.\n",
    "\n",
    "The core principle is:\n",
    "\n",
    "$$\\text{Lower Loss Value} = \\text{Better Model Performance}$$\n",
    "\n",
    "The loss value essentially quantifies \"how wrong\" the model is. During training, the primary objective of any machine learning algorithm is to minimize the loss value."
   ]
  },
  {
   "cell_type": "markdown",
   "id": "c69259cb",
   "metadata": {},
   "source": [
    "#### Q.5) What are continuous and categorical variables?"
   ]
  },
  {
   "cell_type": "markdown",
   "id": "6e942138",
   "metadata": {},
   "source": [
    "Answer ->\n",
    "\n",
    "#### Continuous Variables (Quantitative) \n",
    "\n",
    "A continuous variable is a quantitative (numerical) variable that can take on any value within a given range, including decimals and fractions. These variables are typically obtained through measurement.\n",
    "\n",
    "Key Characteristic: Between any two values, there is an infinite number of possible values.\n",
    "\n",
    "Measurement: They are measured on a continuous scale, and precision is limited only by the measuring instrument.\n",
    "\n",
    "Machine Learning Use: Continuous variables are often used in Regression problems where the goal is to predict a specific numeric value (e.g., predicting house price).\n",
    "\n",
    "#### Categorical Variables (Qualitative) \n",
    "\n",
    "A categorical variable (also called a qualitative variable) represents distinct groups, labels, or categories. These values describe a characteristic or attribute that cannot be measured on a continuous scale.\n",
    "\n",
    "\n",
    "Key Characteristic: The values are limited to a finite, fixed number of categories or groups.\n",
    "\n",
    "Mathematical Operations: You cannot perform meaningful arithmetic (like adding or averaging) on the labels themselves (e.g., averaging \"Male\" and \"Female\" is nonsensical).\n",
    "\n",
    "Machine Learning Preprocessing: Since most ML algorithms require numerical input, categorical variables must be converted using techniques like One-Hot Encoding or Label Encoding before training."
   ]
  },
  {
   "cell_type": "markdown",
   "id": "5608a605",
   "metadata": {},
   "source": [
    "#### Q.6) How do we handle categorical variables in Machine Learning? What are the common techniques?"
   ]
  },
  {
   "cell_type": "markdown",
   "id": "d018c211",
   "metadata": {},
   "source": [
    "Answer ->\n",
    "\n",
    "Most machine learning algorithms are mathematical in nature and require numerical input. Therefore, the process of handling categorical variables—which are non-numerical (labels or groups)—is to convert them into a numerical format, a process known as encoding.\n",
    "\n",
    "\n",
    "The choice of encoding technique depends heavily on the type of categorical data you have:\n",
    "\n",
    "Nominal Data: Categories have no inherent order (e.g., Red, Blue, Green).\n",
    "\n",
    "Ordinal Data: Categories have a clear, intrinsic order (e.g., Low, Medium, High).\n",
    "\n",
    "Common Encoding TechniquesThe following are the most common and essential techniques for handling categorical variables:\n",
    "\n",
    "1. One-Hot Encoding (OHE) \n",
    "Best for: Nominal Data (No Order)6This is the safest and most widely used technique for categories that do not have an ordered relationship.\n",
    "\n",
    "How it works: It creates a new binary column for each unique category in the feature. For any given row, only the column corresponding to that row's category gets a value of 1, and all others get 0.8\n",
    "\n",
    "Advantage: It prevents the model from assuming any numerical relationship or order between categories, which is ideal for nominal data.\n",
    "\n",
    "Disadvantage: It drastically increases the dimensionality of the dataset (the number of columns). This is especially problematic for high-cardinality features (features with many unique categories), which can lead to the Curse of Dimensionality and slow down training.Original Feature (Color)Color_RedColor_BlueColor_GreenRed100Blue010Green001\n",
    "\n",
    "2. Ordinal Encoding Best for: Ordinal Data (Has Order)12This technique is used when the categorical feature has a known, meaningful order.\n",
    "\n",
    "How it works: Each unique category is assigned a unique integer value based on its rank or order.\n",
    "\n",
    "Advantage: It reduces dimensionality (only one new column is created) and preserves the intrinsic order, which can be useful for algorithms like Decision Trees and Random Forests.Caution (The Risk): Using this for nominal data is risky because the model might mistakenly interpret the arbitrary numbers (e.g., $1 < 2 < 3$) as a quantifiable, numerical distance or order, which can severely mislead algorithms like Linear Regression.Original Feature (Size)Encoded_SizeSmall0Medium1Large\n",
    "\n",
    "3. Label Encoding (Target Variable)Label Encoding is similar to Ordinal Encoding but is primarily used when encoding the Target Variable ($Y$) in a classification problem. For input features, Ordinal Encoding is preferred if an order exists, and One-Hot Encoding is preferred if no order exists.\n",
    "\n",
    "Advanced Encoding Techniques (For High Cardinality)When a categorical column has a very large number of unique categories (high cardinality), OHE becomes computationally expensive. These advanced methods aim to capture category information efficiently:4. Count / Frequency EncodingHow it works: Replaces each category with the count (or frequency/proportion) of times that category appears in the dataset.17Advantage: Does not increase dimensionality and works well when the frequency of a category is predictive (e.g., rare zip codes might be strong indicators of a specific outcome).Disadvantage: If two different categories have the same count, the model will treat them as identical.185. Target Encoding (or Mean Encoding)How it works: Replaces a category with the mean of the target variable for all data points belonging to that category.19 For example, replace \"Neighborhood A\" with the average house price in Neighborhood A.Advantage: Captures a strong predictive signal within a single feature, and does not increase dimensionality.Disadvantage: Prone to target leakage or overfitting, as it directly uses information from the target variable.20 This usually requires regularization (e.g., smoothing, adding noise) to mitigate the risk."
   ]
  },
  {
   "cell_type": "markdown",
   "id": "3379f4f9",
   "metadata": {},
   "source": [
    "#### Q.7) What do you mean by training and testing a dataset?"
   ]
  },
  {
   "cell_type": "markdown",
   "id": "308d9599",
   "metadata": {},
   "source": [
    "Answer ->\n",
    "\n",
    "Training a Dataset: The Learning Phase :\n",
    "\n",
    "Training a dataset is the process of feeding a machine learning algorithm with a set of data from which it can learn. This \"training data\" contains the input features and, in supervised learning, the corresponding correct outputs or \"labels.\" The algorithm iteratively adjusts its internal parameters to find patterns and relationships between the inputs and outputs. The ultimate goal is to create a model that can accurately predict the output for new, unseen inputs.\n",
    "\n",
    "\n",
    "\n",
    "\n",
    "Think of it like this: to teach a child to recognize a cat, you would show them many different pictures of cats, each time saying \"this is a cat.\" The child's brain (the model) learns the features of a cat—whiskers, pointy ears, fur, etc. The collection of these labeled cat pictures is the training dataset. The more diverse and comprehensive the training data, the better the model will learn.\n",
    "\n",
    "\n",
    "\n",
    "A good training dataset should be:\n",
    "\n",
    "Large enough to capture the complexity of the problem.\n",
    "\n",
    "Representative of the real-world data the model will encounter.\n",
    "\n",
    "Accurate in its labels.\n",
    "\n",
    "Testing a Dataset: The Evaluation Phase :\n",
    "\n",
    "Once the model has been trained, it's time to evaluate its performance. This is where the testing dataset comes in. This is a separate portion of the original dataset that the model has never seen before. By feeding the testing data into the trained model and comparing its predictions to the actual known outcomes, we can get an unbiased assessment of how well the model has generalized its learning.\n",
    "\n",
    "\n",
    "\n",
    "Continuing the cat analogy, after showing the child many pictures of cats, you would then show them a new picture of a cat they haven't seen before and ask, \"What is this?\" Their answer would tell you how well they have learned to identify cats in general, not just the specific cats in the training pictures. This new picture is part of the testing dataset.\n",
    "\n",
    "The primary purposes of testing are to:\n",
    "\n",
    "Assess the model's accuracy and other performance metrics.\n",
    "\n",
    "Identify overfitting, a situation where the model performs exceptionally well on the training data but poorly on new data because it has essentially \"memorized\" the training examples rather than learning the underlying patterns."
   ]
  },
  {
   "cell_type": "markdown",
   "id": "8d66be9a",
   "metadata": {},
   "source": [
    "#### Q.8) What is sklearn.preprocessing?"
   ]
  },
  {
   "cell_type": "markdown",
   "id": "b616aabe",
   "metadata": {},
   "source": [
    "Answer ->\n",
    "\n",
    "sklearn.preprocessing is a module in the popular Python machine learning library, Scikit-learn, that provides essential tools for cleaning, transforming, and preparing raw data so it can be effectively used by machine learning algorithms.\n",
    "\n",
    "Many machine learning models assume that the input data is clean, well-scaled, and free of missing values. The functions and classes in sklearn.preprocessing help you get your data into this required state.\n",
    "\n",
    "Key Preprocessing Techniques\n",
    "\n",
    "Here are some of the most common tasks performed using this module:\n",
    "\n",
    "* Scaling Features\n",
    "Scaling changes the range of your numerical data without changing the shape of its distribution. This is crucial for algorithms that are sensitive to the magnitude of features, such as Support Vector Machines (SVMs), Principal Component Analysis (PCA), and gradient-based algorithms.\n",
    "\n",
    "StandardScaler: This scales data so that it has a mean of 0 and a standard deviation of 1. It's like grading on a curve.\n",
    "\n",
    "MinMaxScaler: This transforms features by scaling each one to a given range, typically between 0 and 1.\n",
    "\n",
    "* Encoding Categorical Features\n",
    "Machine learning models require numerical input, so categorical data (like \"red,\" \"green,\" or \"blue\") must be converted into a numerical format.\n",
    "\n",
    "OneHotEncoder: This converts a categorical feature with n categories into n new binary features. For example, a \"color\" column with \"red\" and \"blue\" would become two columns: \"is_red\" (1 or 0) and \"is_blue\" (1 or 0). This prevents the model from assuming an incorrect order between categories.\n",
    "\n",
    "LabelEncoder: This converts each category into a unique integer (e.g., \"red\" -> 0, \"green\" -> 1). This is useful for target variables but can be problematic for input features, as the model might infer an ordinal relationship (e.g., green > red).\n",
    "\n",
    "* Normalization\n",
    "Normalization is the process of scaling individual samples (rows) to have a unit norm (a length of 1). This is particularly useful when the direction of the data matters more than its magnitude, as in text classification or clustering.\n",
    "\n",
    "Normalizer: Rescales each row of your data to have a length of 1. This is different from scaling, which operates on columns (features).\n",
    "\n",
    "In summary, sklearn.preprocessing is the toolbox you use to make your raw, messy data clean and structured, which is a critical first step for building a high-performing machine learning model. 🛠️"
   ]
  },
  {
   "cell_type": "markdown",
   "id": "42551863",
   "metadata": {},
   "source": [
    "#### Q.9 ) What is a Test set?"
   ]
  },
  {
   "cell_type": "markdown",
   "id": "c56ad4d7",
   "metadata": {},
   "source": [
    "Answer ->\n",
    "\n",
    "A test set is a portion of a dataset that is completely held back during the training of a machine learning model. Its primary purpose is to provide an unbiased evaluation of how well the model has learned and how it will perform on new, unseen data.\n",
    "\n",
    "Think of it like a final exam for a student . The student studies using the textbook and practice problems (the training set). The final exam (the test set) contains questions the student has never seen before. Their score on this exam is the best indicator of how well they truly understand the subject, rather than just how well they memorized the practice material.\n",
    "\n",
    "Why is a Test Set Important?\n",
    "The test set is crucial for two main reasons:\n",
    "\n",
    "Evaluating Generalization: It shows how well the model can generalize its learning to new data. A model that performs well on the training data but poorly on the test set is said to be overfitting. This means it has essentially \"memorized\" the training examples, including their noise and quirks, instead of learning the underlying patterns.\n",
    "\n",
    "Unbiased Performance Metric: Because the model never sees the test data during training, its performance on this set gives an honest, unbiased estimate of its accuracy and effectiveness in a real-world scenario.\n",
    "\n",
    "In a typical machine learning workflow, a dataset is split into a training set (usually 70-80% of the data) and a test set (the remaining 20-30%). The model is built exclusively using the training set, and once it's finalized, it's evaluated just once on the test set to get the final performance metrics."
   ]
  },
  {
   "cell_type": "markdown",
   "id": "f9849ac2",
   "metadata": {},
   "source": [
    "#### Q.10) How do we split data for model fitting (training and testing) in Python? How do you approach a Machine Learning problem?"
   ]
  },
  {
   "cell_type": "markdown",
   "id": "d3677f95",
   "metadata": {},
   "source": [
    "Answer ->\n",
    "\n",
    "Explanation of the Parameters\n",
    "X, y: These are your full datasets. X is the data with the features used for prediction, and y is the target variable (what you are trying to predict).\n",
    "\n",
    "test_size=0.2: This argument determines the proportion of the dataset to allocate to the test set. Here, 0.2 means 20% of the data will be used for testing, and the remaining 80% will be used for training. This is a very common split, though 70/30 is also widely used.\n",
    "\n",
    "\n",
    "random_state=42: This is a crucial parameter for reproducibility. The train_test_split function randomly shuffles the data before splitting it. By setting a random_state to any integer (42 is just a popular convention), you ensure that you get the exact same split every time you run the code. This makes your results reproducible and easier to debug. If you omit it, you'll get a different random split each time.\n",
    "\n",
    "\n",
    "stratify=y (Optional but important): If you are working on a classification problem with an imbalanced dataset (e.g., 90% of samples are class A and 10% are class B), you should add the stratify=y argument. This ensures that the training and test sets have the same proportion of each class as the original dataset, which prevents biased evaluation.\n"
   ]
  },
  {
   "cell_type": "code",
   "execution_count": null,
   "id": "0d5d858d",
   "metadata": {},
   "outputs": [],
   "source": [
    "# Import the function from the library\n",
    "from sklearn.model_selection import train_test_split\n",
    "\n",
    "# Assume 'X' contains your features (e.g., a pandas DataFrame or NumPy array)\n",
    "# and 'y' contains your target variable (the labels or values you want to predict)\n",
    "\n",
    "# Example placeholder data:\n",
    "# X = your_features\n",
    "# y = your_target\n",
    "\n",
    "# Split the data into training and testing sets\n",
    "X_train, X_test, y_train, y_test = train_test_split(\n",
    "    X, y, test_size=0.2, random_state=42\n",
    ")\n",
    "\n",
    "# Now you have four new datasets:\n",
    "# X_train: Features for training the model\n",
    "# y_train: Labels for training the model\n",
    "# X_test: Features for testing the model\n",
    "# y_test: Labels for testing the model"
   ]
  },
  {
   "cell_type": "markdown",
   "id": "11f8b3ba",
   "metadata": {},
   "source": [
    "#### Q.11) Why do we have to perform EDA before fitting a model to the data?\n"
   ]
  },
  {
   "cell_type": "markdown",
   "id": "cf91b40b",
   "metadata": {},
   "source": [
    "Answer ->\n",
    "\n",
    "We perform Exploratory Data Analysis (EDA) before fitting a model to understand the data's characteristics, uncover patterns, spot anomalies, and check underlying assumptions. Skipping this step is like a chef trying to cook a new dish without first tasting or examining the ingredients—the final result is likely to be flawed. \n",
    "\n",
    "EDA is the critical first step in any data science project that ensures you are building your model on a solid foundation.\n",
    "\n",
    "Key Reasons for Performing EDA\n",
    "\n",
    "* To Understand the Data's Structure\n",
    "First and foremost, EDA helps you get familiar with your dataset. It answers basic but crucial questions:\n",
    "\n",
    "What are the features (variables) and what do they represent?\n",
    "\n",
    "What data types are they (e.g., numerical, categorical)?\n",
    "\n",
    "How many rows and columns are there?\n",
    "\n",
    "What do the distributions of the key variables look like?\n",
    "\n",
    "* To Identify Errors and Anomalies\n",
    "Raw data is almost never perfect. EDA is your primary tool for quality control and helps you find issues that could ruin your model's performance. These include:\n",
    "\n",
    "Missing Values: Identifying columns with missing data and deciding on a strategy to handle them (e.g., imputation or removal).\n",
    "\n",
    "Outliers: Spotting extreme values that don't follow the general pattern. Outliers can skew the results of many models, so they need to be investigated.\n",
    "\n",
    "\n",
    "Inconsistencies: Finding strange or impossible values, like a person's age being 200, or typos in categorical data (e.g., \"New York\" and \"new york\").\n",
    "\n",
    "* To Uncover Relationships and Patterns\n",
    "EDA helps you discover how different variables relate to each other and to the target variable you want to predict. This is often done through visualization.\n",
    "\n",
    "Correlation: Using heatmaps to see which variables are strongly correlated with each other. High correlation between features can be problematic for some models.\n",
    "\n",
    "Visualization: Creating plots like scatter plots, box plots, and histograms to visually inspect relationships, trends, and patterns that summary statistics alone might miss.\n",
    "\n",
    "* To Inform Feature Engineering and Model Selection\n",
    "The insights gained from EDA directly guide the next steps in the modeling process.\n",
    "\n",
    "Feature Engineering: Understanding the data helps you create new, more predictive features from the existing ones. For example, you might combine two variables or extract the month from a date column.\n",
    "\n",
    "Model Selection: The characteristics of your data (e.g., linear vs. non-linear relationships, scale of features) can help you choose the most appropriate machine learning algorithm for the task."
   ]
  },
  {
   "cell_type": "markdown",
   "id": "4c48db1b",
   "metadata": {},
   "source": [
    "#### Q.12 )What is correlation?\n"
   ]
  },
  {
   "cell_type": "markdown",
   "id": "be6482b6",
   "metadata": {},
   "source": [
    "Answer ->\n",
    "\n",
    "Correlation is a statistical measure that describes the strength and direction of a relationship between two variables. In simple terms, it tells you how much two things move in sync with each other. \n",
    "\n",
    "The relationship is measured by a correlation coefficient, most commonly the Pearson correlation coefficient, which ranges from -1 to +1.\n",
    "\n",
    "Types of Correlation\n",
    "Positive Correlation (+1)\n",
    "This is when two variables move in the same direction. If one variable increases, the other variable also tends to increase. If one decreases, the other tends to decrease. A perfect positive correlation is +1.\n",
    "\n",
    "Example: As the number of hours you study increases, your exam scores tend to increase.\n",
    "\n",
    "Negative Correlation (-1)\n",
    "This is when two variables move in opposite directions. If one variable increases, the other variable tends to decrease, and vice versa. A perfect negative correlation is -1.\n",
    "\n",
    "Example: As the number of hours you spend playing video games increases, your exam scores tend to decrease.\n",
    "\n"
   ]
  },
  {
   "cell_type": "markdown",
   "id": "17d8651d",
   "metadata": {},
   "source": [
    "#### Q.13) What does negative correlation mean?"
   ]
  },
  {
   "cell_type": "markdown",
   "id": "ba8e9159",
   "metadata": {},
   "source": [
    "Answer ->\n",
    "\n",
    "Negative Correlation (-1)\n",
    "This is when two variables move in opposite directions. If one variable increases, the other variable tends to decrease, and vice versa. A perfect negative correlation is -1.\n",
    "\n",
    "Example: As the number of hours you spend playing video games increases, your exam scores tend to decrease."
   ]
  },
  {
   "cell_type": "markdown",
   "id": "2f432c08",
   "metadata": {},
   "source": [
    "#### Q.14) How can you find correlation between variables in Python?\n"
   ]
  },
  {
   "cell_type": "code",
   "execution_count": 2,
   "id": "32e2e49b",
   "metadata": {},
   "outputs": [
    {
     "name": "stdout",
     "output_type": "stream",
     "text": [
      "Correlation Matrix:\n",
      "             Study_Hours  Sleep_Hours  Exam_Score\n",
      "Study_Hours     1.000000     -0.97985    0.988164\n",
      "Sleep_Hours    -0.979850      1.00000   -0.986380\n",
      "Exam_Score      0.988164     -0.98638    1.000000\n"
     ]
    },
    {
     "data": {
      "image/png": "[encoded data removed]",
      "text/plain": [
       "<Figure size 800x600 with 2 Axes>"
      ]
     },
     "metadata": {},
     "output_type": "display_data"
    }
   ],
   "source": [
    "import pandas as pd\n",
    "import seaborn as sns\n",
    "import matplotlib.pyplot as plt\n",
    "\n",
    "# 1. Create a sample DataFrame\n",
    "data = {\n",
    "    'Study_Hours': [2, 3, 5, 1, 6, 4, 7],\n",
    "    'Sleep_Hours': [8, 7, 6, 9, 5, 7, 5],\n",
    "    'Exam_Score': [75, 80, 90, 65, 95, 85, 98]\n",
    "}\n",
    "df = pd.DataFrame(data)\n",
    "\n",
    "# 2. Calculate the correlation matrix\n",
    "correlation_matrix = df.corr()\n",
    "\n",
    "print(\"Correlation Matrix:\")\n",
    "print(correlation_matrix)\n",
    "\n",
    "# 3. (Recommended) Visualize the matrix as a heatmap\n",
    "plt.figure(figsize=(8, 6))\n",
    "sns.heatmap(correlation_matrix, annot=True, cmap='coolwarm', fmt=\".2f\")\n",
    "plt.title('Correlation Heatmap')\n",
    "plt.show()"
   ]
  },
  {
   "cell_type": "markdown",
   "id": "200eb93b",
   "metadata": {},
   "source": [
    "Answer ->\n",
    "\n",
    "You can find the correlation between variables in Python most easily using the .corr() method on a pandas DataFrame. This calculates the correlation between all numerical columns and returns the result as a correlation matrix.\n",
    "\n",
    "\n",
    "A popular way to visualize this matrix is by creating a heatmap using the Seaborn library.\n",
    "\n",
    "The value at the intersection of a row and column is the correlation coefficient between those two variables.\n",
    "\n",
    "The diagonal is always 1.00 because a variable is perfectly correlated with itself.\n",
    "\n",
    "For example, the correlation between Study_Hours and Exam_Score is +0.985, a very strong positive correlation.\n",
    "\n",
    "The correlation between Study_Hours and Sleep_Hours is -0.962, a very strong negative correlation."
   ]
  },
  {
   "cell_type": "markdown",
   "id": "019b4856",
   "metadata": {},
   "source": [
    "#### Q.15) What is causation? Explain difference between correlation and causation with an example."
   ]
  },
  {
   "cell_type": "markdown",
   "id": "ac2cbc59",
   "metadata": {},
   "source": [
    "Answer ->\n",
    "\n",
    "Causation indicates that one event is the result of the occurrence of another event; this is a direct cause-and-effect relationship. If you can say that event A causes event B, it means that any change in A directly brings about a change in B.\n",
    "\n",
    "Correlation vs. Causation\n",
    "The fundamental difference between the two is this:\n",
    "\n",
    "Correlation is simply a relationship or association. It shows that two variables move together, either in the same or opposite directions.\n",
    "\n",
    "\n",
    "Causation is a direct link. It means that one variable's action is the direct reason the other variable changes.\n",
    "\n",
    "The most important rule to remember is: correlation does not imply causation. Just because two things are related doesn't mean one is causing the other. This confusion often arises because of a hidden third factor, called a confounding variable."
   ]
  },
  {
   "cell_type": "markdown",
   "id": "9dbb5935",
   "metadata": {},
   "source": [
    "#### Q.16) What is an Optimizer? What are different types of optimizers? Explain each with an example."
   ]
  },
  {
   "cell_type": "markdown",
   "id": "0242a5d3",
   "metadata": {},
   "source": [
    "Answer ->\n",
    "\n",
    "An optimizer is an algorithm used in machine learning and deep learning to change the attributes of a model, like its weights and learning rate, in order to minimize the loss function. The goal is to make the model's predictions as accurate as possible.\n",
    "\n",
    "\n",
    "Think of it like a hiker trying to find the lowest point in a valley while blindfolded . The hiker's current position is the model's state, and the altitude is the \"loss\" or \"error.\" The optimizer is the strategy the hiker uses to take steps downhill until they reach the bottom (the point of minimum loss).\n",
    "\n",
    "Types of Optimizers\n",
    "Here are three of the most common and fundamental types of optimizers.\n",
    "\n",
    "Gradient Descent (GD)\n",
    "This is the most basic optimizer. It calculates the error for the entire training dataset and then takes one step in the direction that reduces the error the most.\n",
    "\n",
    "How it works: It computes the gradient (the slope of the loss function) using all the training examples and updates the model's parameters. This process is repeated until it converges to the minimum.\n",
    "\n",
    "\n",
    "Example Analogy: The blindfolded hiker stops, carefully feels the slope of the entire ground around them to find the steepest downhill path, and then takes a single, confident step. This is very accurate but incredibly slow if the valley (dataset) is huge.\n",
    "\n",
    "Stochastic Gradient Descent (SGD)\n",
    "SGD is a faster variant of Gradient Descent. Instead of using the entire dataset for each step, it updates the model's parameters using just one training example (or a small batch) at a time.\n",
    "\n",
    "\n",
    "How it works: It shuffles the dataset and then goes through it one example at a time, updating the model after each one. The steps are noisy and don't always go perfectly downhill, but they are much faster.\n",
    "\n",
    "\n",
    "Example Analogy: Instead of surveying the whole landscape, the hiker quickly feels the ground right under their feet and takes a step immediately. The path is zigzagging and erratic, but they generally move downhill much faster than the cautious hiker using standard Gradient Descent.\n",
    "\n",
    "Adam (Adaptive Moment Estimation)\n",
    "Adam is one of the most popular and effective optimizers used today. It's an \"adaptive\" method that combines the ideas of two other advanced optimizers: Momentum and RMSprop. It computes adaptive learning rates for each parameter.\n",
    "\n",
    "\n",
    "\n",
    "How it works: It uses the moving averages of both the gradient (like momentum, which helps accelerate in the right direction) and the squared gradient (which adapts the step size). This allows it to adjust the learning rate for each weight individually.\n",
    "\n",
    "Example Analogy: This is a \"smart\" hiker. They have momentum, so if they've been heading downhill, they'll keep moving faster in that direction. They also adapt their step size—taking large, confident steps on smooth, gentle slopes and small, careful steps on steep, uneven terrain. This helps them navigate the valley quickly and efficiently without overshooting the lowest point. For this reason, Adam often converges faster and works well on a wide range of problems, making it a common default choice."
   ]
  },
  {
   "cell_type": "markdown",
   "id": "faed3f20",
   "metadata": {},
   "source": [
    "#### Q.17) What is sklearn.linear_model ?"
   ]
  },
  {
   "cell_type": "markdown",
   "id": "ec88be5a",
   "metadata": {},
   "source": [
    "Answer ->\n",
    "\n",
    "sklearn.linear_model is a module in Python's Scikit-learn library that contains a set of algorithms for performing regression and classification where the prediction is assumed to be a linear function of the input features.\n",
    "\n",
    "In simple terms, these models find the best-fitting straight line (for simple regression) or hyperplane (for multiple features) to describe the relationship between your data's features and the target variable."
   ]
  },
  {
   "cell_type": "markdown",
   "id": "2a28e49b",
   "metadata": {},
   "source": [
    "#### Q.18) What does model.fit() do? What arguments must be given?"
   ]
  },
  {
   "cell_type": "markdown",
   "id": "f66af93f",
   "metadata": {},
   "source": [
    "Answer ->\n",
    "\n",
    "model.fit() is the method used to train a machine learning model. It's the step where the model learns the patterns and relationships within your training data.\n",
    "\n",
    "Think of your machine learning model as a student and your data as the textbook 📚. The model.fit() function is the process of the student studying the textbook to learn the subject. After this step is complete, the student (model) is \"trained\" and ready to be tested on new problems.\n",
    "\n",
    "Required Arguments\n",
    "For most supervised learning models in libraries like Scikit-learn, you must provide two essential arguments:\n",
    "\n",
    "X: The training data (features). This is typically a 2D array or DataFrame where each row is a sample and each column is a feature that describes that sample.\n",
    "\n",
    "y: The target values (labels or outcomes). This is a 1D array or Series that contains the correct answer for each corresponding sample in X.\n",
    "\n",
    "Code Example\n",
    "Here’s a typical workflow using a linear regression model from Scikit-learn:\n",
    "\n",
    "\n",
    "During the fit process, the algorithm iteratively adjusts its internal parameters (like the weights in a linear model) to find the best possible mapping between your input features (X_train) and the target labels (y_train), effectively minimizing the prediction error."
   ]
  },
  {
   "cell_type": "code",
   "execution_count": 3,
   "id": "438aab40",
   "metadata": {},
   "outputs": [
    {
     "ename": "NameError",
     "evalue": "name 'X_train' is not defined",
     "output_type": "error",
     "traceback": [
      "\u001b[31m---------------------------------------------------------------------------\u001b[39m",
      "\u001b[31mNameError\u001b[39m                                 Traceback (most recent call last)",
      "\u001b[36mCell\u001b[39m\u001b[36m \u001b[39m\u001b[32mIn[3]\u001b[39m\u001b[32m, line 11\u001b[39m\n\u001b[32m      8\u001b[39m model = LinearRegression()\n\u001b[32m     10\u001b[39m \u001b[38;5;66;03m# 2. Train the model by calling the .fit() method\u001b[39;00m\n\u001b[32m---> \u001b[39m\u001b[32m11\u001b[39m model.fit(\u001b[43mX_train\u001b[49m, y_train)\n\u001b[32m     13\u001b[39m \u001b[38;5;66;03m# After this line, the 'model' object is now trained and ready to make predictions.\u001b[39;00m\n",
      "\u001b[31mNameError\u001b[39m: name 'X_train' is not defined"
     ]
    }
   ],
   "source": [
    "from sklearn.linear_model import LinearRegression\n",
    "\n",
    "# Assume X_train are your training features and y_train are the corresponding target labels\n",
    "# X_train = [[feature1_sample1, feature2_sample1], [feature1_sample2, feature2_sample2], ...]\n",
    "# y_train = [target1, target2, ...]\n",
    "\n",
    "# 1. Create an instance of the model\n",
    "model = LinearRegression()\n",
    "\n",
    "# 2. Train the model by calling the .fit() method\n",
    "model.fit(X_train, y_train)\n",
    "\n",
    "# After this line, the 'model' object is now trained and ready to make predictions."
   ]
  },
  {
   "cell_type": "markdown",
   "id": "6e2019fe",
   "metadata": {},
   "source": [
    "#### Q.19) What does model.predict() do? What arguments must be given?"
   ]
  },
  {
   "cell_type": "markdown",
   "id": "293730fe",
   "metadata": {},
   "source": [
    "Answer ->\n",
    "\n",
    "model.predict() uses a trained machine learning model to make predictions on new, unseen data. After you've trained your model with model.fit(), the .predict() method is the step where you put that trained model to work.\n",
    "\n",
    "Think of it this way: if model.fit() is the \"studying\" phase, then model.predict() is the \"taking the exam\" phase, where the model applies what it has learned to new questions. \n",
    "\n",
    "Required Argument\n",
    "The model.predict() method requires one essential argument:\n",
    "\n",
    "X: The new data (features) for which you want to generate predictions. This must be a 2D array or DataFrame with the exact same number and order of features as the data used to train the model.\n"
   ]
  },
  {
   "cell_type": "markdown",
   "id": "8f941074",
   "metadata": {},
   "source": [
    "#### Q.20) What are continuous and categorical variables?"
   ]
  },
  {
   "cell_type": "markdown",
   "id": "e737b10f",
   "metadata": {},
   "source": [
    "Answer ->\n",
    "\n",
    "Continuous Variables 📏\n",
    "A continuous variable represents a measurement. Its values can be broken down into smaller and smaller units, and there are theoretically an infinite number of possible values between any two points.\n",
    "\n",
    "\n",
    "Key Idea: Can be measured, not counted.\n",
    "\n",
    "Examples:\n",
    "\n",
    "Height: A person can be 175cm, 175.1cm, or even 175.11cm tall.\n",
    "\n",
    "Temperature: The temperature can be 25°C, 25.3°C, or 25.31°C.\n",
    "\n",
    "Weight: A package can weigh 2kg, 2.5kg, or 2.55kg.\n",
    "\n",
    "Categorical Variables 🏷️\n",
    "A categorical variable places an observation into a specific group or category. The values are labels, and there is a finite number of categories.\n",
    "\n",
    "\n",
    "Key Idea: Can be counted, not measured.\n",
    "\n",
    "Examples:\n",
    "\n",
    "T-Shirt Color: \"Red,\" \"Blue,\" \"Green.\"\n",
    "\n",
    "Animal Type: \"Dog,\" \"Cat,\" \"Bird.\"\n",
    "\n",
    "Marital Status: \"Single,\" \"Married,\" \"Divorced.\"\n",
    "\n",
    "Categorical variables can be further divided into two types:\n",
    "\n",
    "Nominal: The categories have no intrinsic order. For example, there's no logical order to colors like \"Red,\" \"Blue,\" and \"Green.\"\n",
    "\n",
    "Ordinal: The categories have a meaningful order or ranking. For example, \"Customer Satisfaction\" ratings like \"Low,\" \"Medium,\" and \"High\" have a clear sequence."
   ]
  },
  {
   "cell_type": "markdown",
   "id": "da5cd35e",
   "metadata": {},
   "source": [
    "#### Q.21) What is feature scaling? How does it help in Machine Learning?"
   ]
  },
  {
   "cell_type": "markdown",
   "id": "8230a736",
   "metadata": {},
   "source": [
    "Answer ->\n",
    "\n",
    "Feature scaling is a data preprocessing technique used to standardize the range of the independent variables or features of your data. In simple terms, it's about putting all of your features on the same scale so that no single feature dominates the learning process just because it has larger values.\n",
    "\n",
    "\n",
    "How It Helps in Machine Learning\n",
    "Imagine you're building a model to predict house prices, and you have two features: the number of bedrooms (ranging from 1 to 5) and the total area in square feet (ranging from 800 to 4,000). Without scaling, a machine learning algorithm might incorrectly assume that the area is more important than the number of bedrooms simply because its numerical values are much larger.\n",
    "\n",
    "Feature scaling prevents this by giving every feature an equal footing. Here’s how it helps:\n",
    "\n",
    "1. Improves Algorithm Performance and Convergence\n",
    "Many machine learning algorithms perform much better and converge faster when features are on a relatively similar scale. This is especially true for:\n",
    "\n",
    "Gradient Descent-Based Algorithms (e.g., Linear Regression, Logistic Regression, Neural Networks): These algorithms update model weights based on the feature values. If features are on vastly different scales, the optimization path to the best solution can be long and inefficient. Scaling creates a more direct path, speeding up the training process significantly.\n",
    "\n",
    "\n",
    "\n",
    "Distance-Based Algorithms (e.g., K-Nearest Neighbors (KNN), K-Means Clustering, Support Vector Machines (SVM)): These algorithms rely on calculating the distance between data points. If one feature has a much larger scale than others (like square footage vs. number of bedrooms), it will dominate the distance calculation, making the model biased towards that feature.\n",
    "\n",
    "\n",
    "2. Ensures Fair Contribution of All Features\n",
    "Scaling ensures that the model learns the true relationship between each feature and the outcome, rather than being influenced by the arbitrary scale of the features. It helps the model to be more objective and often leads to a more accurate and robust result.\n",
    "\n",
    "\n",
    "In short, feature scaling is a crucial step that ensures your model is fair to all features and helps it train more efficiently. 🤖"
   ]
  },
  {
   "cell_type": "markdown",
   "id": "3e21451a",
   "metadata": {},
   "source": [
    "#### Q.22) How do we perform scaling in Python?"
   ]
  },
  {
   "cell_type": "code",
   "execution_count": 4,
   "id": "5b7782b1",
   "metadata": {},
   "outputs": [
    {
     "name": "stdout",
     "output_type": "stream",
     "text": [
      "Original Data:\n",
      "    Age  Salary\n",
      "0   25   50000\n",
      "1   30   60000\n",
      "2   35   75000\n",
      "3   40   90000\n",
      "4   45  110000\n",
      "\n",
      "Scaled Data (StandardScaler):\n",
      " [[-1.41421356 -1.26439085]\n",
      " [-0.70710678 -0.79609794]\n",
      " [ 0.         -0.09365858]\n",
      " [ 0.70710678  0.60878078]\n",
      " [ 1.41421356  1.54536659]]\n"
     ]
    }
   ],
   "source": [
    "import pandas as pd\n",
    "from sklearn.preprocessing import StandardScaler\n",
    "\n",
    "# Sample data\n",
    "data = {'Age': [25, 30, 35, 40, 45],\n",
    "        'Salary': [50000, 60000, 75000, 90000, 110000]}\n",
    "df = pd.DataFrame(data)\n",
    "\n",
    "# 1. Create an instance of the scaler\n",
    "scaler = StandardScaler()\n",
    "\n",
    "# 2. Fit and transform the data\n",
    "scaled_data = scaler.fit_transform(df)\n",
    "\n",
    "print(\"Original Data:\\n\", df)\n",
    "print(\"\\nScaled Data (StandardScaler):\\n\", scaled_data)"
   ]
  },
  {
   "cell_type": "code",
   "execution_count": 5,
   "id": "50b4258f",
   "metadata": {},
   "outputs": [
    {
     "name": "stdout",
     "output_type": "stream",
     "text": [
      "Original Data:\n",
      "    Age  Salary\n",
      "0   25   50000\n",
      "1   30   60000\n",
      "2   35   75000\n",
      "3   40   90000\n",
      "4   45  110000\n",
      "\n",
      "Scaled Data (MinMaxScaler):\n",
      " [[0.         0.        ]\n",
      " [0.25       0.16666667]\n",
      " [0.5        0.41666667]\n",
      " [0.75       0.66666667]\n",
      " [1.         1.        ]]\n"
     ]
    }
   ],
   "source": [
    "import pandas as pd\n",
    "from sklearn.preprocessing import MinMaxScaler\n",
    "\n",
    "# Sample data (same as above)\n",
    "data = {'Age': [25, 30, 35, 40, 45],\n",
    "        'Salary': [50000, 60000, 75000, 90000, 110000]}\n",
    "df = pd.DataFrame(data)\n",
    "\n",
    "# 1. Create an instance of the scaler\n",
    "scaler = MinMaxScaler()\n",
    "\n",
    "# 2. Fit and transform the data\n",
    "scaled_data = scaler.fit_transform(df)\n",
    "\n",
    "print(\"Original Data:\\n\", df)\n",
    "print(\"\\nScaled Data (MinMaxScaler):\\n\", scaled_data)"
   ]
  },
  {
   "cell_type": "markdown",
   "id": "83eb7063",
   "metadata": {},
   "source": [
    "#### Q.23) What is sklearn.preprocessing?"
   ]
  },
  {
   "cell_type": "markdown",
   "id": "55369294",
   "metadata": {},
   "source": [
    "Answer ->\n",
    "\n",
    "sklearn.preprocessing is a module in the Scikit-learn library that provides essential tools for cleaning, transforming, and preparing raw data so it can be effectively used by machine learning algorithms.\n",
    "\n",
    "Many machine learning models assume that the input data is clean, well-scaled, and in a numerical format. The functions in this module help you get your data into this required state. 🛠️\n",
    "\n",
    "Key Preprocessing Techniques\n",
    "* Scaling Features\n",
    "Scaling changes the range of your numerical data so that features with large values don't dominate the model's learning process. This is crucial for algorithms that are sensitive to the magnitude of features.\n",
    "\n",
    "StandardScaler: Scales data to have a mean of 0 and a standard deviation of 1.\n",
    "\n",
    "MinMaxScaler: Scales data to a given range, typically between 0 and 1.\n",
    "\n",
    "* Encoding Categorical Features\n",
    "Machine learning models require numerical input, so categorical data (like text labels \"red,\" \"green,\" or \"blue\") must be converted into a numerical format.\n",
    "\n",
    "OneHotEncoder: Converts a categorical feature into multiple new binary (0/1) features.\n",
    "\n",
    "LabelEncoder: Converts each category into a unique integer (e.g., \"red\" -> 0, \"green\" -> 1).\n",
    "\n",
    "* Normalization\n",
    "Normalization is the process of scaling individual samples (rows) to have a unit norm (a length of 1). This is useful when the direction of the data matters more than its magnitude.\n",
    "\n",
    "Normalizer: Rescales each row of your data. This is different from scaling, which operates on columns (features).\n",
    "\n",
    "In summary, sklearn.preprocessing is the toolbox you use to make your raw data clean and structured, which is a critical step for building a high-performing machine learning model."
   ]
  },
  {
   "cell_type": "markdown",
   "id": "1ef0fe72",
   "metadata": {},
   "source": [
    "#### Q.24) How do we split data for model fitting (training and testing) in Python?"
   ]
  },
  {
   "cell_type": "code",
   "execution_count": null,
   "id": "f5ecf08d",
   "metadata": {},
   "outputs": [],
   "source": [
    "# Import the function from the library\n",
    "from sklearn.model_selection import train_test_split\n",
    "\n",
    "# Assume 'X' contains your features (e.g., a pandas DataFrame or NumPy array)\n",
    "# and 'y' contains your target variable (the labels or values you want to predict)\n",
    "\n",
    "# Example placeholder data:\n",
    "# X = your_features\n",
    "# y = your_target\n",
    "\n",
    "# Split the data into training and testing sets\n",
    "X_train, X_test, y_train, y_test = train_test_split(\n",
    "    X, y, test_size=0.2, random_state=42\n",
    ")\n",
    "\n",
    "# Now you have four new datasets:\n",
    "# X_train: Features for training the model\n",
    "# y_train: Labels for training the model\n",
    "# X_test: Features for testing the model\n",
    "# y_test: Labels for testing the model"
   ]
  },
  {
   "cell_type": "markdown",
   "id": "e8404ef6",
   "metadata": {},
   "source": [
    "Answer ->\n",
    "Explanation of the Parameters\n",
    "X, y: These are your full datasets. X is the data with the features used for prediction, and y is the target variable (what you are trying to predict).\n",
    "\n",
    "test_size=0.2: This argument determines the proportion of the dataset to allocate to the test set. Here, 0.2 means 20% of the data will be used for testing, and the remaining 80% will be used for training. This is a very common split, though 70/30 is also widely used.\n",
    "\n",
    "random_state=42: This is a crucial parameter for reproducibility. The train_test_split function randomly shuffles the data before splitting it. By setting a random_state to any integer (42 is just a popular convention), you ensure that you get the exact same split every time you run the code. This makes your results reproducible and easier to debug. If you omit it, you'll get a different random split each time.\n",
    "\n",
    "\n",
    "stratify=y (Optional but important): If you are working on a classification problem with an imbalanced dataset (e.g., 90% of samples are class A and 10% are class B), you should add the stratify=y argument. This ensures that the training and test sets have the same proportion of each class as the original dataset, which prevents biased evaluation.\n"
   ]
  },
  {
   "cell_type": "markdown",
   "id": "fbd69dba",
   "metadata": {},
   "source": [
    "#### Q.25) Explain data encoding?"
   ]
  },
  {
   "cell_type": "markdown",
   "id": "442e681b",
   "metadata": {},
   "source": [
    "Answer ->\n",
    "\n",
    "Data encoding is the process of converting categorical data (text labels) into a numerical format that a machine learning algorithm can understand and work with.\n",
    "\n",
    "Think of it as translating words into a language of numbers that a computer can process. Machine learning models are built on mathematics, so they require all input features to be numerical. "
   ]
  }
 ],
 "metadata": {
  "kernelspec": {
   "display_name": "Python 3",
   "language": "python",
   "name": "python3"
  },
  "language_info": {
   "codemirror_mode": {
    "name": "ipython",
    "version": 3
   },
   "file_extension": ".py",
   "mimetype": "text/x-python",
   "name": "python",
   "nbconvert_exporter": "python",
   "pygments_lexer": "ipython3",
   "version": "3.13.9"
  }
 },
 "nbformat": 4,
 "nbformat_minor": 5
}
