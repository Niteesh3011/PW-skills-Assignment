{
 "cells": [
  {
   "cell_type": "markdown",
   "id": "81a1650b",
   "metadata": {},
   "source": [
    "Name : Niteesh pandit,    \n",
    "Email : prajaptiniteesh7@gmail.com,  \n",
    "Mo. No. : 8530853409 "
   ]
  },
  {
   "cell_type": "markdown",
   "id": "1bbb2687",
   "metadata": {},
   "source": [
    "### Data Types and Structures Questions"
   ]
  },
  {
   "cell_type": "markdown",
   "id": "b141f852",
   "metadata": {},
   "source": [
    "## 1.  What are data structures, and why are they important?\n"
   ]
  },
  {
   "cell_type": "markdown",
   "id": "5a6d080f",
   "metadata": {},
   "source": [
    "Answer -> Data structures play a pivotal role in computer science and programming, as they are essential for storing, \n",
    "organizing, and manipulating data efficiently.\n",
    " Python, a versatile and popular programming language, provides a wide array of data structures to \n",
    "accommodate various needs\n",
    " Data Handling: Programming often involves working with data, which can be numbers, text, or more \n",
    "complex information. Data structures are like specialized containers that help us manage this data \n",
    "efficiently\n",
    " Organization: Just as you use different shelves, drawers, and containers at home to organize various \n",
    "items, in programming, you use different data structures to organize different types of data\n",
    " Efficiency: The choice of data structure can significantly impact how quickly you can access, manipulate, \n",
    "and process your data. Picking the right data structure is crucial for writing efficient code\n",
    " Flexibility: Different data structures serve different purposes. Some are great for storing lots of data, while \n",
    "others are optimized for quick searches or data retrieval\n",
    " Built-in Tools: Python provides a rich set of built-in data structures that make it easier for programmers to \n",
    "handle common data management tasks without having to build everything from scratch\n",
    " Real-World Analogy: You can think of data structures as tools in your toolbox. For example, if you want to \n",
    "organize your books, you might use a bookshelf (analogous to a list). If you want to store unique items, \n",
    "like a collection of rare coins, you'd use a display case (analogous to a set)\n",
    " Custom Data Structures: In addition to built-in data structures, Python allows you to create custom data \n",
    "structures to suit your specific needs. This is akin to crafting your own unique container for a particular \n",
    "purpose "
   ]
  },
  {
   "cell_type": "markdown",
   "id": "d2e0dea9",
   "metadata": {},
   "source": [
    "## 2.  Explain the difference between mutable and immutable data types with examples?\n"
   ]
  },
  {
   "cell_type": "markdown",
   "id": "d38284af",
   "metadata": {},
   "source": [
    "Answer -> The key idea is whether an object can be modified \"in-place\" (in its current memory location) or not.\n",
    "\n",
    "Mutable: Think of it as having a variable that points to a box. You can change the contents inside that box without needing a new box. The location of the box remains the same.\n",
    "example --> \n",
    "\n"
   ]
  },
  {
   "cell_type": "code",
   "execution_count": 1,
   "id": "e262c493",
   "metadata": {},
   "outputs": [
    {
     "name": "stdout",
     "output_type": "stream",
     "text": [
      "Original string: 'hello' at memory ID: 2041923797136\n",
      "New string: 'hello world' at memory ID: 2041928680688\n"
     ]
    }
   ],
   "source": [
    "# Initial string\n",
    "my_string = \"hello\"\n",
    "print(f\"Original string: '{my_string}' at memory ID: {id(my_string)}\")\n",
    "\n",
    "# \"Changing\" the string\n",
    "my_string = my_string + \" world\"\n",
    "print(f\"New string: '{my_string}' at memory ID: {id(my_string)}\")\n"
   ]
  },
  {
   "cell_type": "markdown",
   "id": "2b3d3aad",
   "metadata": {},
   "source": [
    "Immutable: You have a variable pointing to a sealed, transparent box. You can see what's inside, but you can't change it. To have a different value, you must get a completely new sealed box and point your variable to it.\n",
    "example -->\n",
    "\n"
   ]
  },
  {
   "cell_type": "code",
   "execution_count": 2,
   "id": "48f23887",
   "metadata": {},
   "outputs": [
    {
     "name": "stdout",
     "output_type": "stream",
     "text": [
      "Original list: [1, 2, 3] at memory ID: 2041929308224\n",
      "Modified list: [99, 2, 3, 4] at memory ID: 2041929308224\n"
     ]
    }
   ],
   "source": [
    "# Initial list\n",
    "my_list = [1, 2, 3]\n",
    "print(f\"Original list: {my_list} at memory ID: {id(my_list)}\")\n",
    "\n",
    "# Changing the list\n",
    "my_list.append(4)\n",
    "my_list[0] = 99\n",
    "print(f\"Modified list: {my_list} at memory ID: {id(my_list)}\")"
   ]
  },
  {
   "cell_type": "markdown",
   "id": "53085c5c",
   "metadata": {},
   "source": [
    "## 3. What are the main differences between lists and tuples in Python?\n"
   ]
  },
  {
   "cell_type": "markdown",
   "id": "4cee00a3",
   "metadata": {},
   "source": [
    "Answer -> \n",
    "1) List :\n",
    "   - A list is one of the most versatile and commonly used data structures in Python. It is an ordered collection \n",
    "     of elements that can be of any data type, such as integers, strings, or other lists.\n",
    "   - Lists are mutable, which means you can change their contents after creation.\n",
    "   - You can access elements by their index, and you can perform various operations like adding, removing, or \n",
    "     sorting elements.\n"
   ]
  },
  {
   "cell_type": "code",
   "execution_count": 4,
   "id": "d1a96bf2",
   "metadata": {},
   "outputs": [
    {
     "name": "stdout",
     "output_type": "stream",
     "text": [
      "Updated list of phones: ['Realme', 'Samsung', 'Iphone', 'Oppo']\n"
     ]
    }
   ],
   "source": [
    "# Creating a list of phone\n",
    "Phones = [\"Realme\", \"Mi\", \"Samsung\", \"Iphone\"]\n",
    " # Adding a new phone to the list\n",
    "Phones.append(\"Oppo\")\n",
    " # Removing a phone from the list\n",
    "Phones.remove(\"Mi\")\n",
    " # Printing the updated list\n",
    "print(\"Updated list of phones:\", Phones)"
   ]
  },
  {
   "cell_type": "markdown",
   "id": "c25da5d1",
   "metadata": {},
   "source": [
    "2) Tuple :\n",
    "  - Tuples are similar to lists, but they are immutable.\n",
    "  - Once you create a tuple, you cannot change its content. This immutability makes tuples useful for situations where you want to ensure  \n",
    "    that the data remains constant.\n",
    "  - They are often used to represent collections of related values"
   ]
  },
  {
   "cell_type": "code",
   "execution_count": 5,
   "id": "d8250208",
   "metadata": {},
   "outputs": [
    {
     "name": "stdout",
     "output_type": "stream",
     "text": [
      "Name: Arjun, Age: 28, City: Bengaluru\n"
     ]
    }
   ],
   "source": [
    "# Packing values into a tuple\n",
    "person = (\"Arjun\", 28, \"Bengaluru\")\n",
    "# Unpacking values from the tuple\n",
    "name, age, city = person\n",
    "print(f\"Name: {name}, Age: {age}, City: {city}\")"
   ]
  },
  {
   "cell_type": "markdown",
   "id": "8f2f82c7",
   "metadata": {},
   "source": [
    "## 4. Describe how dictionaries store data?"
   ]
  },
  {
   "cell_type": "markdown",
   "id": "beeb9176",
   "metadata": {},
   "source": [
    "Answer -> \n",
    "- Dictionaries are a data structure in Python that store data as key-value pairs.\n",
    "- They are unordered collections and are defined using curly braces {}. Keys are unique and immutable, while values can be of any data type\n",
    "- Keys are unique and immutable, while values can be of any data type\n",
    "- Dictionaries are created using {} and key-value pairs separated by colons\n",
    "- Elements are accessed by referencing their keys using square brackets []."
   ]
  },
  {
   "cell_type": "markdown",
   "id": "3a0d5202",
   "metadata": {},
   "source": [
    "##  5. Why might you use a set instead of a list in Python?"
   ]
  },
  {
   "cell_type": "markdown",
   "id": "4a3f76ad",
   "metadata": {},
   "source": [
    "Answer -> \n",
    "- A set, by definition, cannot contain duplicate elements. This makes it the perfect tool when you only care about the presence of an element, not how many times it appears.\n",
    "- Sets use a data structure called a hash table. This allows Python to check for an item's existence almost instantly, regardless of the set's size (an operation with O(1) time complexity).\n",
    "\n",
    "- Lists must be checked element by element, from beginning to end, until a match is found (an operation with O(n) time complexity).\n",
    "\n",
    "Analogy:\n",
    "\n",
    "Checking a list is like a security guard checking a line of people one by one to find someone. The longer the line, the longer it takes.\n",
    "\n",
    "Checking a set is like a security guard having a magical directory. They can look up a name and instantly know if that person is in the venue, no matter how many people are there."
   ]
  },
  {
   "cell_type": "markdown",
   "id": "a251e8d8",
   "metadata": {},
   "source": [
    "## 6. What is a string in Python, and how is it different from a list?"
   ]
  },
  {
   "cell_type": "markdown",
   "id": "7c6fbb6d",
   "metadata": {},
   "source": [
    "Answer -> \n",
    "### String in Python:\n",
    "- A string is a fundamental data type in Python for storing textual information. You can think of it as plain text. Strings are created by enclosing characters in either single (') or double (\") quotes.\n",
    "- The most important characteristic of a string is that it is immutable. Once a string is created, it cannot be modified in place.\n",
    "\n",
    "### List in Python:\n",
    "- A list is a versatile data structure that acts as an ordered container. It can hold a collection of items, and these items can be of different data types—integers, strings, and even other lists. Lists are created using square brackets [].\n",
    "- The most important characteristic of a list is that it is mutable. You can freely add, remove, or change its elements after it has been created.\n",
    "\n",
    "### Difference between String and List:\n",
    "- Mutability (The Core Difference) :\n",
    "  Strings are immutable: To \"change\" a string, you must create an entirely new one.\n",
    "\n",
    "  Lists are mutable: You can change, add, or remove elements from a list without creating a new list object.\n",
    "\n",
    "- Type of Elements :\n",
    "  Strings: Can only contain characters.\n",
    "\n",
    "  Lists: Can contain any Python object—int, str, float, bool, other lists, etc.\n",
    "\n",
    "- Methods and Operations :\n",
    "\n",
    "  String methods are for textual manipulation, like .upper(), .lower(), .strip(), .split(), and .replace().\n",
    "\n",
    "  List methods are for collection management, like .append(), .pop(), .sort(), and .remove()."
   ]
  },
  {
   "cell_type": "markdown",
   "id": "e25251a4",
   "metadata": {},
   "source": [
    "## 7. How do tuples ensure data integrity in Python?"
   ]
  },
  {
   "cell_type": "markdown",
   "id": "13e6b0c1",
   "metadata": {},
   "source": [
    "Answer -> \n",
    "### The Power of Immutability :\n",
    "- Immutability is the core principle behind a tuple's role in data integrity. Think of a list as an open box where items can be swapped or        removed at any time. A tuple, on the other hand, is like a sealed, transparent envelope . You can see the contents, but you can't change them without creating a whole new envelope.\n",
    "\n",
    "- This prevents both accidental and intentional modifications to your data.\n",
    "\n",
    "#### 1. Preventing Accidental Changes\n",
    "When you pass data to a function or different parts of a program, using a tuple guarantees that the data cannot be unexpectedly modified. This makes your code more predictable and easier to debug. If you pass a list, a function might alter it, leading to subtle bugs elsewhere.\n",
    "\n",
    "#### 2. Serving as Reliable Dictionary Keys 🔑\n",
    "Dictionaries require their keys to be hashable, meaning they must have a value that never changes. This is essential for the dictionary to quickly look up the data associated with a key.\n",
    "\n",
    "Tuples are immutable, so their hash value is constant. This makes them excellent, reliable dictionary keys.\n",
    "\n",
    "Lists are mutable, so their hash value could change if the list is modified. Therefore, they cannot be used as dictionary keys.\n",
    "\n",
    "\n"
   ]
  },
  {
   "cell_type": "code",
   "execution_count": 6,
   "id": "0a11feda",
   "metadata": {},
   "outputs": [
    {
     "name": "stdout",
     "output_type": "stream",
     "text": [
      "Nashik\n"
     ]
    }
   ],
   "source": [
    "# A tuple of coordinates is a perfect, unchangeable key\n",
    "locations = {\n",
    "    (20.0067, 73.7922): \"Nashik\",  # Tuple as a key (Works!)\n",
    "    (19.0760, 72.8777): \"Mumbai\"\n",
    "}\n",
    "print(locations[(20.0067, 73.7922)]) # Output: Nashik\n",
    "\n",
    "# A list cannot be a key because its contents could change\n",
    "# locations_list_key = {[18.5204, 73.8567]: \"Pune\"} # This will raise a TypeError\n"
   ]
  },
  {
   "cell_type": "markdown",
   "id": "743c8be0",
   "metadata": {},
   "source": [
    "#### 3. Securing Function Return Values\n",
    "It's common for a Python function to return multiple values. When it does, Python bundles them into a tuple. This ensures that the result of the function is a fixed, unchangeable record.\n",
    "\n",
    "\n",
    "\n"
   ]
  },
  {
   "cell_type": "code",
   "execution_count": 9,
   "id": "957aba32",
   "metadata": {},
   "outputs": [
    {
     "name": "stdout",
     "output_type": "stream",
     "text": [
      "Data returned: ('Chandra', 34)\n"
     ]
    }
   ],
   "source": [
    "def get_user_info(self):\n",
    "    # Imagine fetching from a database\n",
    "    name = \"Chandra\"\n",
    "    age = 34\n",
    "    return name, age # Returns a tuple ('Chandra', 34)\n",
    "\n",
    "user_data = get_user_info(1)\n",
    "print(f\"Data returned: {user_data}\")\n",
    "# user_data[1] = 35  # This would fail, preserving the integrity of the returned data"
   ]
  },
  {
   "cell_type": "markdown",
   "id": "9ded6f1a",
   "metadata": {},
   "source": [
    "## 8. What is a hash table, and how does it relate to dictionaries in Python?\n"
   ]
  },
  {
   "cell_type": "markdown",
   "id": "2825bf1b",
   "metadata": {},
   "source": [
    "Answer -> \n",
    "A hash table is a data structure that allows for extremely fast data lookup using a key-value pair system. It is the underlying engine that powers Python's dictionary (dict) type.\n",
    "\n",
    "### The Library Analogy \n",
    "Imagine a massive library without a catalog system. To find a book (the value), you'd have to check every single shelf—a slow and painful process.\n",
    "\n",
    "A hash table is like the library's modern catalog system.\n",
    "\n",
    "You give the librarian the book's title (the key).\n",
    "\n",
    "The librarian uses a special system (the hash function) to instantly convert that title into a specific \"call number\" or shelf location (the hash code or index).\n",
    "\n",
    "You go directly to that shelf and retrieve your book.\n",
    "\n",
    "This system avoids a full search, making the process incredibly fast, no matter how large the library is.\n",
    "\n",
    "### The Core Components\n",
    "A hash table works using three main parts:\n",
    "\n",
    "Key: The unique identifier for your data. In Python dictionaries, keys must be immutable (like strings, numbers, or tuples) because their value cannot change.\n",
    "\n",
    "\n",
    "Hash Function: A special function that takes the key and computes a unique, fixed-size integer from it called a hash code. This process is deterministic, meaning the same key will always produce the same hash code.\n",
    "\n",
    "Bucket/Slot: An array in memory where the values are stored. The hash code is used as an index to instantly locate the correct bucket for a given key.\n",
    "\n",
    "### How It Powers Python Dictionaries \n",
    "When you work with a Python dictionary, you are using a hash table behind the scenes.\n",
    "\n",
    "Let's say you write this line of code:\n",
    "\n",
    "\n",
    "my_data = {\"name\": \"Arjun\", \"city\": \"Nashik\"}\n",
    "Here’s what happens when you retrieve a value: my_data[\"city\"]\n",
    "\n",
    "Hashing the Key: Python takes the key \"city\" and feeds it into its internal hash function. The function computes a hash code from the string (e.g., 48218390).\n",
    "\n",
    "Finding the Bucket: Python uses this hash code to calculate an index in the dictionary's internal memory array. It essentially says, \"Go to slot #48218390.\"\n",
    "\n",
    "Retrieving the Value: Python goes directly to that memory slot and retrieves the value stored there, which is \"Nashik\".\n",
    "\n",
    "Because it can compute the location directly from the key instead of searching, retrieving data from a dictionary is an extremely fast operation (known as constant time or $O(1)$)."
   ]
  },
  {
   "cell_type": "markdown",
   "id": "bd7b58bc",
   "metadata": {},
   "source": [
    "## 9. Can lists contain different data types in Python?"
   ]
  },
  {
   "cell_type": "markdown",
   "id": "9a8cdafe",
   "metadata": {},
   "source": [
    "Answer ->\n",
    "yes, List can contain different types of data types\n",
    "example, float, int, string, another list, bool, tuple, dict "
   ]
  },
  {
   "cell_type": "markdown",
   "id": "c604b504",
   "metadata": {},
   "source": [
    "## 10.  Explain why strings are immutable in Python."
   ]
  },
  {
   "cell_type": "markdown",
   "id": "e04ee798",
   "metadata": {},
   "source": [
    "Answer ->\n",
    "### 1. Efficiency and Memory Optimization :\n",
    "Because strings are immutable, Python can optimize resources by making multiple variables that hold the same string value point to the same object in memory. This process is called string interning.\n",
    "\n",
    "If strings were mutable, this optimization would be impossible. Changing the string for one variable would unintentionally change it for all other variables pointing to it.\n",
    "\n",
    "\n",
    "### 2. Making Dictionary Keys Reliable :\n",
    "Dictionaries and sets in Python require their keys to be hashable. An object is hashable if its hash value—a unique integer that represents its content—never changes during its lifetime.\n",
    "\n",
    "Since a string is immutable, its content is fixed, guaranteeing its hash value will always be the same. This makes it a perfect, reliable key for a dictionary.\n",
    "\n",
    "If strings were mutable, you could add a string as a key to a dictionary and then change its value. This would alter its hash value, breaking the dictionary's internal structure and making it impossible to retrieve the associated value.\n",
    "\n",
    "### 3. Safety in Concurrent Applications :\n",
    "When multiple threads in a program access the same variable, there is a risk that they could try to change it simultaneously, leading to corrupted data. This is called a \"race condition.\"\n",
    "\n",
    "Because strings are immutable, they are inherently thread-safe. Multiple threads can read from and share the same string data without any risk of one thread changing it while another is using it. This eliminates the need for complex and performance-degrading locking mechanisms.\n",
    "\n",
    "### 4. Predictability and Simplicity :\n",
    "Immutability acts as a contract. When you pass a string to a function, you have an absolute guarantee that the function cannot change the string itself. It can only return a new string. This prevents bugs caused by functions unexpectedly modifying data they receive, a common problem when working with mutable objects like lists."
   ]
  },
  {
   "cell_type": "code",
   "execution_count": 11,
   "id": "3109524d",
   "metadata": {},
   "outputs": [
    {
     "name": "stdout",
     "output_type": "stream",
     "text": [
      "ID of a: 2041935212208\n",
      "ID of b: 2041935216304\n",
      "Are they the same object? False\n"
     ]
    },
    {
     "data": {
      "text/plain": [
       "'Output:\\n\\nID of a: 2351287313840\\nID of b: 2351287313840\\nAre they the same object? True\\nThis reuse of memory saves significant space, especially in large applications that use the same string literals (like \"error\", \"id\", or \"name\") over and over.'"
      ]
     },
     "execution_count": 11,
     "metadata": {},
     "output_type": "execute_result"
    }
   ],
   "source": [
    "# Python can store these two variables in the same memory location\n",
    "a = \"hello world\"\n",
    "b = \"hello world\"\n",
    "\n",
    "# The id() function shows the memory address\n",
    "print(f\"ID of a: {id(a)}\")\n",
    "print(f\"ID of b: {id(b)}\")\n",
    "print(f\"Are they the same object? {a is b}\")\n",
    "\n",
    "'''Output:\n",
    "\n",
    "ID of a: 2351287313840\n",
    "ID of b: 2351287313840\n",
    "Are they the same object? True\n",
    "This reuse of memory saves significant space, especially in large applications that use the same string literals (like \"error\", \"id\", or \"name\") over and over.'''"
   ]
  },
  {
   "cell_type": "markdown",
   "id": "76fe5cf4",
   "metadata": {},
   "source": [
    "## 11. What advantages do dictionaries offer over lists for certain tasks?"
   ]
  },
  {
   "cell_type": "markdown",
   "id": "78f89569",
   "metadata": {},
   "source": [
    "Answer ->\n",
    "Key Advantages of Dictionaries Over Lists\n",
    "- Fast Lookup by Key:\n",
    "Dictionaries offer fast, constant-time access to values because they use a hash table to map keys directly to values. In contrast, lists require a linear search to find a specific item, which gets slower as the list grows.\n",
    "\n",
    "- Semantic Clarity:\n",
    "Dictionary keys provide meaningful labels, improving code readability. For example, user[\"name\"] is much clearer than accessing an item by its position, like user[0].\n",
    "\n",
    "- Flexible Data Organization:\n",
    "Dictionaries are great for storing structured data because they can hold heterogeneous keys and values. They act like a mini-database record, perfect for storing complex information like a user profile ({\"name\": \"Niteesh\", \"skills\": [\"Python\", \"ML\"]}). Lists, on the other hand, are better for simple, ordered collections of similar items.\n",
    "\n",
    "- Efficient Updates and Indexing:\n",
    "Updating a value in a dictionary is fast and direct using its key (e.g., data[\"score\"] = 95). You also don't need to manually track indices, which reduces the chance of bugs and makes code cleaner. This is especially useful for tasks that involve mapping relationships, like counting word frequencies.\n",
    "\n",
    "- When to Use Lists:\n",
    "\n",
    "Lists are a better choice when order is important, when you need to perform bulk operations on numeric data (like with NumPy arrays), or when memory usage is a critical concern for very large datasets\n"
   ]
  },
  {
   "cell_type": "markdown",
   "id": "491a1732",
   "metadata": {},
   "source": [
    "## 12. Describe a scenario where using a tuple would be preferable over a list?"
   ]
  },
  {
   "cell_type": "markdown",
   "id": "f99184e1",
   "metadata": {},
   "source": [
    "Answer  ->\n",
    "A tuple would be preferable over a list in a scenario where you need to store a fixed collection of items that should not change. This is because tuples are immutable, meaning their contents cannot be modified after creation.\n",
    "\n",
    "\n",
    "A great example is storing the coordinates of a point on a 2D plane, such as (x, y). The x and y values are intrinsically linked and shouldn't be individually altered or reordered. Using a tuple for this data guarantees that the coordinates will remain (10, 20) and not accidentally be changed to (10, 30) or have an element removed.\n",
    "\n",
    "\n",
    "Here's a quick breakdown of why a tuple is better for this scenario:\n",
    "\n",
    "Data Integrity: The immutability of a tuple ensures the data's integrity. You can trust that the values within it will not be changed by other parts of the program. This reduces the risk of bugs.\n",
    "\n",
    "\n",
    "Performance: Tuples are generally more memory-efficient and slightly faster than lists because their size is fixed.\n",
    "\n",
    "Clarity: Using a tuple signals to other programmers that this data collection is not meant to be modified, making the code's intent clearer.\n",
    "\n",
    "In contrast, a list is designed for situations where you expect the collection of items to grow, shrink, or change. For example, a list of student names on a roster would be a good use case for a list, as students might be added or removed."
   ]
  },
  {
   "cell_type": "markdown",
   "id": "6576c897",
   "metadata": {},
   "source": [
    "## 13.  How do sets handle duplicate values in Python?"
   ]
  },
  {
   "cell_type": "markdown",
   "id": "4b2709e4",
   "metadata": {},
   "source": [
    "Answer ->\n",
    "Sets in Python automatically discard duplicate values. When you create a set, either by using curly braces {} or the set() constructor, any identical elements are stored only once. This means a set will only ever contain unique items.\n",
    "\n",
    "\n",
    "How It Works\n",
    "When you create a set, Python iterates through the provided elements. For each element, it checks if it already exists in the set. If it does, the new instance is simply ignored. If the element is new, it is added to the set. This behavior makes sets incredibly useful for tasks like removing duplicates from a list.\n",
    "\n",
    "\n",
    "Notice that the duplicates 1 and 2 have been removed, and the final set contains only one of each unique number. Sets also do not maintain any specific order, so the output order might vary.\n",
    "\n",
    "\n",
    "\n"
   ]
  },
  {
   "cell_type": "code",
   "execution_count": 12,
   "id": "ab6a5f64",
   "metadata": {},
   "outputs": [
    {
     "name": "stdout",
     "output_type": "stream",
     "text": [
      "{1, 2, 3, 4, 5}\n"
     ]
    }
   ],
   "source": [
    "'''Example:\n",
    "\n",
    "Let's say you have a list with some duplicate numbers:'''\n",
    "\n",
    "\n",
    "numbers = [1, 2, 3, 2, 4, 1, 5]\n",
    "#To get a collection of only the unique numbers, you can convert this list to a set:\n",
    "\n",
    "unique_numbers = set(numbers)\n",
    "print(unique_numbers)\n"
   ]
  },
  {
   "cell_type": "markdown",
   "id": "9363a9f4",
   "metadata": {},
   "source": [
    "## 14. How does the “in” keyword work differently for lists and dictionaries?"
   ]
  },
  {
   "cell_type": "markdown",
   "id": "8e8895a4",
   "metadata": {},
   "source": [
    "Answer ->\n",
    "\n",
    "The \"in\" keyword works differently for lists and dictionaries primarily because it checks for different things: it checks for the presence of a value in a list but for the presence of a key in a dictionary. This difference also affects its performance.\n",
    "\n",
    "- Lists:\n",
    "When you use \"in\" with a list, Python performs a linear search to see if a specific value exists. It checks each element from the beginning of the list until it finds a match or reaches the end. This means the lookup time is O(n), or linear, which can be slow for very large lists.\n",
    "\n",
    "Example:\n",
    "'apple' in ['orange', 'banana', 'apple']\n",
    "Here, Python checks if the value 'apple' is one of the items in the list.\n",
    "\n",
    "- Dictionaries:\n",
    "When used with a dictionary, \"in\" checks if a specified key exists. It leverages the dictionary's underlying hash table to perform this check. Because of this, the lookup is extremely fast, with an average time complexity of O(1), or constant time, regardless of how many items are in the dictionary. It does not check for the presence of a value.\n",
    "\n",
    "Example:\n",
    "'name' in {'name': 'Alice', 'age': 30}\n",
    "Here, Python checks if the key 'name' exists in the dictionary, not if the value 'Alice' is present. To check for a value, you would need to use value in dictionary.values(), which is a much slower, linear search."
   ]
  },
  {
   "cell_type": "markdown",
   "id": "54b3a50f",
   "metadata": {},
   "source": [
    "## 15. Can you modify the elements of a tuple? Explain why or why not?\n"
   ]
  },
  {
   "cell_type": "markdown",
   "id": "e7863c62",
   "metadata": {},
   "source": [
    "Answer ->\n",
    "\n",
    "No, you cannot modify the elements of a tuple after it's been created. This is because tuples are immutable.\n",
    "\n",
    "- Why Tuples Are Immutable :-\n",
    "The term immutable means \"unchangeable.\" When a tuple is created, its size and the values it contains are fixed in memory. You cannot add, remove, or change elements. This immutability is a key design feature that gives tuples several advantages:\n",
    "\n",
    "- Data Integrity: Immutability guarantees that the data stored in a tuple will not be accidentally altered. This is especially useful for representing fixed collections of data, like the coordinates of a point or the days of the week.\n",
    "\n",
    "- Security: Because they can't be changed, tuples are often used as keys in dictionaries, which require hashable (immutable) objects.\n",
    "\n",
    "- Performance: Python can optimize tuples more efficiently than lists because their size and contents are known to be constant.\n",
    "\n"
   ]
  },
  {
   "cell_type": "markdown",
   "id": "607cf08c",
   "metadata": {},
   "source": [
    "## 16. What is a nested dictionary, and give an example of its use case?"
   ]
  },
  {
   "cell_type": "markdown",
   "id": "9484e02c",
   "metadata": {},
   "source": [
    "Answer -> \n",
    "\n",
    "A nested dictionary is a dictionary where the values themselves are also dictionaries. This allows you to create a hierarchical or layered data structure. \n",
    "\n",
    "Example Use Case: Storing a Class Roster with Student Details\n",
    "A perfect use case for a nested dictionary is storing information for a class roster. You can use the outer dictionary's keys to represent student names or IDs, and the value for each key would be another dictionary containing that student's specific details.\n",
    "\n"
   ]
  },
  {
   "cell_type": "code",
   "execution_count": 19,
   "id": "773b39fd",
   "metadata": {},
   "outputs": [],
   "source": [
    "\n",
    "\n",
    "class_roster = {\n",
    "    \"student_101\": {\n",
    "        \"name\": \"Alice\",\n",
    "        \"age\": 16,\n",
    "        \"grades\": {\n",
    "            \"math\": 95,\n",
    "            \"science\": 88,\n",
    "            \"history\": 92\n",
    "        }\n",
    "    },\n",
    "    \"student_102\": {\n",
    "        \"name\": \"Bob\",\n",
    "        \"age\": 17,\n",
    "        \"grades\": {\n",
    "            \"math\": 85,\n",
    "            \"science\": 94,\n",
    "            \"history\": 89\n",
    "        }\n",
    "    }\n",
    "}"
   ]
  },
  {
   "cell_type": "code",
   "execution_count": 20,
   "id": "3b484e37",
   "metadata": {},
   "outputs": [
    {
     "data": {
      "text/plain": [
       "95"
      ]
     },
     "execution_count": 20,
     "metadata": {},
     "output_type": "execute_result"
    }
   ],
   "source": [
    "value = class_roster[\"student_101\"][\"grades\"][\"math\"]  # Update Alice's math grade\n",
    "value"
   ]
  },
  {
   "cell_type": "markdown",
   "id": "f0caa8c7",
   "metadata": {},
   "source": [
    "## 17.  Describe the time complexity of accessing elements in a dictionary."
   ]
  },
  {
   "cell_type": "markdown",
   "id": "5e00fdbe",
   "metadata": {},
   "source": [
    "Answer ->\n",
    "\n",
    "Accessing elements in a dictionary has an average time complexity of O(1), also known as constant time. In the worst-case scenario, the time complexity can degrade to O(n), or linear time.\n",
    "\n",
    "\n",
    "How It Works\n",
    "Dictionaries use a hash table under the hood. When you access a value using a key (e.g., my_dict['key']), Python performs the following steps:\n",
    "\n",
    "Hash the Key: It calculates a hash value for the key. This process is very fast and takes constant time.\n",
    "\n",
    "Find the Location: The hash value is used to determine the exact memory location (or \"bucket\") where the corresponding value is stored. This is also a constant-time operation.\n",
    "\n",
    "Retrieve the Value: Python directly retrieves the value from that memory location.\n",
    "\n",
    "Because these steps are generally independent of the number of items in the dictionary, the average time complexity is constant.\n",
    "\n"
   ]
  },
  {
   "cell_type": "markdown",
   "id": "6141402c",
   "metadata": {},
   "source": [
    "## 18. In what situations are lists preferred over dictionaries?"
   ]
  },
  {
   "cell_type": "markdown",
   "id": "83a1195b",
   "metadata": {},
   "source": [
    "Answer ->\n",
    "\n",
    "Lists are preferred over dictionaries when the order of items is important, and you need to access elements by their position.\n",
    "\n",
    "Key Situations for Using Lists\n",
    "- When Order Matters \n",
    "If the sequence of your data is meaningful and needs to be maintained, a list is the correct choice. For example, storing the steps in a recipe or the turns in a game. Dictionaries, on the other hand, do not guarantee a fixed order.\n",
    "\n",
    "\n",
    "\n",
    "- Accessing by Index \n",
    "If you frequently need to access elements using a numeric index (like the first item, list[0]), lists are the natural choice. This is faster than iterating through a dictionary's keys to find the nth item.\n",
    "\n",
    "- Storing Collections of Similar Data \n",
    "Lists are ideal for collections of homogeneous data, such as a list of names, numbers, or a series of sensor readings. They are also more memory-efficient than dictionaries for this type of data.\n",
    "\n",
    "- Handling Duplicates \n",
    "Unlike sets and dictionaries, lists can easily store and manage duplicate values. If your data naturally contains repeated items (e.g., a list of all votes cast in an election), a list is necessary to preserve all the data points."
   ]
  },
  {
   "cell_type": "markdown",
   "id": "d7ff147f",
   "metadata": {},
   "source": [
    "## 19. Why are dictionaries considered unordered, and how does that affect data retrieval?"
   ]
  },
  {
   "cell_type": "markdown",
   "id": "23e3d487",
   "metadata": {},
   "source": [
    "Answer ->\n",
    "\n",
    "Dictionaries are considered unordered because they don't store elements in a specific, predictable sequence based on insertion order or any other criteria. Instead, they use a hash table for efficient key-based lookups. This underlying structure is what affects data retrieval.\n",
    "\n",
    "How the Unordered Nature Affects Retrieval\n",
    "- The lack of a fixed order means you cannot rely on indexing to retrieve a specific element, unlike a list where my_list[0] will always return the first item. If you iterate through a dictionary, the order of the key-value pairs you get back may not be the same as the order in which you added them.\n",
    "\n",
    "- Instead of relying on order, you retrieve data from a dictionary by its key. This is a constant-time (O(1)) operation on average, making dictionaries extremely fast for key-based lookups, regardless of how many items they contain.\n",
    "\n",
    "- In essence, you don't retrieve the \"fifth\" element of a dictionary; you retrieve the value associated with a specific key, like my_dict[\"name\"]. The unordered nature is a trade-off for the exceptional speed of key-based access."
   ]
  },
  {
   "cell_type": "markdown",
   "id": "7431e81c",
   "metadata": {},
   "source": [
    "## 20. Explain the difference between a list and a dictionary in terms of data retrieval."
   ]
  },
  {
   "cell_type": "markdown",
   "id": "8e45c005",
   "metadata": {},
   "source": [
    "Answer -> \n",
    "\n",
    "\n",
    "The key difference in data retrieval between a list and a dictionary is how you access the elements: you retrieve items from a list by their position (index), while you retrieve items from a dictionary by their key. This fundamental distinction also affects their performance.\n",
    "\n",
    "- Data Retrieval in a List :\n",
    "In a list, data is stored in a sequential, ordered manner. To retrieve an item, you must know its numeric index. For example, my_list[0] gives you the first item, and my_list[3] gives you the fourth. This is similar to finding a word in a book by its page number.\n",
    "\n",
    "The time complexity for this is generally O(1) for direct index access, but finding a specific value (without knowing its index) requires a linear search, which has a time complexity of O(n).\n",
    "\n",
    "- Data Retrieval in a Dictionary :\n",
    "In a dictionary, data is stored as key-value pairs. To retrieve a value, you must use its associated key. For example, my_dict['name'] retrieves the value connected to the key 'name'. This is like looking up a word in a physical dictionary—you don't go to page 50; you go to the word you want.\n",
    "\n",
    "Dictionary retrieval is extremely fast, with an average time complexity of O(1), because it uses a hash table to jump directly to the memory location of the value. The performance is not dependent on the size of the dictionary."
   ]
  },
  {
   "cell_type": "markdown",
   "id": "d4da9f8c",
   "metadata": {},
   "source": [
    "# Practical Questions"
   ]
  },
  {
   "cell_type": "markdown",
   "id": "4352f44d",
   "metadata": {},
   "source": [
    "### 1. Write a code to create a string with your name and print it."
   ]
  },
  {
   "cell_type": "code",
   "execution_count": 21,
   "id": "7ee4b1fa",
   "metadata": {},
   "outputs": [
    {
     "name": "stdout",
     "output_type": "stream",
     "text": [
      "Name: Niteesh Prajapati, Length: 17\n"
     ]
    }
   ],
   "source": [
    "name = \"Niteesh Prajapati\"\n",
    "print(f\"Name: {name}, Length: {len(name)}\")  # Output: Name: Niteesh Prajapati, Length: 20"
   ]
  },
  {
   "cell_type": "markdown",
   "id": "ffc52353",
   "metadata": {},
   "source": [
    "### 2. Write a code to find the length of the string \"Hello World\"."
   ]
  },
  {
   "cell_type": "code",
   "execution_count": 22,
   "id": "4cb2da29",
   "metadata": {},
   "outputs": [
    {
     "name": "stdout",
     "output_type": "stream",
     "text": [
      "Length of the string 'Hello World': 11\n"
     ]
    }
   ],
   "source": [
    "string = \"Hello World\"\n",
    "length_of_string = len(string)\n",
    "print(f\"Length of the string '{string}': {length_of_string}\")  # Output: Length of the string 'Hello World': 11"
   ]
  },
  {
   "cell_type": "markdown",
   "id": "9c0226bc",
   "metadata": {},
   "source": [
    "### 3. Write a code to slice the first 3 characters from the string \"Python Programming\"."
   ]
  },
  {
   "cell_type": "code",
   "execution_count": 23,
   "id": "f146edcb",
   "metadata": {},
   "outputs": [
    {
     "name": "stdout",
     "output_type": "stream",
     "text": [
      "First 3 characters of 'Python Programming': Pyt\n"
     ]
    }
   ],
   "source": [
    "string = \"Python Programming\"\n",
    "sliced_string = string[:3]\n",
    "print(f\"First 3 characters of '{string}': {sliced_string}\")  #"
   ]
  },
  {
   "cell_type": "markdown",
   "id": "ecd59c10",
   "metadata": {},
   "source": [
    "### 4. Write a code to convert the string \"hello\" to uppercase."
   ]
  },
  {
   "cell_type": "code",
   "execution_count": 24,
   "id": "5f41af74",
   "metadata": {},
   "outputs": [
    {
     "name": "stdout",
     "output_type": "stream",
     "text": [
      "Uppercase version of 'hello': HELLO\n"
     ]
    }
   ],
   "source": [
    "string =\"hello\"\n",
    "uppercase_string = string.upper()\n",
    "print(f\"Uppercase version of '{string}': {uppercase_string}\")  # Output: Uppercase version of 'hello': HELLO"
   ]
  },
  {
   "cell_type": "markdown",
   "id": "f6b1846c",
   "metadata": {},
   "source": [
    "### 5. Write a code to replace the word \"apple\" with \"orange\" in the string \"I like apple\"."
   ]
  },
  {
   "cell_type": "code",
   "execution_count": 25,
   "id": "443400b0",
   "metadata": {},
   "outputs": [
    {
     "name": "stdout",
     "output_type": "stream",
     "text": [
      "Replaced string: I like orange\n"
     ]
    }
   ],
   "source": [
    "string = \"I like apple\"\n",
    "replaced_string = string.replace(\"apple\", \"orange\")\n",
    "print(f\"Replaced string: {replaced_string}\")  # Output: Replaced string: I like orange"
   ]
  },
  {
   "cell_type": "markdown",
   "id": "ec5bc580",
   "metadata": {},
   "source": [
    "### 6. Write a code to create a list with numbers 1 to 5 and print it."
   ]
  },
  {
   "cell_type": "code",
   "execution_count": 26,
   "id": "a3dd7562",
   "metadata": {},
   "outputs": [
    {
     "name": "stdout",
     "output_type": "stream",
     "text": [
      "List of numbers from 1 to 5: [1, 2, 3, 4, 5]\n"
     ]
    }
   ],
   "source": [
    "Num = list(range(1, 6))\n",
    "print(f\"List of numbers from 1 to 5: {Num}\")  # Output: List of numbers from 1 to 5: [1, 2, 3, 4, 5]"
   ]
  },
  {
   "cell_type": "markdown",
   "id": "a5916c9f",
   "metadata": {},
   "source": [
    "### 7. Write a code to append the number 10 to the list [1, 2, 3, 4].\n"
   ]
  },
  {
   "cell_type": "code",
   "execution_count": 27,
   "id": "31477c57",
   "metadata": {},
   "outputs": [
    {
     "name": "stdout",
     "output_type": "stream",
     "text": [
      "List after appending 10: [1, 2, 3, 4, 10]\n"
     ]
    }
   ],
   "source": [
    "num = [1, 2, 3, 4]\n",
    "num.append(10)\n",
    "print(f\"List after appending 10: {num}\")  # Output: List after appending 10: [1, 2, 3, 4, 10]"
   ]
  },
  {
   "cell_type": "markdown",
   "id": "75ec8f42",
   "metadata": {},
   "source": [
    "### 8. Write a code to remove the number 3 from the list [1, 2, 3, 4, 5]."
   ]
  },
  {
   "cell_type": "code",
   "execution_count": 28,
   "id": "35e4a793",
   "metadata": {},
   "outputs": [
    {
     "name": "stdout",
     "output_type": "stream",
     "text": [
      "List after removing 3: [1, 2, 4, 5]\n"
     ]
    }
   ],
   "source": [
    "num_list = [1, 2, 3, 4, 5]\n",
    "num_list.remove(3)\n",
    "print(f\"List after removing 3: {num_list}\")  # Output: List after removing 3: [1, 2, 4, 5]"
   ]
  },
  {
   "cell_type": "markdown",
   "id": "3fc85c4a",
   "metadata": {},
   "source": [
    "### 9. Write a code to access the second element in the list ['a', 'b', 'c', 'd']."
   ]
  },
  {
   "cell_type": "code",
   "execution_count": 29,
   "id": "2b272a37",
   "metadata": {},
   "outputs": [
    {
     "name": "stdout",
     "output_type": "stream",
     "text": [
      "Second element in the list: b\n"
     ]
    }
   ],
   "source": [
    "alpha_list = ['a', 'b', 'c', 'd']\n",
    "second_element = alpha_list[1]\n",
    "print(f\"Second element in the list: {second_element}\")  # Output: Second element in the list: b"
   ]
  },
  {
   "cell_type": "markdown",
   "id": "170a87d3",
   "metadata": {},
   "source": [
    "### 10. Write a code to reverse the list [10, 20, 30, 40, 50]."
   ]
  },
  {
   "cell_type": "code",
   "execution_count": 30,
   "id": "b506a946",
   "metadata": {},
   "outputs": [
    {
     "name": "stdout",
     "output_type": "stream",
     "text": [
      "Reversed list: [50, 40, 30, 20, 10]\n"
     ]
    }
   ],
   "source": [
    "num_list = [10,20, 30, 40, 50]\n",
    "num_list.reverse()\n",
    "print(f\"Reversed list: {num_list}\")  # Output: Reversed list: [50, 40, 30, 20, 10]"
   ]
  },
  {
   "cell_type": "markdown",
   "id": "e559efc1",
   "metadata": {},
   "source": [
    "### 11. Write a code to create a tuple with the elements 100, 200, 300 and print it."
   ]
  },
  {
   "cell_type": "code",
   "execution_count": 31,
   "id": "293dbad2",
   "metadata": {},
   "outputs": [
    {
     "name": "stdout",
     "output_type": "stream",
     "text": [
      "Tuple with elements 100, 200, 300: (100, 200, 300)\n"
     ]
    }
   ],
   "source": [
    "num_tuple = (100, 200, 300)\n",
    "print(f\"Tuple with elements 100, 200, 300: {num_tuple}\")"
   ]
  },
  {
   "cell_type": "markdown",
   "id": "97ebc629",
   "metadata": {},
   "source": [
    "###  12. Write a code to access the second-to-last element of the tuple ('red', 'green', 'blue', 'yellow')."
   ]
  },
  {
   "cell_type": "code",
   "execution_count": 32,
   "id": "6b7c2c5e",
   "metadata": {},
   "outputs": [
    {
     "name": "stdout",
     "output_type": "stream",
     "text": [
      "Second-to-last color in the tuple: ('green', 'blue', 'yellow')\n"
     ]
    }
   ],
   "source": [
    "tuple_colors = ('red', 'green', 'blue', 'yellow')\n",
    "second_to_last_color = tuple_colors[1:]\n",
    "print(f\"Second-to-last color in the tuple: {second_to_last_color}\")  # Output: Second-to-last color in the tuple: green, blue, yellow"
   ]
  },
  {
   "cell_type": "markdown",
   "id": "d2760bc9",
   "metadata": {},
   "source": [
    "### 13. Write a code to find the minimum number in the tuple (10, 20, 5, 15)."
   ]
  },
  {
   "cell_type": "code",
   "execution_count": 33,
   "id": "fe09546d",
   "metadata": {},
   "outputs": [
    {
     "name": "stdout",
     "output_type": "stream",
     "text": [
      "Minimum number in the tuple: 5\n"
     ]
    }
   ],
   "source": [
    "num_tuple =(10,20, 5, 15)\n",
    "min_number = min(num_tuple)\n",
    "print(f\"Minimum number in the tuple: {min_number}\")  # Output: Minimum number in the tuple: 5"
   ]
  },
  {
   "cell_type": "markdown",
   "id": "b22ed00c",
   "metadata": {},
   "source": [
    "### 14. Write a code to find the index of the element \"cat\" in the tuple ('dog', 'cat', 'rabbit')."
   ]
  },
  {
   "cell_type": "code",
   "execution_count": 34,
   "id": "069cbfb1",
   "metadata": {},
   "outputs": [
    {
     "name": "stdout",
     "output_type": "stream",
     "text": [
      "Index of 'cat' in the tuple: 1\n"
     ]
    }
   ],
   "source": [
    "tuple = ('dog', 'cat', 'rabbit')\n",
    "index_of_cat = tuple.index('cat')\n",
    "print(f\"Index of 'cat' in the tuple: {index_of_cat}\")  # Output: Index of 'cat' in the tuple: 1"
   ]
  },
  {
   "cell_type": "markdown",
   "id": "6173817e",
   "metadata": {},
   "source": [
    "### 15. Write a code to create a tuple containing three different fruits and check if \"kiwi\" is in it."
   ]
  },
  {
   "cell_type": "code",
   "execution_count": 35,
   "id": "5d29b096",
   "metadata": {},
   "outputs": [
    {
     "name": "stdout",
     "output_type": "stream",
     "text": [
      "Is 'kiwi' in the tuple? True\n"
     ]
    }
   ],
   "source": [
    "fruit_tuple = ('apple', 'banana', 'kiwi')\n",
    "is_kiwi_present = \"kiwi\" in fruit_tuple\n",
    "print(f\"Is 'kiwi' in the tuple? {is_kiwi_present}\")"
   ]
  },
  {
   "cell_type": "markdown",
   "id": "a981623f",
   "metadata": {},
   "source": [
    "### 16. Write a code to create a set with the elements 'a', 'b', 'c' and print it."
   ]
  },
  {
   "cell_type": "code",
   "execution_count": 36,
   "id": "714e389a",
   "metadata": {},
   "outputs": [
    {
     "name": "stdout",
     "output_type": "stream",
     "text": [
      "Set with elements 'a', 'b', 'c': {'b', 'a', 'c'}\n"
     ]
    }
   ],
   "source": [
    "set_example = {'a', 'b', 'c'}\n",
    "print(f\"Set with elements 'a', 'b', 'c': {set_example}\")"
   ]
  },
  {
   "cell_type": "markdown",
   "id": "ee5a7f26",
   "metadata": {},
   "source": [
    "### 17. Write a code to clear all elements from the set {1, 2, 3, 4, 5}."
   ]
  },
  {
   "cell_type": "code",
   "execution_count": 37,
   "id": "bfaf9e0b",
   "metadata": {},
   "outputs": [
    {
     "name": "stdout",
     "output_type": "stream",
     "text": [
      "Set after clearing all elements: set()\n"
     ]
    }
   ],
   "source": [
    "set_example = {1,2,3,4,5}\n",
    "set_example.clear()\n",
    "print(f\"Set after clearing all elements: {set_example}\")  # Output: Set after clearing all elements: set()"
   ]
  },
  {
   "cell_type": "markdown",
   "id": "98935d7d",
   "metadata": {},
   "source": [
    "### 18. Write a code to remove the element 4 from the set {1, 2, 3, 4}."
   ]
  },
  {
   "cell_type": "code",
   "execution_count": 38,
   "id": "1e79ca6e",
   "metadata": {},
   "outputs": [
    {
     "name": "stdout",
     "output_type": "stream",
     "text": [
      "Set after removing 4: {1, 2, 3}\n"
     ]
    }
   ],
   "source": [
    "set_example = {1,2,3,4}\n",
    "set_example.remove(4)\n",
    "print(f\"Set after removing 4: {set_example}\")  # Output: Set after removing 4: {1, 2, 3}"
   ]
  },
  {
   "cell_type": "markdown",
   "id": "a34e90da",
   "metadata": {},
   "source": [
    "### 19. Write a code to find the union of two sets {1, 2, 3} and {3, 4, 5}."
   ]
  },
  {
   "cell_type": "code",
   "execution_count": 39,
   "id": "7fc19e3c",
   "metadata": {},
   "outputs": [
    {
     "name": "stdout",
     "output_type": "stream",
     "text": [
      "Union of sets {1, 2, 3} and {3, 4, 5}: {1, 2, 3, 4, 5}\n"
     ]
    }
   ],
   "source": [
    "set_A = {1, 2, 3}\n",
    "set_B = {3, 4, 5}\n",
    "set_union = set_A.union(set_B)\n",
    "print(f\"Union of sets {set_A} and {set_B}: {set_union}\")"
   ]
  },
  {
   "cell_type": "markdown",
   "id": "f57f8b96",
   "metadata": {},
   "source": [
    "### 20.  Write a code to find the intersection of two sets {1, 2, 3} and {2, 3, 4}."
   ]
  },
  {
   "cell_type": "code",
   "execution_count": 40,
   "id": "17e26632",
   "metadata": {},
   "outputs": [
    {
     "name": "stdout",
     "output_type": "stream",
     "text": [
      "Intersection of sets {1, 2, 3} and {2, 3, 4}: {2, 3}\n"
     ]
    }
   ],
   "source": [
    "set_A = {1, 2, 3}\n",
    "set_B = {2, 3, 4}\n",
    "set_intersection = set_A.intersection(set_B)\n",
    "print(f\"Intersection of sets {set_A} and {set_B}: {set_intersection}\")"
   ]
  },
  {
   "cell_type": "markdown",
   "id": "b297746c",
   "metadata": {},
   "source": [
    "### 21. Write a code to create a dictionary with the keys \"name\", \"age\", and \"city\", and print it."
   ]
  },
  {
   "cell_type": "code",
   "execution_count": 41,
   "id": "979dcd69",
   "metadata": {},
   "outputs": [
    {
     "name": "stdout",
     "output_type": "stream",
     "text": [
      "Dictionary with keys 'name', 'age', and 'city': {'name': 'Alice', 'age': 30, 'city': 'New York'}\n"
     ]
    }
   ],
   "source": [
    "dictionary_example = {\n",
    "    \"name\": \"Alice\",\n",
    "    \"age\": 30,\n",
    "    \"city\": \"New York\"}\n",
    "print(f\"Dictionary with keys 'name', 'age', and 'city': {dictionary_example}\")"
   ]
  },
  {
   "cell_type": "markdown",
   "id": "949f32f0",
   "metadata": {},
   "source": [
    "### 22. Write a code to add a new key-value pair \"country\": \"USA\" to the dictionary {'name': 'John', 'age': 25}."
   ]
  },
  {
   "cell_type": "code",
   "execution_count": 45,
   "id": "9c746e51",
   "metadata": {},
   "outputs": [
    {
     "name": "stdout",
     "output_type": "stream",
     "text": [
      "Dictionary with keys 'name', 'age', 'city' and 'country' : {'name': 'Alice', 'age': 30, 'city': 'New York', 'country': 'USA'}\n"
     ]
    }
   ],
   "source": [
    "dictionary_example = {\n",
    "    \"name\": \"Alice\",\n",
    "    \"age\": 30,\n",
    "    \"city\": \"New York\"}\n",
    "add_new_key = \"country\"\n",
    "dictionary_example[add_new_key] = \"USA\"\n",
    "print(f\"Dictionary with keys 'name', 'age', 'city' and 'country' : {dictionary_example}\")"
   ]
  },
  {
   "cell_type": "markdown",
   "id": "b6a2afe4",
   "metadata": {},
   "source": [
    "### 23. Write a code to access the value associated with the key \"name\" in the dictionary {'name': 'Alice', 'age': 30}."
   ]
  },
  {
   "cell_type": "code",
   "execution_count": 48,
   "id": "3d6b74b7",
   "metadata": {},
   "outputs": [
    {
     "name": "stdout",
     "output_type": "stream",
     "text": [
      "the value associated with the key 'name': Alice\n"
     ]
    }
   ],
   "source": [
    "dictionary_example = {\n",
    "    \"name\": \"Alice\",\n",
    "    \"age\": 30,\n",
    "    \"city\": \"New York\"}\n",
    "print(f\"the value associated with the key 'name': {dictionary_example['name']}\")  # Output: the value associated with the key \"name\": Alice"
   ]
  },
  {
   "cell_type": "markdown",
   "id": "ee93c466",
   "metadata": {},
   "source": [
    "### 24. Write a code to remove the key \"age\" from the dictionary {'name': 'Bob', 'age': 22, 'city': 'New York'}."
   ]
  },
  {
   "cell_type": "code",
   "execution_count": 49,
   "id": "1aab4022",
   "metadata": {},
   "outputs": [
    {
     "name": "stdout",
     "output_type": "stream",
     "text": [
      "Dictionary after removing 'age': {'name': 'Bob', 'city': 'New York'}\n"
     ]
    }
   ],
   "source": [
    "dictionary = {'name': 'Bob', 'age': 22, 'city': 'New York'}\n",
    "del dictionary['age']\n",
    "print(f\"Dictionary after removing 'age': {dictionary}\")  # Output: Dictionary after removing 'age': {'name': 'Bob', 'city': 'New York'}"
   ]
  },
  {
   "cell_type": "markdown",
   "id": "b262487b",
   "metadata": {},
   "source": [
    "### 25. Write a code to check if the key \"city\" exists in the dictionary {'name': 'Alice', 'city': 'Paris'}."
   ]
  },
  {
   "cell_type": "code",
   "execution_count": 50,
   "id": "2cd51712",
   "metadata": {},
   "outputs": [
    {
     "name": "stdout",
     "output_type": "stream",
     "text": [
      "The key 'city' exists in the dictionary with value: Paris\n"
     ]
    }
   ],
   "source": [
    "dictionary = {'name': 'Alice', 'city': 'Paris'}\n",
    "if 'city' in dictionary:\n",
    "    print(f\"The key 'city' exists in the dictionary with value: {dictionary['city']}\")  # Output: The key 'city' exists in the dictionary with value: Paris"
   ]
  },
  {
   "cell_type": "markdown",
   "id": "6ebdc584",
   "metadata": {},
   "source": [
    "### 26. Write a code to create a list, a tuple, and a dictionary, and print them all. "
   ]
  },
  {
   "cell_type": "code",
   "execution_count": 51,
   "id": "94929842",
   "metadata": {},
   "outputs": [
    {
     "name": "stdout",
     "output_type": "stream",
     "text": [
      "List: [1, 2, 3], Tuple: (4, 5, 6), Dictionary: {'name': 'Alice', 'age': 30, 'city': 'New York'}\n"
     ]
    }
   ],
   "source": [
    "list_example = [1, 2, 3]\n",
    "tuple_example = (4, 5, 6)\n",
    "dictionary_example = {\n",
    "    \"name\": \"Alice\",\n",
    "    \"age\": 30,\n",
    "    \"city\": \"New York\"\n",
    "}\n",
    "print(f\"List: {list_example}, Tuple: {tuple_example}, Dictionary: {dictionary_example}\")"
   ]
  },
  {
   "cell_type": "markdown",
   "id": "3ffaf0e7",
   "metadata": {},
   "source": [
    "### 27.  Write a code to create a list of 5 random numbers between 1 and 100, sort it in ascending order, and print the result.(replaced)\n",
    "\n"
   ]
  },
  {
   "cell_type": "code",
   "execution_count": 54,
   "id": "bcf9d936",
   "metadata": {},
   "outputs": [
    {
     "name": "stdout",
     "output_type": "stream",
     "text": [
      "Original list: [83, 38, 60, 55, 56]\n",
      "Sorted list: [38, 55, 56, 60, 83]\n"
     ]
    }
   ],
   "source": [
    "import random\n",
    "\n",
    "# Create a list of 5 random numbers between 1 and 100\n",
    "random_numbers = [random.randint(1, 100) for _ in range(5)]\n",
    "print(f\"Original list: {random_numbers}\")\n",
    "\n",
    "# Sort the list in ascending order\n",
    "random_numbers.sort()\n",
    "\n",
    "# Print the sorted list\n",
    "print(f\"Sorted list: {random_numbers}\")\n"
   ]
  },
  {
   "cell_type": "markdown",
   "id": "27c688ac",
   "metadata": {},
   "source": [
    "### 28. Write a code to create a list with strings and print the element at the third index."
   ]
  },
  {
   "cell_type": "code",
   "execution_count": 55,
   "id": "e8edfc02",
   "metadata": {},
   "outputs": [
    {
     "name": "stdout",
     "output_type": "stream",
     "text": [
      "Element at the third index: date\n"
     ]
    }
   ],
   "source": [
    "list = [\"apple\", \"banana\", \"cherry\", \"date\", \"elderberry\"]\n",
    "print(f\"Element at the third index: {list[3]}\")  # Output: Element at the third index: date"
   ]
  },
  {
   "cell_type": "markdown",
   "id": "de33d282",
   "metadata": {},
   "source": [
    "### 29.  Write a code to combine two dictionaries into one and print the result."
   ]
  },
  {
   "cell_type": "code",
   "execution_count": 59,
   "id": "fc3bf47b",
   "metadata": {},
   "outputs": [
    {
     "name": "stdout",
     "output_type": "stream",
     "text": [
      "Combined dictionary: {'name': 'Alice', 'age': 30, 'city': 'New York', 'country': 'USA'}\n"
     ]
    }
   ],
   "source": [
    "dict_1 = {\"name\": \"Alice\", \"age\": 30}\n",
    "dict_2 = {\"city\": \"New York\", \"country\": \"USA\"}\n",
    "combined_dict = {**dict_1, **dict_2}\n",
    "#combined_dict = {dict_1 , dict_2} // This will raise a TypeError\n",
    "print(f\"Combined dictionary: {combined_dict}\")  # Output: Combined dictionary: {'name': 'Alice', 'age': 30, 'city': 'New York', 'country': 'USA'}"
   ]
  },
  {
   "cell_type": "markdown",
   "id": "2f06f67e",
   "metadata": {},
   "source": [
    "### 30. Write a code to convert a list of strings into a set."
   ]
  },
  {
   "cell_type": "code",
   "execution_count": 60,
   "id": "d06daeb3",
   "metadata": {},
   "outputs": [
    {
     "name": "stdout",
     "output_type": "stream",
     "text": [
      "Set created from the list: {'date', 'apple', 'elderberry', 'banana', 'cherry'}\n"
     ]
    }
   ],
   "source": [
    "list = [\"apple\", \"banana\", \"cherry\", \"date\", \"elderberry\"]\n",
    "set_from_list = set(list)\n",
    "print(f\"Set created from the list: {set_from_list}\")  # Output: Set created from the list: {'apple', 'banana', 'cherry', 'date', 'elderberry'}"
   ]
  }
 ],
 "metadata": {
  "kernelspec": {
   "display_name": "base",
   "language": "python",
   "name": "python3"
  },
  "language_info": {
   "codemirror_mode": {
    "name": "ipython",
    "version": 3
   },
   "file_extension": ".py",
   "mimetype": "text/x-python",
   "name": "python",
   "nbconvert_exporter": "python",
   "pygments_lexer": "ipython3",
   "version": "3.13.5"
  }
 },
 "nbformat": 4,
 "nbformat_minor": 5
}
